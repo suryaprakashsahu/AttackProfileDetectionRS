{
 "cells": [
  {
   "cell_type": "code",
   "execution_count": 1,
   "metadata": {
    "collapsed": true
   },
   "outputs": [],
   "source": [
    "import numpy as np\n",
    "from scipy import spatial,stats\n",
    "import pandas as pd\n",
    "import time\n",
    "import math\n",
    "import matplotlib.pyplot as plt\n",
    "%matplotlib inline"
   ]
  },
  {
   "cell_type": "code",
   "execution_count": 2,
   "metadata": {
    "collapsed": true
   },
   "outputs": [],
   "source": [
    "window_items =  [256, 1, 2, 3, 4, 5, 6, 7, 8, 9, 10, 11, 12, 13, 257, 17, 205, 206, 207, 210, 211, 84, 212, 213, 214, 215, 216, 217, 219, 220, 249, 233, 234, 235, 236, 239, 241, 243, 244, 245, 246, 247, 248, 121, 250, 251, 252, 253, 254, 255] \n",
    "target_items =  [100, 441, 453, 510, 592, 594, 694, 832, 1054] "
   ]
  },
  {
   "cell_type": "code",
   "execution_count": 3,
   "metadata": {
    "collapsed": false
   },
   "outputs": [
    {
     "name": "stdout",
     "output_type": "stream",
     "text": [
      "/media/thepurpleowl/FCC8B519C8B4D35E/Academics_research/research/BKPatra/Attacks_RS/AttackProfileDetectionRS/filmtrust/Item-Based-Recommendation\n",
      "/media/thepurpleowl/FCC8B519C8B4D35E/Academics_research/research/BKPatra/Attacks_RS/AttackProfileDetectionRS/filmtrust/Item-Based-Recommendation/../data/ratings.txt\n"
     ]
    }
   ],
   "source": [
    "import os,sys\n",
    "my_path = os.getcwd()\n",
    "print (my_path)\n",
    "path = os.path.join(my_path, \"../data/ratings.txt\")\n",
    "print (path)"
   ]
  },
  {
   "cell_type": "code",
   "execution_count": 34,
   "metadata": {
    "collapsed": true
   },
   "outputs": [],
   "source": [
    "train = pd.read_csv(path,sep=' ',header=None,names=['userId','itemId','rating'])"
   ]
  },
  {
   "cell_type": "code",
   "execution_count": 35,
   "metadata": {
    "collapsed": false
   },
   "outputs": [
    {
     "data": {
      "text/html": [
       "<div>\n",
       "<table border=\"1\" class=\"dataframe\">\n",
       "  <thead>\n",
       "    <tr style=\"text-align: right;\">\n",
       "      <th></th>\n",
       "      <th>userId</th>\n",
       "      <th>itemId</th>\n",
       "      <th>rating</th>\n",
       "    </tr>\n",
       "  </thead>\n",
       "  <tbody>\n",
       "    <tr>\n",
       "      <th>count</th>\n",
       "      <td>35497.000000</td>\n",
       "      <td>35497.000000</td>\n",
       "      <td>35497.000000</td>\n",
       "    </tr>\n",
       "    <tr>\n",
       "      <th>mean</th>\n",
       "      <td>744.247824</td>\n",
       "      <td>265.524946</td>\n",
       "      <td>3.002803</td>\n",
       "    </tr>\n",
       "    <tr>\n",
       "      <th>std</th>\n",
       "      <td>433.199457</td>\n",
       "      <td>346.854769</td>\n",
       "      <td>0.918692</td>\n",
       "    </tr>\n",
       "    <tr>\n",
       "      <th>min</th>\n",
       "      <td>1.000000</td>\n",
       "      <td>1.000000</td>\n",
       "      <td>0.500000</td>\n",
       "    </tr>\n",
       "    <tr>\n",
       "      <th>25%</th>\n",
       "      <td>356.000000</td>\n",
       "      <td>12.000000</td>\n",
       "      <td>2.500000</td>\n",
       "    </tr>\n",
       "    <tr>\n",
       "      <th>50%</th>\n",
       "      <td>735.000000</td>\n",
       "      <td>216.000000</td>\n",
       "      <td>3.000000</td>\n",
       "    </tr>\n",
       "    <tr>\n",
       "      <th>75%</th>\n",
       "      <td>1130.000000</td>\n",
       "      <td>251.000000</td>\n",
       "      <td>4.000000</td>\n",
       "    </tr>\n",
       "    <tr>\n",
       "      <th>max</th>\n",
       "      <td>1508.000000</td>\n",
       "      <td>2071.000000</td>\n",
       "      <td>4.000000</td>\n",
       "    </tr>\n",
       "  </tbody>\n",
       "</table>\n",
       "</div>"
      ],
      "text/plain": [
       "             userId        itemId        rating\n",
       "count  35497.000000  35497.000000  35497.000000\n",
       "mean     744.247824    265.524946      3.002803\n",
       "std      433.199457    346.854769      0.918692\n",
       "min        1.000000      1.000000      0.500000\n",
       "25%      356.000000     12.000000      2.500000\n",
       "50%      735.000000    216.000000      3.000000\n",
       "75%     1130.000000    251.000000      4.000000\n",
       "max     1508.000000   2071.000000      4.000000"
      ]
     },
     "execution_count": 35,
     "metadata": {},
     "output_type": "execute_result"
    }
   ],
   "source": [
    "train.describe()"
   ]
  },
  {
   "cell_type": "markdown",
   "metadata": {},
   "source": [
    "### Actual Average Rating of each item "
   ]
  },
  {
   "cell_type": "code",
   "execution_count": 36,
   "metadata": {
    "collapsed": true
   },
   "outputs": [],
   "source": [
    "calculated_Rating = {}\n",
    "items = train['itemId'].unique()\n",
    "\n",
    "#rating\n",
    "R = train.groupby(['itemId'])['rating'].mean()\n",
    "for i in items:\n",
    "#     print (i)\n",
    "    calculated_Rating[i] = R[i]\n",
    "    \n",
    "# print (calculated_Rating)"
   ]
  },
  {
   "cell_type": "code",
   "execution_count": 37,
   "metadata": {
    "collapsed": true
   },
   "outputs": [],
   "source": [
    "test = pd.DataFrame()\n",
    "for t_i in target_items:\n",
    "    temp_df = train[train['itemId'] == t_i]\n",
    "    train =  train.drop(train[train['itemId'] == t_i].index)\n",
    "    test = pd.concat([temp_df, test]).drop_duplicates(keep=False)"
   ]
  },
  {
   "cell_type": "code",
   "execution_count": 38,
   "metadata": {
    "collapsed": false
   },
   "outputs": [
    {
     "data": {
      "text/plain": [
       "(77, 3)"
      ]
     },
     "execution_count": 38,
     "metadata": {},
     "output_type": "execute_result"
    }
   ],
   "source": [
    "test.shape"
   ]
  },
  {
   "cell_type": "markdown",
   "metadata": {},
   "source": [
    "### testing code of divising test/target data\n",
    "table = [['Heading1', 'Heading2'], [1 , 1],[1 , 2],[1 , 3],[1 , 4], [1,5],[2 , 1],[2 , 2],[2 , 3],[2 , 4],[3, 1],[3, 2],[3, 3],[3, 4]]  \n",
    "headers = table.pop(0)  \n",
    "df = pd.DataFrame(table, columns=headers)"
   ]
  },
  {
   "cell_type": "code",
   "execution_count": 39,
   "metadata": {
    "collapsed": true
   },
   "outputs": [],
   "source": [
    "dfs = {n: g for n, g in test.groupby(test.groupby('itemId').cumcount() % 10)} \n",
    "test = pd.concat([dfs[0],dfs[1]], ignore_index=False)\n",
    "train = pd.concat([train,dfs[2],dfs[3],dfs[4]], ignore_index=False)\n",
    "del_data = pd.concat([dfs[6],dfs[7],dfs[8],dfs[9]], ignore_index=False)"
   ]
  },
  {
   "cell_type": "code",
   "execution_count": 40,
   "metadata": {
    "collapsed": false
   },
   "outputs": [
    {
     "data": {
      "text/plain": [
       "35449"
      ]
     },
     "execution_count": 40,
     "metadata": {},
     "output_type": "execute_result"
    }
   ],
   "source": [
    "train.shape[0]"
   ]
  },
  {
   "cell_type": "code",
   "execution_count": 41,
   "metadata": {
    "collapsed": false
   },
   "outputs": [
    {
     "data": {
      "text/plain": [
       "35488"
      ]
     },
     "execution_count": 41,
     "metadata": {},
     "output_type": "execute_result"
    }
   ],
   "source": [
    "test.shape[0] + train.shape[0] + del_data.shape[0]"
   ]
  },
  {
   "cell_type": "code",
   "execution_count": 42,
   "metadata": {
    "collapsed": false
   },
   "outputs": [
    {
     "data": {
      "text/html": [
       "<div>\n",
       "<table border=\"1\" class=\"dataframe\">\n",
       "  <thead>\n",
       "    <tr style=\"text-align: right;\">\n",
       "      <th></th>\n",
       "      <th>userId</th>\n",
       "      <th>itemId</th>\n",
       "      <th>rating</th>\n",
       "    </tr>\n",
       "  </thead>\n",
       "  <tbody>\n",
       "    <tr>\n",
       "      <th>27518</th>\n",
       "      <td>1157</td>\n",
       "      <td>592</td>\n",
       "      <td>0.5</td>\n",
       "    </tr>\n",
       "    <tr>\n",
       "      <th>3474</th>\n",
       "      <td>161</td>\n",
       "      <td>510</td>\n",
       "      <td>2.5</td>\n",
       "    </tr>\n",
       "    <tr>\n",
       "      <th>3333</th>\n",
       "      <td>161</td>\n",
       "      <td>453</td>\n",
       "      <td>2.5</td>\n",
       "    </tr>\n",
       "    <tr>\n",
       "      <th>1847</th>\n",
       "      <td>91</td>\n",
       "      <td>441</td>\n",
       "      <td>3.5</td>\n",
       "    </tr>\n",
       "    <tr>\n",
       "      <th>4273</th>\n",
       "      <td>188</td>\n",
       "      <td>100</td>\n",
       "      <td>3.0</td>\n",
       "    </tr>\n",
       "  </tbody>\n",
       "</table>\n",
       "</div>"
      ],
      "text/plain": [
       "       userId  itemId  rating\n",
       "27518    1157     592     0.5\n",
       "3474      161     510     2.5\n",
       "3333      161     453     2.5\n",
       "1847       91     441     3.5\n",
       "4273      188     100     3.0"
      ]
     },
     "execution_count": 42,
     "metadata": {},
     "output_type": "execute_result"
    }
   ],
   "source": [
    "test.tail(5)"
   ]
  },
  {
   "cell_type": "code",
   "execution_count": 43,
   "metadata": {
    "collapsed": false
   },
   "outputs": [
    {
     "data": {
      "text/html": [
       "<div>\n",
       "<table border=\"1\" class=\"dataframe\">\n",
       "  <thead>\n",
       "    <tr style=\"text-align: right;\">\n",
       "      <th></th>\n",
       "      <th>userId</th>\n",
       "      <th>itemId</th>\n",
       "      <th>rating</th>\n",
       "    </tr>\n",
       "  </thead>\n",
       "  <tbody>\n",
       "    <tr>\n",
       "      <th>7941</th>\n",
       "      <td>323</td>\n",
       "      <td>592</td>\n",
       "      <td>1.5</td>\n",
       "    </tr>\n",
       "    <tr>\n",
       "      <th>6346</th>\n",
       "      <td>272</td>\n",
       "      <td>510</td>\n",
       "      <td>2.5</td>\n",
       "    </tr>\n",
       "    <tr>\n",
       "      <th>8003</th>\n",
       "      <td>323</td>\n",
       "      <td>453</td>\n",
       "      <td>0.5</td>\n",
       "    </tr>\n",
       "    <tr>\n",
       "      <th>19715</th>\n",
       "      <td>824</td>\n",
       "      <td>441</td>\n",
       "      <td>4.0</td>\n",
       "    </tr>\n",
       "    <tr>\n",
       "      <th>32493</th>\n",
       "      <td>1386</td>\n",
       "      <td>100</td>\n",
       "      <td>3.5</td>\n",
       "    </tr>\n",
       "  </tbody>\n",
       "</table>\n",
       "</div>"
      ],
      "text/plain": [
       "       userId  itemId  rating\n",
       "7941      323     592     1.5\n",
       "6346      272     510     2.5\n",
       "8003      323     453     0.5\n",
       "19715     824     441     4.0\n",
       "32493    1386     100     3.5"
      ]
     },
     "execution_count": 43,
     "metadata": {},
     "output_type": "execute_result"
    }
   ],
   "source": [
    "train.tail(5)"
   ]
  },
  {
   "cell_type": "code",
   "execution_count": 44,
   "metadata": {
    "collapsed": false
   },
   "outputs": [
    {
     "data": {
      "text/html": [
       "<div>\n",
       "<table border=\"1\" class=\"dataframe\">\n",
       "  <thead>\n",
       "    <tr style=\"text-align: right;\">\n",
       "      <th></th>\n",
       "      <th>userId</th>\n",
       "      <th>itemId</th>\n",
       "      <th>rating</th>\n",
       "    </tr>\n",
       "  </thead>\n",
       "  <tbody>\n",
       "    <tr>\n",
       "      <th>28194</th>\n",
       "      <td>1187</td>\n",
       "      <td>510</td>\n",
       "      <td>2.0</td>\n",
       "    </tr>\n",
       "    <tr>\n",
       "      <th>28959</th>\n",
       "      <td>1212</td>\n",
       "      <td>453</td>\n",
       "      <td>0.5</td>\n",
       "    </tr>\n",
       "    <tr>\n",
       "      <th>24566</th>\n",
       "      <td>1034</td>\n",
       "      <td>441</td>\n",
       "      <td>0.5</td>\n",
       "    </tr>\n",
       "    <tr>\n",
       "      <th>21718</th>\n",
       "      <td>902</td>\n",
       "      <td>592</td>\n",
       "      <td>2.0</td>\n",
       "    </tr>\n",
       "    <tr>\n",
       "      <th>32486</th>\n",
       "      <td>1386</td>\n",
       "      <td>510</td>\n",
       "      <td>2.5</td>\n",
       "    </tr>\n",
       "  </tbody>\n",
       "</table>\n",
       "</div>"
      ],
      "text/plain": [
       "       userId  itemId  rating\n",
       "28194    1187     510     2.0\n",
       "28959    1212     453     0.5\n",
       "24566    1034     441     0.5\n",
       "21718     902     592     2.0\n",
       "32486    1386     510     2.5"
      ]
     },
     "execution_count": 44,
     "metadata": {},
     "output_type": "execute_result"
    }
   ],
   "source": [
    "del_data.tail(5)"
   ]
  },
  {
   "cell_type": "markdown",
   "metadata": {},
   "source": [
    "### Finding error for target items in actual data"
   ]
  },
  {
   "cell_type": "code",
   "execution_count": 45,
   "metadata": {
    "collapsed": false
   },
   "outputs": [
    {
     "name": "stdout",
     "output_type": "stream",
     "text": [
      "{592: [0, 0], 832: [0, 0], 594: [0, 0], 100: [0, 0], 453: [0, 0], 694: [0, 0], 441: [0, 0], 1054: [0, 0], 510: [0, 0]}\n"
     ]
    }
   ],
   "source": [
    "target_item_error_in_actual_data = dict((t_i,[0,0]) for t_i in target_items)\n",
    "print (target_item_error_in_actual_data)"
   ]
  },
  {
   "cell_type": "code",
   "execution_count": 46,
   "metadata": {
    "collapsed": false
   },
   "outputs": [
    {
     "name": "stdout",
     "output_type": "stream",
     "text": [
      "0    1054\n",
      "0    832\n",
      "0    694\n",
      "0    594\n",
      "0    592\n",
      "0    592\n",
      "0    510\n",
      "0    510\n",
      "0    453\n",
      "0    441\n",
      "3.86538461538    100\n",
      "0    1054\n",
      "0    832\n",
      "0    694\n",
      "0    594\n",
      "0    592\n",
      "0    592\n",
      "0    510\n",
      "0    453\n",
      "nan\n",
      "nan\n",
      "nan\n",
      "nan\n",
      "nan\n",
      "nan\n",
      "nan\n",
      "nan\n",
      "nan\n",
      "nan\n",
      "nan\n",
      "nan\n",
      "nan\n",
      "nan\n",
      "nan\n",
      "nan\n",
      "nan\n",
      "nan\n",
      "nan\n",
      "nan\n",
      "nan\n",
      "nan\n",
      "nan    441\n",
      "0    100\n"
     ]
    }
   ],
   "source": [
    "t1=time.time()\n",
    "for index,i in enumerate(test.itertuples(),1):\n",
    "    k_optimal = 25\n",
    "\n",
    "    predicted=0\n",
    "    usr=int(i.userId)\n",
    "    mov=int(i.itemId)\n",
    "    actual=i.rating\n",
    "        \n",
    "    all_ratings_for_the_active_item=train[train['itemId']==mov]\n",
    "    list_of_movies_current_user_has_rated=train[train['itemId']==usr]\n",
    "    similarity=[]\n",
    "    corres_rate=[]\n",
    "    \n",
    "    for ind2,u in enumerate(list_of_movies_current_user_has_rated.itertuples(),1): \n",
    "        c1=[]\n",
    "        c2=[]\n",
    "        #c_user=int(u['userId'])\n",
    "        c_item=int(u.itemId)\n",
    "        #list_curuser=train[train['userId']==c_user]\n",
    "        list_curitem=train[train['itemId']==c_item]\n",
    "        xt=pd.merge( all_ratings_for_the_active_item,list_curitem,how='inner',on=['userId'])\n",
    "        c1=xt['rating_x']\n",
    "        c2=xt['rating_y']\n",
    "        c1_list=c1.tolist()\n",
    "        c2_list=c2.tolist()\n",
    "        sim=0\n",
    "        if len(c1_list)!=0:\n",
    "            sim=stats.pearsonr(c1_list,c2_list)[0]#(1-spatial.distance.cosine(c1_list,c2_list))\n",
    "            if mov==441:\n",
    "                print (sim)\n",
    "        similarity.append(sim)\n",
    "        corres_rate.append(u.rating)\n",
    "        \n",
    "    corres_rate = [x for _,x in sorted(zip(similarity,corres_rate),reverse=True)]\n",
    "    similarity.sort(reverse=True)\n",
    "#     print (mov)\n",
    "#     print (similarity)\n",
    "#     print (corres_rate)\n",
    "    cs=0\n",
    "    numc=0\n",
    "    \n",
    "    if(len(similarity)<k_optimal):\n",
    "        k_optimal = len(similarity) \n",
    "        \n",
    "    for k in range(k_optimal+1):        \n",
    "#         print (k)\n",
    "        cs+=similarity[k-1]\n",
    "        numc+=(similarity[k-1]*corres_rate[k-1])\n",
    "       \n",
    "    if cs!=0:\n",
    "        predicted=numc/cs\n",
    "    else:\n",
    "        predicted = 0\n",
    "    \n",
    "    if mov in target_item_error_in_actual_data:\n",
    "        print ( predicted,'  ',mov)\n",
    "        target_item_error_in_actual_data[mov][0] = target_item_error_in_actual_data[mov][0] + abs(predicted - calculated_Rating[mov])\n",
    "        target_item_error_in_actual_data[mov][1] = target_item_error_in_actual_data[mov][1] +1\n",
    "t2=time.time()        "
   ]
  },
  {
   "cell_type": "code",
   "execution_count": 47,
   "metadata": {
    "collapsed": false
   },
   "outputs": [
    {
     "data": {
      "text/plain": [
       "21"
      ]
     },
     "execution_count": 47,
     "metadata": {},
     "output_type": "execute_result"
    }
   ],
   "source": [
    "index"
   ]
  },
  {
   "cell_type": "code",
   "execution_count": 48,
   "metadata": {
    "collapsed": false
   },
   "outputs": [
    {
     "name": "stdout",
     "output_type": "stream",
     "text": [
      "2.4538092613220215\n"
     ]
    }
   ],
   "source": [
    "print (t2-t1)"
   ]
  },
  {
   "cell_type": "code",
   "execution_count": 49,
   "metadata": {
    "collapsed": false
   },
   "outputs": [
    {
     "data": {
      "text/plain": [
       "{100: [3.8653846153846159, 2],\n",
       " 441: [nan, 2],\n",
       " 453: [3.4444444444444446, 2],\n",
       " 510: [5.7272727272727275, 3],\n",
       " 592: [7.0, 4],\n",
       " 594: [3.8333333333333335, 2],\n",
       " 694: [3.7142857142857144, 2],\n",
       " 832: [3.7142857142857144, 2],\n",
       " 1054: [3.625, 2]}"
      ]
     },
     "execution_count": 49,
     "metadata": {},
     "output_type": "execute_result"
    }
   ],
   "source": [
    "target_item_error_in_actual_data"
   ]
  },
  {
   "cell_type": "markdown",
   "metadata": {},
   "source": [
    "### MAE error"
   ]
  },
  {
   "cell_type": "code",
   "execution_count": 20,
   "metadata": {
    "collapsed": false
   },
   "outputs": [
    {
     "name": "stdout",
     "output_type": "stream",
     "text": [
      "592     : 1.75\n",
      "832     : 1.85714285714\n",
      "594     : 1.91666666667\n",
      "100     : 1.93269230769\n",
      "453     : 1.72222222222\n",
      "694     : 1.85714285714\n",
      "441     : nan\n",
      "1054     : 1.8125\n",
      "510     : 1.90909090909\n"
     ]
    }
   ],
   "source": [
    "for i in target_item_error_in_actual_data:\n",
    "    print (i,'    :',target_item_error_in_actual_data[i][0]/target_item_error_in_actual_data[i][1])"
   ]
  },
  {
   "cell_type": "markdown",
   "metadata": {},
   "source": [
    "## Push Attack Strength Check\n",
    "\n",
    "### Injecting Attack Profiles"
   ]
  },
  {
   "cell_type": "code",
   "execution_count": 21,
   "metadata": {
    "collapsed": true
   },
   "outputs": [],
   "source": [
    "push_rating = 4"
   ]
  },
  {
   "cell_type": "code",
   "execution_count": 22,
   "metadata": {
    "collapsed": true
   },
   "outputs": [],
   "source": [
    "attack_ids = list(range(1600,1700))\n",
    "\n",
    "for attacker in attack_ids:\n",
    "    for item in window_items:\n",
    "        a = calculated_Rating[item]\n",
    "        attack_rating = int(a) if (a-int(a)<0.5) else int(a)+1\n",
    "        train = train.append(pd.Series([attacker,item,attack_rating], index=['userId', 'itemId' ,'rating']), ignore_index=True)\n",
    "\n",
    "for attacker in attack_ids:\n",
    "    for item in target_items:\n",
    "        train = train.append(pd.Series([attacker,item,push_rating], index=['userId', 'itemId' ,'rating']), ignore_index=True)"
   ]
  },
  {
   "cell_type": "code",
   "execution_count": 23,
   "metadata": {
    "collapsed": false
   },
   "outputs": [
    {
     "data": {
      "text/plain": [
       "41349"
      ]
     },
     "execution_count": 23,
     "metadata": {},
     "output_type": "execute_result"
    }
   ],
   "source": [
    "train.shape[0]"
   ]
  },
  {
   "cell_type": "code",
   "execution_count": 24,
   "metadata": {
    "collapsed": false
   },
   "outputs": [
    {
     "data": {
      "text/html": [
       "<div>\n",
       "<table border=\"1\" class=\"dataframe\">\n",
       "  <thead>\n",
       "    <tr style=\"text-align: right;\">\n",
       "      <th></th>\n",
       "      <th>userId</th>\n",
       "      <th>itemId</th>\n",
       "      <th>rating</th>\n",
       "    </tr>\n",
       "  </thead>\n",
       "  <tbody>\n",
       "    <tr>\n",
       "      <th>41344</th>\n",
       "      <td>1699</td>\n",
       "      <td>592</td>\n",
       "      <td>4.0</td>\n",
       "    </tr>\n",
       "    <tr>\n",
       "      <th>41345</th>\n",
       "      <td>1699</td>\n",
       "      <td>594</td>\n",
       "      <td>4.0</td>\n",
       "    </tr>\n",
       "    <tr>\n",
       "      <th>41346</th>\n",
       "      <td>1699</td>\n",
       "      <td>694</td>\n",
       "      <td>4.0</td>\n",
       "    </tr>\n",
       "    <tr>\n",
       "      <th>41347</th>\n",
       "      <td>1699</td>\n",
       "      <td>832</td>\n",
       "      <td>4.0</td>\n",
       "    </tr>\n",
       "    <tr>\n",
       "      <th>41348</th>\n",
       "      <td>1699</td>\n",
       "      <td>1054</td>\n",
       "      <td>4.0</td>\n",
       "    </tr>\n",
       "  </tbody>\n",
       "</table>\n",
       "</div>"
      ],
      "text/plain": [
       "       userId  itemId  rating\n",
       "41344    1699     592     4.0\n",
       "41345    1699     594     4.0\n",
       "41346    1699     694     4.0\n",
       "41347    1699     832     4.0\n",
       "41348    1699    1054     4.0"
      ]
     },
     "execution_count": 24,
     "metadata": {},
     "output_type": "execute_result"
    }
   ],
   "source": [
    "train.tail(5)"
   ]
  },
  {
   "cell_type": "markdown",
   "metadata": {},
   "source": [
    "## Finding error for target items in attack profile injected data"
   ]
  },
  {
   "cell_type": "code",
   "execution_count": 25,
   "metadata": {
    "collapsed": false
   },
   "outputs": [
    {
     "name": "stdout",
     "output_type": "stream",
     "text": [
      "{592: [0, 0], 832: [0, 0], 594: [0, 0], 100: [0, 0], 453: [0, 0], 694: [0, 0], 441: [0, 0], 1054: [0, 0], 510: [0, 0]}\n"
     ]
    }
   ],
   "source": [
    "target_item_error_in_actual_data = dict((t_i,[0,0]) for t_i in target_items)\n",
    "print (target_item_error_in_actual_data)"
   ]
  },
  {
   "cell_type": "code",
   "execution_count": 26,
   "metadata": {
    "collapsed": false
   },
   "outputs": [],
   "source": [
    "t1=time.time()\n",
    "for index,i in enumerate(test.itertuples(),1):\n",
    "    k_optimal = 25\n",
    "\n",
    "    predicted=0\n",
    "    usr=int(i.userId)\n",
    "    mov=int(i.itemId)\n",
    "    actual=i.rating\n",
    "        \n",
    "    all_ratings_for_the_active_item=train[train['itemId']==mov]\n",
    "    list_of_movies_current_user_has_rated=train[train['itemId']==usr]\n",
    "    similarity=[]\n",
    "    corres_rate=[]\n",
    "    \n",
    "    for ind2,u in enumerate(list_of_movies_current_user_has_rated.itertuples(),1): \n",
    "        c1=[]\n",
    "        c2=[]\n",
    "        #c_user=int(u['userId'])\n",
    "        c_item=int(u.itemId)\n",
    "        #list_curuser=train[train['userId']==c_user]\n",
    "        list_curitem=train[train['itemId']==c_item]\n",
    "        xt=pd.merge( all_ratings_for_the_active_item,list_curitem,how='inner',on=['userId'])\n",
    "        c1=xt['rating_x']\n",
    "        c2=xt['rating_y']\n",
    "        c1_list=c1.tolist()\n",
    "        c2_list=c2.tolist()\n",
    "        sim=0\n",
    "        if len(c1_list)!=0:\n",
    "            sim=stats.pearsonr(c1_list,c2_list)[0]#(1-spatial.distance.cosine(c1_list,c2_list))\n",
    "        \n",
    "        similarity.append(sim)\n",
    "        corres_rate.append(u.rating)\n",
    "        \n",
    "    corres_rate = [x for _,x in sorted(zip(similarity,corres_rate),reverse=True)]\n",
    "    similarity.sort(reverse=True)\n",
    "#     print (mov)\n",
    "#     print (similarity)\n",
    "#     print (corres_rate)\n",
    "    cs=0\n",
    "    numc=0\n",
    "    \n",
    "    if(len(similarity)<k_optimal):\n",
    "        k_optimal = len(similarity) \n",
    "        \n",
    "    for k in range(k_optimal+1):        \n",
    "#         print (k)\n",
    "        cs+=similarity[k-1]\n",
    "        numc+=(similarity[k-1]*corres_rate[k-1])\n",
    "       \n",
    "    if cs!=0:\n",
    "        predicted=numc/cs\n",
    "    else:\n",
    "        predicted = 0\n",
    "    \n",
    "    if mov in target_item_error_in_actual_data:\n",
    "        target_item_error_in_actual_data[mov][0] = target_item_error_in_actual_data[mov][0] + abs(predicted - calculated_Rating[mov])\n",
    "        target_item_error_in_actual_data[mov][1] = target_item_error_in_actual_data[mov][1] +1\n",
    "t2=time.time()        "
   ]
  },
  {
   "cell_type": "code",
   "execution_count": 27,
   "metadata": {
    "collapsed": false
   },
   "outputs": [
    {
     "name": "stdout",
     "output_type": "stream",
     "text": [
      "3.012467384338379\n"
     ]
    }
   ],
   "source": [
    "print (t2-t1)"
   ]
  },
  {
   "cell_type": "code",
   "execution_count": 28,
   "metadata": {
    "collapsed": false
   },
   "outputs": [
    {
     "name": "stdout",
     "output_type": "stream",
     "text": [
      "592     : 1.75\n",
      "832     : 1.85714285714\n",
      "594     : 1.91666666667\n",
      "100     : 1.93269230769\n",
      "453     : 1.72222222222\n",
      "694     : 1.85714285714\n",
      "441     : nan\n",
      "1054     : 1.8125\n",
      "510     : 1.90909090909\n"
     ]
    }
   ],
   "source": [
    "for i in target_item_error_in_actual_data:\n",
    "    print (i,'    :',target_item_error_in_actual_data[i][0]/target_item_error_in_actual_data[i][1])"
   ]
  },
  {
   "cell_type": "code",
   "execution_count": null,
   "metadata": {
    "collapsed": true
   },
   "outputs": [],
   "source": [
    "210     : 2.3058171134229086\n",
    "235     : 2.1928669466604225\n",
    "243     : 2.1907303256937363\n",
    "244     : 2.349442613055623\n",
    "248     : 2.4582805479544607\n",
    "249     : 2.396745080071849\n",
    "252     : 2.286436759922374\n",
    "256     : 2.1500551206142404\n",
    "257     : 2.4654589180088586\n"
   ]
  },
  {
   "cell_type": "code",
   "execution_count": null,
   "metadata": {
    "collapsed": true
   },
   "outputs": [],
   "source": []
  }
 ],
 "metadata": {
  "anaconda-cloud": {},
  "kernelspec": {
   "display_name": "Python [Root]",
   "language": "python",
   "name": "Python [Root]"
  },
  "language_info": {
   "codemirror_mode": {
    "name": "ipython",
    "version": 3
   },
   "file_extension": ".py",
   "mimetype": "text/x-python",
   "name": "python",
   "nbconvert_exporter": "python",
   "pygments_lexer": "ipython3",
   "version": "3.5.2"
  }
 },
 "nbformat": 4,
 "nbformat_minor": 2
}
