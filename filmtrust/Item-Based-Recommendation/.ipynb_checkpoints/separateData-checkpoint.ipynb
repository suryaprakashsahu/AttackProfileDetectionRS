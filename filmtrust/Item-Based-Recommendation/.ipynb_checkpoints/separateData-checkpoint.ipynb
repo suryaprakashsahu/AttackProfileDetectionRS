{
 "cells": [
  {
   "cell_type": "code",
   "execution_count": 1,
   "metadata": {
    "collapsed": true
   },
   "outputs": [],
   "source": [
    "import pandas as pd\n",
    "import numpy as np\n",
    "from scipy import sparse\n",
    "import math"
   ]
  },
  {
   "cell_type": "code",
   "execution_count": 2,
   "metadata": {},
   "outputs": [
    {
     "name": "stdout",
     "output_type": "stream",
     "text": [
      "  (0, 5855)\t5.0\n",
      "  (0, 6285)\t5.0\n",
      "  (0, 6359)\t5.0\n",
      "  (0, 7762)\t4.0\n",
      "  (0, 8411)\t2.0\n",
      "  (0, 9083)\t3.0\n",
      "  (1, 36)\t5.0\n",
      "  (1, 807)\t4.0\n",
      "  (1, 1147)\t4.0\n",
      "  (1, 1474)\t4.0\n",
      "  (1, 1682)\t1.0\n",
      "  (1, 2261)\t5.0\n",
      "  (1, 2494)\t3.0\n",
      "  (1, 3553)\t3.0\n",
      "  (1, 3936)\t5.0\n",
      "  (1, 4474)\t5.0\n",
      "  (1, 4998)\t4.0\n",
      "  (1, 5375)\t4.0\n",
      "  (1, 5794)\t1.0\n",
      "  (1, 5976)\t5.0\n",
      "  (1, 6960)\t5.0\n",
      "  (1, 7205)\t5.0\n",
      "  (1, 7891)\t4.0\n",
      "  (1, 9298)\t3.0\n",
      "  (2, 4499)\t3.0\n",
      "  :\t:\n",
      "  (8137, 8491)\t4.0\n",
      "  (8137, 8520)\t4.0\n",
      "  (8137, 8738)\t3.0\n",
      "  (8138, 86)\t5.0\n",
      "  (8138, 1242)\t5.0\n",
      "  (8138, 1369)\t5.0\n",
      "  (8138, 2233)\t2.0\n",
      "  (8138, 2353)\t4.0\n",
      "  (8138, 2718)\t4.0\n",
      "  (8138, 5594)\t3.0\n",
      "  (8138, 7073)\t4.0\n",
      "  (8138, 7438)\t5.0\n",
      "  (8138, 7552)\t4.0\n",
      "  (8139, 5342)\t5.0\n",
      "  (8139, 8553)\t5.0\n",
      "  (8139, 8671)\t5.0\n",
      "  (8139, 8868)\t5.0\n",
      "  (8139, 8979)\t3.0\n",
      "  (8139, 9067)\t5.0\n",
      "  (8140, 3259)\t5.0\n",
      "  (8140, 8140)\t3.0\n",
      "  (8140, 8549)\t4.0\n",
      "  (8140, 8553)\t5.0\n",
      "  (8140, 8868)\t5.0\n",
      "  (8140, 8979)\t5.0\n"
     ]
    }
   ],
   "source": [
    "df=np.loadtxt('Net1_subset.txt')\n",
    "df = sparse.csr_matrix(df)  \n",
    "print(df)\n",
    "\n"
   ]
  },
  {
   "cell_type": "code",
   "execution_count": 3,
   "metadata": {},
   "outputs": [
    {
     "name": "stdout",
     "output_type": "stream",
     "text": [
      "(8141, 9318)     <class 'scipy.sparse.csr.csr_matrix'>\n"
     ]
    }
   ],
   "source": [
    "print (df.shape,'   ',type(df))"
   ]
  },
  {
   "cell_type": "code",
   "execution_count": 4,
   "metadata": {},
   "outputs": [
    {
     "name": "stdout",
     "output_type": "stream",
     "text": [
      "   userId  itemId  rating\n",
      "0       0    5855     5.0\n",
      "1       0    6285     5.0\n",
      "2       0    6359     5.0\n",
      "3       0    7762     4.0\n",
      "4       0    8411     2.0\n"
     ]
    }
   ],
   "source": [
    "rows_list = []\n",
    "start = 0\n",
    "for i, end in enumerate(df.indptr[1:]):\n",
    "    for j, val in zip(df.indices[start:end], df.data[start:end]):\n",
    "        x1=[i,j,val]\n",
    "        rows_list.append(x1)\n",
    "    start = end\n",
    "    \n",
    "ratings = pd.DataFrame(rows_list,columns=['userId','itemId','rating'])\n",
    "print (ratings.head())"
   ]
  },
  {
   "cell_type": "code",
   "execution_count": 5,
   "metadata": {},
   "outputs": [
    {
     "data": {
      "text/html": [
       "<div>\n",
       "<style>\n",
       "    .dataframe thead tr:only-child th {\n",
       "        text-align: right;\n",
       "    }\n",
       "\n",
       "    .dataframe thead th {\n",
       "        text-align: left;\n",
       "    }\n",
       "\n",
       "    .dataframe tbody tr th {\n",
       "        vertical-align: top;\n",
       "    }\n",
       "</style>\n",
       "<table border=\"1\" class=\"dataframe\">\n",
       "  <thead>\n",
       "    <tr style=\"text-align: right;\">\n",
       "      <th></th>\n",
       "      <th>userId</th>\n",
       "      <th>itemId</th>\n",
       "      <th>rating</th>\n",
       "    </tr>\n",
       "  </thead>\n",
       "  <tbody>\n",
       "    <tr>\n",
       "      <th>count</th>\n",
       "      <td>196656.000000</td>\n",
       "      <td>196656.000000</td>\n",
       "      <td>196656.000000</td>\n",
       "    </tr>\n",
       "    <tr>\n",
       "      <th>mean</th>\n",
       "      <td>4047.150217</td>\n",
       "      <td>4843.988711</td>\n",
       "      <td>3.498103</td>\n",
       "    </tr>\n",
       "    <tr>\n",
       "      <th>std</th>\n",
       "      <td>2374.198911</td>\n",
       "      <td>2757.970038</td>\n",
       "      <td>1.153609</td>\n",
       "    </tr>\n",
       "    <tr>\n",
       "      <th>min</th>\n",
       "      <td>0.000000</td>\n",
       "      <td>0.000000</td>\n",
       "      <td>1.000000</td>\n",
       "    </tr>\n",
       "    <tr>\n",
       "      <th>25%</th>\n",
       "      <td>1885.000000</td>\n",
       "      <td>2452.000000</td>\n",
       "      <td>3.000000</td>\n",
       "    </tr>\n",
       "    <tr>\n",
       "      <th>50%</th>\n",
       "      <td>3971.000000</td>\n",
       "      <td>4883.000000</td>\n",
       "      <td>4.000000</td>\n",
       "    </tr>\n",
       "    <tr>\n",
       "      <th>75%</th>\n",
       "      <td>6160.000000</td>\n",
       "      <td>7304.000000</td>\n",
       "      <td>4.000000</td>\n",
       "    </tr>\n",
       "    <tr>\n",
       "      <th>max</th>\n",
       "      <td>8140.000000</td>\n",
       "      <td>9317.000000</td>\n",
       "      <td>5.000000</td>\n",
       "    </tr>\n",
       "  </tbody>\n",
       "</table>\n",
       "</div>"
      ],
      "text/plain": [
       "              userId         itemId         rating\n",
       "count  196656.000000  196656.000000  196656.000000\n",
       "mean     4047.150217    4843.988711       3.498103\n",
       "std      2374.198911    2757.970038       1.153609\n",
       "min         0.000000       0.000000       1.000000\n",
       "25%      1885.000000    2452.000000       3.000000\n",
       "50%      3971.000000    4883.000000       4.000000\n",
       "75%      6160.000000    7304.000000       4.000000\n",
       "max      8140.000000    9317.000000       5.000000"
      ]
     },
     "execution_count": 5,
     "metadata": {},
     "output_type": "execute_result"
    }
   ],
   "source": [
    "ratings.describe()"
   ]
  },
  {
   "cell_type": "code",
   "execution_count": 6,
   "metadata": {
    "collapsed": true
   },
   "outputs": [],
   "source": [
    "total_user = np.zeros(8141)\n",
    "count = np.zeros(8141,dtype='int64')"
   ]
  },
  {
   "cell_type": "code",
   "execution_count": 7,
   "metadata": {
    "collapsed": true
   },
   "outputs": [],
   "source": [
    "for i,j in ratings.iterrows():\n",
    "    k=int(j[0])\n",
    "    count[k]+=1"
   ]
  },
  {
   "cell_type": "code",
   "execution_count": 8,
   "metadata": {
    "collapsed": true
   },
   "outputs": [],
   "source": [
    "number_of_test = [math.floor(0.2*i) for i in count]\n",
    "number_of_holdout = [math.floor(0.1*i) for i in count]\n",
    "number_of_test = np.array(number_of_test,dtype='int64')\n",
    "number_of_holdout = np.array(number_of_holdout,dtype='int64')\n",
    "total_test_holdout = number_of_test + number_of_holdout\n",
    "number_of_train = [j-i for i,j in zip(total_test_holdout,count)]"
   ]
  },
  {
   "cell_type": "code",
   "execution_count": 12,
   "metadata": {
    "collapsed": true
   },
   "outputs": [],
   "source": [
    "train_data = pd.DataFrame()\n",
    "holdout_data = pd.DataFrame()\n",
    "test_data = pd.DataFrame()"
   ]
  },
  {
   "cell_type": "code",
   "execution_count": 13,
   "metadata": {
    "collapsed": true
   },
   "outputs": [],
   "source": [
    "current_train_size = np.zeros(8141,dtype='int64')\n",
    "current_holdout_size = np.zeros(8141,dtype='int64')"
   ]
  },
  {
   "cell_type": "code",
   "execution_count": null,
   "metadata": {},
   "outputs": [],
   "source": [
    "for i,j in ratings.iterrows():\n",
    "    user=int(j[0])\n",
    "    if current_train_size[user] < number_of_train[user]:\n",
    "        train_data = train_data.append(j)\n",
    "        current_train_size[user]+= 1\n",
    "    elif current_holdout_size[user] < number_of_holdout[user]:\n",
    "        holdout_data=holdout_data.append(j)\n",
    "        current_holdout_size[user]+= 1\n",
    "    else:\n",
    "        test_data = test_data.append(j)\n",
    "    \n",
    "###reshuffling data###\n",
    "test_data = test_data.sample(frac=1).reset_index(drop=True)\n",
    "train_data = train_data.sample(frac=1).reset_index(drop=True)\n",
    "holdout_data = holdout_data.sample(frac=1).reset_index(drop=True)"
   ]
  },
  {
   "cell_type": "code",
   "execution_count": null,
   "metadata": {
    "collapsed": true
   },
   "outputs": [],
   "source": [
    "train_data.to_csv('train.csv', sep=',')\n",
    "test_data.to_csv('test.csv',sep=',')\n",
    "holdout_data.to_csv('holdout.csv',sep=',')"
   ]
  },
  {
   "cell_type": "markdown",
   "metadata": {},
   "source": [
    "### Movie mean"
   ]
  },
  {
   "cell_type": "code",
   "execution_count": 59,
   "metadata": {
    "collapsed": true
   },
   "outputs": [],
   "source": [
    "movies_mean=np.zeros(shape=[9318,3])\n",
    "user_total = np.zeros(8141)\n",
    "count = np.zeros(8141,dtype='int64')\n",
    "for i,j in tr_temp.iterrows():\n",
    "    k=int(j['userId'])\n",
    "    count[k]+= 1\n",
    "    user_total[k]+= j['rating']\n",
    "    p = int(j['itemId'])\n",
    "    movies_mean[p][0]+= 1\n",
    "    movies_mean[p][1]+= j['rating']\n",
    "    \n",
    "user_mean=np.array([ i/j for i,j in zip(user_total,count) ])\n",
    "for x in movies_mean:\n",
    "    x[2]=round(x[1]/x[0],2)\n",
    "    \n",
    "for x in movies_mean:\n",
    "    if math.isnan(x[2]):\n",
    "        x[2]=0"
   ]
  },
  {
   "cell_type": "code",
   "execution_count": null,
   "metadata": {
    "collapsed": true
   },
   "outputs": [],
   "source": []
  }
 ],
 "metadata": {
  "kernelspec": {
   "display_name": "Python 3",
   "language": "python",
   "name": "python3"
  },
  "language_info": {
   "codemirror_mode": {
    "name": "ipython",
    "version": 3
   },
   "file_extension": ".py",
   "mimetype": "text/x-python",
   "name": "python",
   "nbconvert_exporter": "python",
   "pygments_lexer": "ipython3",
   "version": "3.6.1"
  }
 },
 "nbformat": 4,
 "nbformat_minor": 2
}
