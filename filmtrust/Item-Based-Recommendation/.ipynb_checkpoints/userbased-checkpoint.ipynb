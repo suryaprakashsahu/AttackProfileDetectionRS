{
 "cells": [
  {
   "cell_type": "code",
   "execution_count": 7,
   "metadata": {
    "collapsed": true
   },
   "outputs": [],
   "source": [
    "import numpy as np\n",
    "import pandas as pd\n",
    "from scipy import spatial\n",
    "import math\n",
    "import time"
   ]
  },
  {
   "cell_type": "code",
   "execution_count": 3,
   "metadata": {},
   "outputs": [],
   "source": [
    "train=pd.read_csv('train.csv',usecols=[1,2,3])\n",
    "test=pd.read_csv('test.csv',usecols=[1,2,3])\n",
    "holdout=pd.read_csv('holdout.csv',usecols=[1,2,3])"
   ]
  },
  {
   "cell_type": "code",
   "execution_count": 4,
   "metadata": {
    "collapsed": true
   },
   "outputs": [],
   "source": [
    "train=train[['userId','movieId','rating']]\n",
    "test=test[['userId','movieId','rating']]\n",
    "holdout=holdout[['userId','movieId','rating']]"
   ]
  },
  {
   "cell_type": "code",
   "execution_count": 5,
   "metadata": {},
   "outputs": [
    {
     "data": {
      "text/html": [
       "<div>\n",
       "<style>\n",
       "    .dataframe thead tr:only-child th {\n",
       "        text-align: right;\n",
       "    }\n",
       "\n",
       "    .dataframe thead th {\n",
       "        text-align: left;\n",
       "    }\n",
       "\n",
       "    .dataframe tbody tr th {\n",
       "        vertical-align: top;\n",
       "    }\n",
       "</style>\n",
       "<table border=\"1\" class=\"dataframe\">\n",
       "  <thead>\n",
       "    <tr style=\"text-align: right;\">\n",
       "      <th></th>\n",
       "      <th>userId</th>\n",
       "      <th>movieId</th>\n",
       "      <th>rating</th>\n",
       "    </tr>\n",
       "  </thead>\n",
       "  <tbody>\n",
       "    <tr>\n",
       "      <th>0</th>\n",
       "      <td>551.0</td>\n",
       "      <td>301</td>\n",
       "      <td>3.0</td>\n",
       "    </tr>\n",
       "    <tr>\n",
       "      <th>1</th>\n",
       "      <td>46.0</td>\n",
       "      <td>1889</td>\n",
       "      <td>5.0</td>\n",
       "    </tr>\n",
       "    <tr>\n",
       "      <th>2</th>\n",
       "      <td>586.0</td>\n",
       "      <td>2212</td>\n",
       "      <td>5.0</td>\n",
       "    </tr>\n",
       "    <tr>\n",
       "      <th>3</th>\n",
       "      <td>232.0</td>\n",
       "      <td>1143</td>\n",
       "      <td>5.0</td>\n",
       "    </tr>\n",
       "    <tr>\n",
       "      <th>4</th>\n",
       "      <td>99.0</td>\n",
       "      <td>820</td>\n",
       "      <td>2.0</td>\n",
       "    </tr>\n",
       "  </tbody>\n",
       "</table>\n",
       "</div>"
      ],
      "text/plain": [
       "   userId  movieId  rating\n",
       "0   551.0      301     3.0\n",
       "1    46.0     1889     5.0\n",
       "2   586.0     2212     5.0\n",
       "3   232.0     1143     5.0\n",
       "4    99.0      820     2.0"
      ]
     },
     "execution_count": 5,
     "metadata": {},
     "output_type": "execute_result"
    }
   ],
   "source": [
    "train.head()"
   ]
  },
  {
   "cell_type": "code",
   "execution_count": 6,
   "metadata": {},
   "outputs": [
    {
     "data": {
      "text/html": [
       "<div>\n",
       "<style>\n",
       "    .dataframe thead tr:only-child th {\n",
       "        text-align: right;\n",
       "    }\n",
       "\n",
       "    .dataframe thead th {\n",
       "        text-align: left;\n",
       "    }\n",
       "\n",
       "    .dataframe tbody tr th {\n",
       "        vertical-align: top;\n",
       "    }\n",
       "</style>\n",
       "<table border=\"1\" class=\"dataframe\">\n",
       "  <thead>\n",
       "    <tr style=\"text-align: right;\">\n",
       "      <th></th>\n",
       "      <th>userId</th>\n",
       "      <th>movieId</th>\n",
       "      <th>rating</th>\n",
       "    </tr>\n",
       "  </thead>\n",
       "  <tbody>\n",
       "    <tr>\n",
       "      <th>9717</th>\n",
       "      <td>514.0</td>\n",
       "      <td>951</td>\n",
       "      <td>5.0</td>\n",
       "    </tr>\n",
       "    <tr>\n",
       "      <th>9718</th>\n",
       "      <td>294.0</td>\n",
       "      <td>1374</td>\n",
       "      <td>4.0</td>\n",
       "    </tr>\n",
       "    <tr>\n",
       "      <th>9719</th>\n",
       "      <td>534.0</td>\n",
       "      <td>132</td>\n",
       "      <td>3.0</td>\n",
       "    </tr>\n",
       "    <tr>\n",
       "      <th>9720</th>\n",
       "      <td>472.0</td>\n",
       "      <td>4085</td>\n",
       "      <td>3.0</td>\n",
       "    </tr>\n",
       "    <tr>\n",
       "      <th>9721</th>\n",
       "      <td>414.0</td>\n",
       "      <td>1692</td>\n",
       "      <td>3.0</td>\n",
       "    </tr>\n",
       "  </tbody>\n",
       "</table>\n",
       "</div>"
      ],
      "text/plain": [
       "      userId  movieId  rating\n",
       "9717   514.0      951     5.0\n",
       "9718   294.0     1374     4.0\n",
       "9719   534.0      132     3.0\n",
       "9720   472.0     4085     3.0\n",
       "9721   414.0     1692     3.0"
      ]
     },
     "execution_count": 6,
     "metadata": {},
     "output_type": "execute_result"
    }
   ],
   "source": [
    "holdout.tail()"
   ]
  },
  {
   "cell_type": "code",
   "execution_count": 8,
   "metadata": {
    "collapsed": true
   },
   "outputs": [],
   "source": [
    "rmse=[i for i in range(20,50)]"
   ]
  },
  {
   "cell_type": "code",
   "execution_count": null,
   "metadata": {
    "collapsed": true
   },
   "outputs": [],
   "source": [
    "t1=time.time()\n",
    "#finding the optimal k using holdout set\n",
    "K=[i for i in range(1,81)]\n",
    "error=[0 for i in range(1,81)]\n",
    "#count=[0 for i in range(1,101)]\n",
    "#err=0\n",
    "for index,i in holdout.iterrows():\n",
    "    predicted=0\n",
    "    usr=int(i['userId'])\n",
    "    mov=int(i['movieId'])\n",
    "    actual=i['rating']\n",
    "        \n",
    "    list_A=train[train['movieId']==mov]\n",
    "    list_mov=train[train['userId']==usr]\n",
    "    similarity=[]\n",
    "    corres_rate=[]\n",
    "    \n",
    "    for ind2,u in list_A.iterrows():\n",
    "        c1=[]\n",
    "        c2=[]\n",
    "        c_user=int(u['userId'])\n",
    "        list_curuser=train[train['userId']==c_user]\n",
    "        xt=pd.merge(list_mov,list_curuser,how='inner',on=['movieId'])\n",
    "        c1=xt['rating_x']\n",
    "        c2=xt['rating_y']\n",
    "        c1_list=c1.tolist()\n",
    "        c2_list=c2.tolist()\n",
    "        sim=0\n",
    "        if len(c1_list)!=0:\n",
    "            sim=(1-spatial.distance.cosine(c1_list,c2_list))\n",
    "        \n",
    "        similarity.append(sim)\n",
    "        corres_rate.append(u['rating'])\n",
    "        \n",
    "    corres_rate = [x for _,x in sorted(zip(similarity,corres_rate),reverse=True)]\n",
    "    similarity.sort(reverse=True)\n",
    "   \n",
    "    #for k in K:\n",
    "    cs=0\n",
    "    numc=0\n",
    "    for k in K:\n",
    "        if (k-1)>=len(similarity):\n",
    "            for m in range(k,81):\n",
    "                error[m-1]+=((actual-predicted)**2)\n",
    "            break\n",
    "        cs+=similarity[k-1]\n",
    "        numc+=(similarity[k-1]*corres_rate[k-1])\n",
    "        #print(k,sm)\n",
    "        if cs!=0:\n",
    "            predicted=numc/cs\n",
    "        error[k-1]+=((actual-predicted)**2)\n",
    "        #count[k-1]+=1\n",
    "    \n",
    "t2=time.time()        \n",
    "#print(math.sqrt(error/c))"
   ]
  },
  {
   "cell_type": "code",
   "execution_count": null,
   "metadata": {},
   "outputs": [],
   "source": [
    "print(t2-t1)"
   ]
  },
  {
   "cell_type": "code",
   "execution_count": null,
   "metadata": {
    "collapsed": true
   },
   "outputs": [],
   "source": [
    "rmse=[math.sqrt(i/9722) for i in error]"
   ]
  },
  {
   "cell_type": "code",
   "execution_count": 137,
   "metadata": {},
   "outputs": [
    {
     "data": {
      "text/plain": [
       "9721"
      ]
     },
     "execution_count": 137,
     "metadata": {},
     "output_type": "execute_result"
    }
   ],
   "source": [
    "index"
   ]
  },
  {
   "cell_type": "code",
   "execution_count": 138,
   "metadata": {},
   "outputs": [
    {
     "data": {
      "text/html": [
       "<div>\n",
       "<table border=\"1\" class=\"dataframe\">\n",
       "  <thead>\n",
       "    <tr style=\"text-align: right;\">\n",
       "      <th></th>\n",
       "      <th>userId</th>\n",
       "      <th>movieId</th>\n",
       "      <th>rating</th>\n",
       "    </tr>\n",
       "  </thead>\n",
       "  <tbody>\n",
       "    <tr>\n",
       "      <th>9717</th>\n",
       "      <td>514.0</td>\n",
       "      <td>951</td>\n",
       "      <td>5.0</td>\n",
       "    </tr>\n",
       "    <tr>\n",
       "      <th>9718</th>\n",
       "      <td>294.0</td>\n",
       "      <td>1374</td>\n",
       "      <td>4.0</td>\n",
       "    </tr>\n",
       "    <tr>\n",
       "      <th>9719</th>\n",
       "      <td>534.0</td>\n",
       "      <td>132</td>\n",
       "      <td>3.0</td>\n",
       "    </tr>\n",
       "    <tr>\n",
       "      <th>9720</th>\n",
       "      <td>472.0</td>\n",
       "      <td>4085</td>\n",
       "      <td>3.0</td>\n",
       "    </tr>\n",
       "    <tr>\n",
       "      <th>9721</th>\n",
       "      <td>414.0</td>\n",
       "      <td>1692</td>\n",
       "      <td>3.0</td>\n",
       "    </tr>\n",
       "  </tbody>\n",
       "</table>\n",
       "</div>"
      ],
      "text/plain": [
       "      userId  movieId  rating\n",
       "9717   514.0      951     5.0\n",
       "9718   294.0     1374     4.0\n",
       "9719   534.0      132     3.0\n",
       "9720   472.0     4085     3.0\n",
       "9721   414.0     1692     3.0"
      ]
     },
     "execution_count": 138,
     "metadata": {},
     "output_type": "execute_result"
    }
   ],
   "source": [
    "holdout.tail()"
   ]
  },
  {
   "cell_type": "code",
   "execution_count": 118,
   "metadata": {
    "collapsed": true
   },
   "outputs": [],
   "source": [
    "%matplotlib inline\n",
    "import matplotlib.pyplot as plt"
   ]
  },
  {
   "cell_type": "code",
   "execution_count": 139,
   "metadata": {},
   "outputs": [
    {
     "data": {
      "text/plain": [
       "[<matplotlib.lines.Line2D at 0x1f87cbb8b00>]"
      ]
     },
     "execution_count": 139,
     "metadata": {},
     "output_type": "execute_result"
    },
    {
     "data": {
      "image/png": "[encoded data removed]",
      "text/plain": [
       "<matplotlib.figure.Figure at 0x1f87cc54ac8>"
      ]
     },
     "metadata": {},
     "output_type": "display_data"
    }
   ],
   "source": [
    "plt.plot(K,rmse)"
   ]
  },
  {
   "cell_type": "code",
   "execution_count": 140,
   "metadata": {},
   "outputs": [
    {
     "data": {
      "text/plain": [
       "[1.458646164074321,\n",
       " 1.3214051968846898,\n",
       " 1.2672934831111675,\n",
       " 1.2395883688897857,\n",
       " 1.2232184243613184,\n",
       " 1.2098001596848604,\n",
       " 1.2020908146799456,\n",
       " 1.1965828476147984,\n",
       " 1.192940992936048,\n",
       " 1.1896544269956342,\n",
       " 1.1861733149245846,\n",
       " 1.1840276909224232,\n",
       " 1.1826469459090831,\n",
       " 1.180754346628791,\n",
       " 1.179056115610603,\n",
       " 1.1772128056631437,\n",
       " 1.1764509304005706,\n",
       " 1.176132477533306,\n",
       " 1.1756661654001352,\n",
       " 1.1754955794511428,\n",
       " 1.175000141579528,\n",
       " 1.174656752144372,\n",
       " 1.17427458254751,\n",
       " 1.1738323826758683,\n",
       " 1.1736823265286527,\n",
       " 1.1734659917834696,\n",
       " 1.173450201535955,\n",
       " 1.1733916808501919,\n",
       " 1.1733793404214004,\n",
       " 1.1731312366478548,\n",
       " 1.1728883726151473,\n",
       " 1.172907847844935,\n",
       " 1.172868677188958,\n",
       " 1.1728398266008289,\n",
       " 1.1726992175275646,\n",
       " 1.1727560295841848,\n",
       " 1.1726586116478477,\n",
       " 1.172526158970475,\n",
       " 1.1722524935977907,\n",
       " 1.1724224518810895,\n",
       " 1.1723953502798006,\n",
       " 1.1721497310526459,\n",
       " 1.1721714436363446,\n",
       " 1.1722530154088484,\n",
       " 1.1723784415326062,\n",
       " 1.1724634193962398,\n",
       " 1.172576414870065,\n",
       " 1.1725479129237677,\n",
       " 1.172650361666306,\n",
       " 1.1727857122946341,\n",
       " 1.1726512458383902,\n",
       " 1.1725222812898255,\n",
       " 1.172628024977721,\n",
       " 1.1725212946487922,\n",
       " 1.1725267069156542,\n",
       " 1.17257922284377,\n",
       " 1.172488403347612,\n",
       " 1.172473378576806,\n",
       " 1.1724661848625062,\n",
       " 1.1725082343145243,\n",
       " 1.1724841713592966,\n",
       " 1.1725669142185968,\n",
       " 1.1726181190517335,\n",
       " 1.172653760471743,\n",
       " 1.172711564294085,\n",
       " 1.1727403753335262,\n",
       " 1.1727789282091365,\n",
       " 1.172818224932022,\n",
       " 1.1728464248607098,\n",
       " 1.1728432478739876,\n",
       " 1.17283305281559,\n",
       " 1.172815599653365,\n",
       " 1.1728761313846876,\n",
       " 1.172857091271801,\n",
       " 1.1728393681085825,\n",
       " 1.1728795300054675,\n",
       " 1.1728345156589643,\n",
       " 1.1728220493620742,\n",
       " 1.1728337259896464,\n",
       " 1.1728225280738327]"
      ]
     },
     "execution_count": 140,
     "metadata": {},
     "output_type": "execute_result"
    }
   ],
   "source": [
    "rmse"
   ]
  },
  {
   "cell_type": "code",
   "execution_count": 130,
   "metadata": {
    "collapsed": true
   },
   "outputs": [],
   "source": [
    "x1=[0.8,0.6,0.5,0.9,0.7]\n",
    "x2=[4,3,2,1,5]"
   ]
  },
  {
   "cell_type": "code",
   "execution_count": 131,
   "metadata": {
    "collapsed": true
   },
   "outputs": [],
   "source": [
    "x2 = [x for _,x in sorted(zip(x1,x2),reverse=True)]\n",
    "x1.sort(reverse=True)"
   ]
  },
  {
   "cell_type": "code",
   "execution_count": 132,
   "metadata": {},
   "outputs": [
    {
     "data": {
      "text/plain": [
       "[0.9, 0.8, 0.7, 0.6, 0.5]"
      ]
     },
     "execution_count": 132,
     "metadata": {},
     "output_type": "execute_result"
    }
   ],
   "source": [
    "x1"
   ]
  },
  {
   "cell_type": "code",
   "execution_count": 133,
   "metadata": {},
   "outputs": [
    {
     "data": {
      "text/plain": [
       "[1, 4, 5, 3, 2]"
      ]
     },
     "execution_count": 133,
     "metadata": {},
     "output_type": "execute_result"
    }
   ],
   "source": [
    "x2"
   ]
  },
  {
   "cell_type": "code",
   "execution_count": null,
   "metadata": {
    "collapsed": true
   },
   "outputs": [],
   "source": []
  },
  {
   "cell_type": "code",
   "execution_count": 30,
   "metadata": {
    "collapsed": true
   },
   "outputs": [],
   "source": [
    "xt=pd.merge(list_mov,list_curuser,how='inner',on=['movieId'])\n"
   ]
  },
  {
   "cell_type": "code",
   "execution_count": 110,
   "metadata": {
    "collapsed": true
   },
   "outputs": [],
   "source": [
    "K=[i for i in range(1,101)]"
   ]
  },
  {
   "cell_type": "code",
   "execution_count": 111,
   "metadata": {},
   "outputs": [
    {
     "data": {
      "text/plain": [
       "[1,\n",
       " 2,\n",
       " 3,\n",
       " 4,\n",
       " 5,\n",
       " 6,\n",
       " 7,\n",
       " 8,\n",
       " 9,\n",
       " 10,\n",
       " 11,\n",
       " 12,\n",
       " 13,\n",
       " 14,\n",
       " 15,\n",
       " 16,\n",
       " 17,\n",
       " 18,\n",
       " 19,\n",
       " 20,\n",
       " 21,\n",
       " 22,\n",
       " 23,\n",
       " 24,\n",
       " 25,\n",
       " 26,\n",
       " 27,\n",
       " 28,\n",
       " 29,\n",
       " 30,\n",
       " 31,\n",
       " 32,\n",
       " 33,\n",
       " 34,\n",
       " 35,\n",
       " 36,\n",
       " 37,\n",
       " 38,\n",
       " 39,\n",
       " 40,\n",
       " 41,\n",
       " 42,\n",
       " 43,\n",
       " 44,\n",
       " 45,\n",
       " 46,\n",
       " 47,\n",
       " 48,\n",
       " 49,\n",
       " 50,\n",
       " 51,\n",
       " 52,\n",
       " 53,\n",
       " 54,\n",
       " 55,\n",
       " 56,\n",
       " 57,\n",
       " 58,\n",
       " 59,\n",
       " 60,\n",
       " 61,\n",
       " 62,\n",
       " 63,\n",
       " 64,\n",
       " 65,\n",
       " 66,\n",
       " 67,\n",
       " 68,\n",
       " 69,\n",
       " 70,\n",
       " 71,\n",
       " 72,\n",
       " 73,\n",
       " 74,\n",
       " 75,\n",
       " 76,\n",
       " 77,\n",
       " 78,\n",
       " 79,\n",
       " 80,\n",
       " 81,\n",
       " 82,\n",
       " 83,\n",
       " 84,\n",
       " 85,\n",
       " 86,\n",
       " 87,\n",
       " 88,\n",
       " 89,\n",
       " 90,\n",
       " 91,\n",
       " 92,\n",
       " 93,\n",
       " 94,\n",
       " 95,\n",
       " 96,\n",
       " 97,\n",
       " 98,\n",
       " 99,\n",
       " 100]"
      ]
     },
     "execution_count": 111,
     "metadata": {},
     "output_type": "execute_result"
    }
   ],
   "source": [
    "K"
   ]
  },
  {
   "cell_type": "code",
   "execution_count": null,
   "metadata": {
    "collapsed": true
   },
   "outputs": [],
   "source": []
  },
  {
   "cell_type": "code",
   "execution_count": null,
   "metadata": {
    "collapsed": true
   },
   "outputs": [],
   "source": []
  },
  {
   "cell_type": "code",
   "execution_count": 141,
   "metadata": {
    "collapsed": true
   },
   "outputs": [],
   "source": [
    "k_opt=7\n",
    "t1=time.time()\n",
    "error=0\n",
    "for index,i in test.iterrows():\n",
    "    predicted=0\n",
    "    usr=int(i['userId'])\n",
    "    mov=int(i['movieId'])\n",
    "    actual=i['rating']\n",
    "        \n",
    "    list_A=train[train['movieId']==mov]\n",
    "    list_mov=train[train['userId']==usr]\n",
    "    similarity=[]\n",
    "    corres_rate=[]\n",
    "    \n",
    "    for ind2,u in list_A.iterrows():\n",
    "        c1=[]\n",
    "        c2=[]\n",
    "        c_user=int(u['userId'])\n",
    "        list_curuser=train[train['userId']==c_user]\n",
    "        xt=pd.merge(list_mov,list_curuser,how='inner',on=['movieId'])\n",
    "        c1=xt['rating_x']\n",
    "        c2=xt['rating_y']\n",
    "        c1_list=c1.tolist()\n",
    "        c2_list=c2.tolist()\n",
    "        sim=0\n",
    "        if len(c1_list)!=0:\n",
    "            sim=(1-spatial.distance.cosine(c1_list,c2_list))\n",
    "        \n",
    "        similarity.append(sim)\n",
    "        corres_rate.append(u['rating'])\n",
    "        \n",
    "    corres_rate = [x for _,x in sorted(zip(similarity,corres_rate),reverse=True)]\n",
    "    similarity.sort(reverse=True)\n",
    "   \n",
    "    #for k in K:\n",
    "    cs=0\n",
    "    numc=0\n",
    "    for k in range(0,7):\n",
    "        if k>=len(similarity):\n",
    "            break\n",
    "            \n",
    "        cs+=similarity[k]\n",
    "        numc+=(similarity[k]*corres_rate[k])\n",
    "        #print(k,sm)\n",
    "    \n",
    "    if cs!=0:\n",
    "        predicted=numc/cs\n",
    "    \n",
    "    error+=((actual-predicted)**2)\n",
    "        #count[k-1]+=1\n",
    "    \n",
    "t2=time.time()        \n",
    "#print(math.sqrt(error/c))"
   ]
  },
  {
   "cell_type": "code",
   "execution_count": 143,
   "metadata": {},
   "outputs": [
    {
     "data": {
      "text/plain": [
       "(10031, 3)"
      ]
     },
     "execution_count": 143,
     "metadata": {},
     "output_type": "execute_result"
    }
   ],
   "source": [
    "test.shape"
   ]
  },
  {
   "cell_type": "code",
   "execution_count": 144,
   "metadata": {
    "collapsed": true
   },
   "outputs": [],
   "source": [
    "ans=math.sqrt(error/10031)"
   ]
  },
  {
   "cell_type": "code",
   "execution_count": 145,
   "metadata": {},
   "outputs": [
    {
     "data": {
      "text/plain": [
       "1.186345101441311"
      ]
     },
     "execution_count": 145,
     "metadata": {},
     "output_type": "execute_result"
    }
   ],
   "source": [
    "ans"
   ]
  },
  {
   "cell_type": "code",
   "execution_count": null,
   "metadata": {
    "collapsed": true
   },
   "outputs": [],
   "source": []
  }
 ],
 "metadata": {
  "anaconda-cloud": {},
  "kernelspec": {
   "display_name": "Python 3",
   "language": "python",
   "name": "python3"
  }
 },
 "nbformat": 4,
 "nbformat_minor": 1
}
