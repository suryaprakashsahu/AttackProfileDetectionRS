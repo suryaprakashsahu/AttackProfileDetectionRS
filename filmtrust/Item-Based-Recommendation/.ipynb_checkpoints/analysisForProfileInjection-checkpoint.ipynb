{
 "cells": [
  {
   "cell_type": "markdown",
   "metadata": {
    "collapsed": true
   },
   "source": [
    "## Data Analysis :attack profile injection"
   ]
  },
  {
   "cell_type": "code",
   "execution_count": 1,
   "metadata": {
    "collapsed": true
   },
   "outputs": [],
   "source": [
    "import pandas as pd"
   ]
  },
  {
   "cell_type": "code",
   "execution_count": 2,
   "metadata": {},
   "outputs": [
    {
     "data": {
      "text/plain": [
       "user        3.0\n",
       "item      100.0\n",
       "rating      0.5\n",
       "Name: 100, dtype: float64"
      ]
     },
     "execution_count": 2,
     "metadata": {},
     "output_type": "execute_result"
    }
   ],
   "source": [
    "# trust = pd.read_csv('trust.txt', sep=\" \", header=None)\n",
    "# trust.columns = ['trustor', 'trusting','t_value']\n",
    "\n",
    "ratings = pd.read_csv('ratings.txt', sep=\" \", header=None)\n",
    "ratings.columns = ['user', 'item','rating']\n",
    "ratings.iloc[100,:]"
   ]
  },
  {
   "cell_type": "code",
   "execution_count": 3,
   "metadata": {},
   "outputs": [
    {
     "data": {
      "text/html": [
       "<div>\n",
       "<style>\n",
       "    .dataframe thead tr:only-child th {\n",
       "        text-align: right;\n",
       "    }\n",
       "\n",
       "    .dataframe thead th {\n",
       "        text-align: left;\n",
       "    }\n",
       "\n",
       "    .dataframe tbody tr th {\n",
       "        vertical-align: top;\n",
       "    }\n",
       "</style>\n",
       "<table border=\"1\" class=\"dataframe\">\n",
       "  <thead>\n",
       "    <tr style=\"text-align: right;\">\n",
       "      <th></th>\n",
       "      <th>user</th>\n",
       "      <th>item</th>\n",
       "      <th>rating</th>\n",
       "    </tr>\n",
       "  </thead>\n",
       "  <tbody>\n",
       "    <tr>\n",
       "      <th>count</th>\n",
       "      <td>35497.000000</td>\n",
       "      <td>35497.000000</td>\n",
       "      <td>35497.000000</td>\n",
       "    </tr>\n",
       "    <tr>\n",
       "      <th>mean</th>\n",
       "      <td>744.247824</td>\n",
       "      <td>265.524946</td>\n",
       "      <td>3.002803</td>\n",
       "    </tr>\n",
       "    <tr>\n",
       "      <th>std</th>\n",
       "      <td>433.199457</td>\n",
       "      <td>346.854769</td>\n",
       "      <td>0.918692</td>\n",
       "    </tr>\n",
       "    <tr>\n",
       "      <th>min</th>\n",
       "      <td>1.000000</td>\n",
       "      <td>1.000000</td>\n",
       "      <td>0.500000</td>\n",
       "    </tr>\n",
       "    <tr>\n",
       "      <th>25%</th>\n",
       "      <td>356.000000</td>\n",
       "      <td>12.000000</td>\n",
       "      <td>2.500000</td>\n",
       "    </tr>\n",
       "    <tr>\n",
       "      <th>50%</th>\n",
       "      <td>735.000000</td>\n",
       "      <td>216.000000</td>\n",
       "      <td>3.000000</td>\n",
       "    </tr>\n",
       "    <tr>\n",
       "      <th>75%</th>\n",
       "      <td>1130.000000</td>\n",
       "      <td>251.000000</td>\n",
       "      <td>4.000000</td>\n",
       "    </tr>\n",
       "    <tr>\n",
       "      <th>max</th>\n",
       "      <td>1508.000000</td>\n",
       "      <td>2071.000000</td>\n",
       "      <td>4.000000</td>\n",
       "    </tr>\n",
       "  </tbody>\n",
       "</table>\n",
       "</div>"
      ],
      "text/plain": [
       "               user          item        rating\n",
       "count  35497.000000  35497.000000  35497.000000\n",
       "mean     744.247824    265.524946      3.002803\n",
       "std      433.199457    346.854769      0.918692\n",
       "min        1.000000      1.000000      0.500000\n",
       "25%      356.000000     12.000000      2.500000\n",
       "50%      735.000000    216.000000      3.000000\n",
       "75%     1130.000000    251.000000      4.000000\n",
       "max     1508.000000   2071.000000      4.000000"
      ]
     },
     "execution_count": 3,
     "metadata": {},
     "output_type": "execute_result"
    }
   ],
   "source": [
    "ratings.describe()"
   ]
  },
  {
   "cell_type": "code",
   "execution_count": 4,
   "metadata": {},
   "outputs": [
    {
     "name": "stdout",
     "output_type": "stream",
     "text": [
      "(35497, 3)\n",
      "items :  2071     users :  1508\n",
      "max_Rating :  4.0     min_Rating :  0.5\n"
     ]
    }
   ],
   "source": [
    "print (ratings.shape)\n",
    "# print (trust.shape)\n",
    "\n",
    "print ('items : ',len(ratings['item'].value_counts()), '   ','users : ',len(ratings['user'].value_counts()) )\n",
    "print ('max_Rating : ',ratings['rating'].max(),'   ','min_Rating : ',ratings['rating'].min())"
   ]
  },
  {
   "cell_type": "code",
   "execution_count": 5,
   "metadata": {},
   "outputs": [
    {
     "name": "stdout",
     "output_type": "stream",
     "text": [
      "number of ratings given to item7 :  1044\n"
     ]
    }
   ],
   "source": [
    "item_freq_count = ratings['item'].value_counts()\n",
    "print ('number of ratings given to item7 : ',item_freq_count[7])"
   ]
  },
  {
   "cell_type": "code",
   "execution_count": 6,
   "metadata": {
    "collapsed": true
   },
   "outputs": [],
   "source": [
    "calculated_Rating = {}\n",
    "items = ratings['item'].unique()\n",
    "\n",
    "#rating\n",
    "R = ratings.groupby(['item'])['rating'].mean()\n",
    "for i in items:\n",
    "#     print (i)\n",
    "    calculated_Rating[i] = R[i]\n",
    "    \n",
    "# print (calculated_Rating)"
   ]
  },
  {
   "cell_type": "markdown",
   "metadata": {},
   "source": [
    "## Nuke Attack"
   ]
  },
  {
   "cell_type": "code",
   "execution_count": 7,
   "metadata": {},
   "outputs": [
    {
     "name": "stdout",
     "output_type": "stream",
     "text": [
      "2    3.192896174863388\n",
      "3    3.036602209944751\n",
      "4    3.1851289833080423\n",
      "5    3.217453505007153\n",
      "7    3.156609195402299\n",
      "8    3.1937590711175616\n",
      "9    3.2113237639553427\n",
      "11    3.3759398496240602\n",
      "13    3.2565055762081783\n",
      "17    3.074846625766871\n",
      "211    3.1973684210526314\n",
      "215    3.183311432325887\n",
      "219    3.1325036603221084\n",
      "236    3.130790190735695\n",
      "250    3.1818181818181817\n",
      "Target items ( 15 )  :  [2, 3, 4, 5, 7, 8, 9, 11, 13, 17, 211, 215, 219, 236, 250]\n",
      "Window items ( 35 )  :  [256, 1, 257, 6, 10, 12, 205, 206, 207, 210, 84, 212, 213, 214, 216, 217, 220, 121, 233, 234, 235, 239, 241, 243, 244, 245, 246, 247, 248, 249, 251, 252, 253, 254, 255] \n",
      "\n"
     ]
    }
   ],
   "source": [
    "window_Items = []\n",
    "target_Items = []\n",
    "\n",
    "for i in items:\n",
    "    if ((calculated_Rating[i]>3) and (item_freq_count[i] > 500) ): #no of items here remains constant for (item_freq_count[i] > 100,300,500)\n",
    "        target_Items.append(i)\n",
    "        print (i,'  ',calculated_Rating[i])\n",
    "    \n",
    "    if ((item_freq_count[i] > 200)): #and (calculated_Rating[i]<3)\n",
    "        window_Items.append(i)\n",
    "\n",
    "print ('Target items','(',len(target_Items),')', ' : ',target_Items)\n",
    "print ('Window items','(',len(list(set(window_Items)-set(target_Items))),')', ' : ',list(set(window_Items)-set(target_Items)),'\\n')"
   ]
  },
  {
   "cell_type": "markdown",
   "metadata": {},
   "source": [
    "## Push Attack"
   ]
  },
  {
   "cell_type": "markdown",
   "metadata": {},
   "source": [
    "2 types of push_attack target items can be there.\n",
    "1. Low average rating and low number of ratings\n",
    "2. Low average rating and high number of ratings(not available in this dataset)\n",
    "  \n",
    "Hence going only with 1st option."
   ]
  },
  {
   "cell_type": "code",
   "execution_count": 12,
   "metadata": {},
   "outputs": [
    {
     "name": "stdout",
     "output_type": "stream",
     "text": [
      "14    2    1.0\n",
      "32    2    1.75\n",
      "36    2    1.25\n",
      "46    2    1.5\n",
      "63    3    1.6666666666666667\n",
      "65    2    1.5\n",
      "76    2    1.75\n",
      "100    6    1.6666666666666667\n",
      "108    2    1.75\n",
      "113    2    0.75\n",
      "116    3    1.3333333333333333\n",
      "119    2    1.75\n",
      "125    2    1.5\n",
      "128    2    1.75\n",
      "137    2    1.75\n",
      "156    2    1.0\n",
      "171    2    1.5\n",
      "175    2    0.75\n",
      "179    2    1.5\n",
      "184    2    0.75\n",
      "260    1    1.0\n",
      "263    3    1.3333333333333333\n",
      "277    1    0.5\n",
      "326    2    0.5\n",
      "351    4    1.75\n",
      "354    1    0.5\n",
      "364    3    1.3333333333333333\n",
      "381    1    0.5\n",
      "387    2    1.5\n",
      "423    4    1.75\n",
      "433    4    1.875\n",
      "441    9    1.9444444444444444\n",
      "449    2    1.5\n",
      "453    9    1.7222222222222223\n",
      "461    4    1.5\n",
      "482    2    1.5\n",
      "506    2    1.75\n",
      "510    11    1.9090909090909092\n",
      "523    5    1.3\n",
      "541    4    1.875\n",
      "568    1    1.5\n",
      "587    5    1.5\n",
      "592    14    1.75\n",
      "594    6    1.9166666666666667\n",
      "608    2    1.75\n",
      "685    2    1.75\n",
      "692    3    1.6666666666666667\n",
      "694    7    1.8571428571428572\n",
      "700    4    0.875\n",
      "703    2    1.75\n",
      "710    2    1.75\n",
      "720    2    1.5\n",
      "721    4    1.75\n",
      "722    2    1.5\n",
      "724    2    0.5\n",
      "734    5    0.8\n",
      "742    4    1.375\n",
      "748    2    1.75\n",
      "751    3    1.0\n",
      "756    3    1.5\n",
      "820    2    1.5\n",
      "823    2    1.75\n",
      "829    2    1.25\n",
      "832    7    1.8571428571428572\n",
      "853    1    0.5\n",
      "871    1    1.5\n",
      "874    2    1.75\n",
      "879    4    1.75\n",
      "882    4    1.875\n",
      "884    1    0.5\n",
      "889    2    1.75\n",
      "896    1    1.5\n",
      "923    5    1.7\n",
      "924    3    1.6666666666666667\n",
      "933    4    1.875\n",
      "934    1    0.5\n",
      "935    1    0.5\n",
      "951    4    1.75\n",
      "967    1    1.5\n",
      "974    1    1.5\n",
      "978    2    1.25\n",
      "982    1    1.0\n",
      "989    1    0.5\n",
      "991    2    1.5\n",
      "993    1    0.5\n",
      "996    1    1.5\n",
      "1003    3    1.0\n",
      "1008    1    1.0\n",
      "1009    1    1.0\n",
      "1054    8    1.8125\n",
      "1083    2    1.75\n",
      "1086    2    1.75\n",
      "1095    2    1.0\n",
      "1108    2    1.5\n",
      "1109    3    1.3333333333333333\n",
      "1110    2    1.75\n",
      "1113    2    1.75\n",
      "1120    2    1.0\n",
      "1142    1    1.0\n",
      "1158    2    1.75\n",
      "1164    2    1.75\n",
      "1166    2    1.25\n",
      "1180    1    1.0\n",
      "1210    3    1.8333333333333333\n",
      "1216    1    0.5\n",
      "1218    3    1.6666666666666667\n",
      "1235    2    1.0\n",
      "1236    2    1.75\n",
      "1237    4    1.625\n",
      "1239    2    1.5\n",
      "1243    2    1.75\n",
      "1249    3    1.1666666666666667\n",
      "1250    2    1.75\n",
      "1255    1    1.0\n",
      "1272    2    1.75\n",
      "1282    2    1.75\n",
      "1305    1    1.5\n",
      "1311    1    0.5\n",
      "1312    1    1.5\n",
      "1314    1    1.5\n",
      "1318    2    1.0\n",
      "1320    1    1.5\n",
      "1325    1    1.5\n",
      "1326    1    1.0\n",
      "1334    1    1.0\n",
      "1337    1    0.5\n",
      "1342    2    1.0\n",
      "1354    1    1.5\n",
      "1357    4    1.375\n",
      "1375    1    1.5\n",
      "1381    1    1.0\n",
      "1382    2    0.75\n",
      "1384    3    1.1666666666666667\n",
      "1387    2    1.5\n",
      "1406    1    1.0\n",
      "1441    1    0.5\n",
      "1469    1    1.5\n",
      "1483    1    0.5\n",
      "1514    1    1.0\n",
      "1520    2    1.75\n",
      "1527    2    1.0\n",
      "1543    2    1.25\n",
      "1550    1    1.5\n",
      "1554    1    0.5\n",
      "1569    2    1.25\n",
      "1582    2    1.5\n",
      "1589    2    1.75\n",
      "1640    2    1.75\n",
      "1654    2    1.0\n",
      "1670    1    1.0\n",
      "1674    1    1.0\n",
      "1678    1    1.5\n",
      "1686    1    1.5\n",
      "1700    1    0.5\n",
      "1708    1    1.5\n",
      "1719    1    1.5\n",
      "1726    1    1.5\n",
      "1728    1    1.5\n",
      "1767    2    1.75\n",
      "1770    1    0.5\n",
      "1772    1    0.5\n",
      "1773    1    1.5\n",
      "1775    1    1.5\n",
      "1778    1    1.0\n",
      "1784    2    1.75\n",
      "1785    1    0.5\n",
      "1833    1    0.5\n",
      "1840    1    1.5\n",
      "1854    1    1.0\n",
      "1859    1    1.0\n",
      "1882    1    1.0\n",
      "1885    1    0.5\n",
      "1919    2    1.5\n",
      "1938    2    1.5\n",
      "1939    2    1.5\n",
      "1952    2    1.5\n",
      "1955    1    0.5\n",
      "1956    1    0.5\n",
      "1958    1    1.0\n",
      "1961    1    1.0\n",
      "1966    1    1.0\n",
      "1987    1    1.5\n",
      "1998    1    0.5\n",
      "2001    1    1.0\n",
      "2005    1    0.5\n",
      "2007    1    1.0\n",
      "2008    1    1.0\n",
      "2011    1    1.5\n",
      "2012    1    1.0\n",
      "2017    1    1.5\n",
      "2060    1    1.0\n",
      "2063    1    1.5\n",
      "Target items ( 192 )  :  [14, 32, 36, 46, 63, 65, 76, 100, 108, 113, 116, 119, 125, 128, 137, 156, 171, 175, 179, 184, 260, 263, 277, 326, 351, 354, 364, 381, 387, 423, 433, 441, 449, 453, 461, 482, 506, 510, 523, 541, 568, 587, 592, 594, 608, 685, 692, 694, 700, 703, 710, 720, 721, 722, 724, 734, 742, 748, 751, 756, 820, 823, 829, 832, 853, 871, 874, 879, 882, 884, 889, 896, 923, 924, 933, 934, 935, 951, 967, 974, 978, 982, 989, 991, 993, 996, 1003, 1008, 1009, 1054, 1083, 1086, 1095, 1108, 1109, 1110, 1113, 1120, 1142, 1158, 1164, 1166, 1180, 1210, 1216, 1218, 1235, 1236, 1237, 1239, 1243, 1249, 1250, 1255, 1272, 1282, 1305, 1311, 1312, 1314, 1318, 1320, 1325, 1326, 1334, 1337, 1342, 1354, 1357, 1375, 1381, 1382, 1384, 1387, 1406, 1441, 1469, 1483, 1514, 1520, 1527, 1543, 1550, 1554, 1569, 1582, 1589, 1640, 1654, 1670, 1674, 1678, 1686, 1700, 1708, 1719, 1726, 1728, 1767, 1770, 1772, 1773, 1775, 1778, 1784, 1785, 1833, 1840, 1854, 1859, 1882, 1885, 1919, 1938, 1939, 1952, 1955, 1956, 1958, 1961, 1966, 1987, 1998, 2001, 2005, 2007, 2008, 2011, 2012, 2017, 2060, 2063] \n",
      "\n",
      "Window items ( 50 )  :  [256, 1, 2, 3, 4, 5, 6, 7, 8, 9, 10, 11, 12, 13, 257, 17, 205, 206, 207, 210, 211, 84, 212, 213, 214, 215, 216, 217, 219, 220, 121, 233, 234, 235, 236, 239, 241, 243, 244, 245, 246, 247, 248, 249, 250, 251, 252, 253, 254, 255] \n",
      "\n"
     ]
    }
   ],
   "source": [
    "window_Items = []\n",
    "target_Items = []\n",
    "for i in items:\n",
    "    if ((calculated_Rating[i]<2.8) and (item_freq_count[i] > 100) ): #no of items here remains constant for (item_freq_count[i] > 100,300,500)\n",
    "        target_Items.append(i)\n",
    "#         print (i,'  ',item_freq_count[i] ,'  ',calculated_Rating[i])\n",
    "    \n",
    "    if ((item_freq_count[i] > 200)): #and (calculated_Rating[i]<3)\n",
    "        window_Items.append(i)\n",
    "\n",
    "print ('Target items','(',len(target_Items),')', ' : ',target_Items,'\\n')\n",
    "print ('Window items','(',len(list(set(window_Items)-set(target_Items))),')', ' : ',list(set(window_Items)-set(target_Items)),'\\n')"
   ]
  },
  {
   "cell_type": "code",
   "execution_count": null,
   "metadata": {
    "collapsed": true
   },
   "outputs": [],
   "source": []
  },
  {
   "cell_type": "code",
   "execution_count": null,
   "metadata": {
    "collapsed": true
   },
   "outputs": [],
   "source": []
  },
  {
   "cell_type": "code",
   "execution_count": null,
   "metadata": {
    "collapsed": true
   },
   "outputs": [],
   "source": []
  }
 ],
 "metadata": {
  "kernelspec": {
   "display_name": "Python 3",
   "language": "python",
   "name": "python3"
  },
  "language_info": {
   "codemirror_mode": {
    "name": "ipython",
    "version": 3
   },
   "file_extension": ".py",
   "mimetype": "text/x-python",
   "name": "python",
   "nbconvert_exporter": "python",
   "pygments_lexer": "ipython3",
   "version": "3.6.1"
  }
 },
 "nbformat": 4,
 "nbformat_minor": 2
}
