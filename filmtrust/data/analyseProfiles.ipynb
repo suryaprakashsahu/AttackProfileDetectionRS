{
 "cells": [
  {
   "cell_type": "markdown",
   "metadata": {
    "collapsed": true
   },
   "source": [
    "## Data Analysis :attack profile injection"
   ]
  },
  {
   "cell_type": "code",
   "execution_count": 1,
   "metadata": {
    "collapsed": false
   },
   "outputs": [
    {
     "name": "stdout",
     "output_type": "stream",
     "text": [
      "ERROR! Session/line number was not unique in database. History logging moved to new session 27\n"
     ]
    }
   ],
   "source": [
    "import pandas as pd"
   ]
  },
  {
   "cell_type": "code",
   "execution_count": 2,
   "metadata": {
    "collapsed": false
   },
   "outputs": [
    {
     "data": {
      "text/plain": [
       "user        3.0\n",
       "item      100.0\n",
       "rating      0.5\n",
       "Name: 100, dtype: float64"
      ]
     },
     "execution_count": 2,
     "metadata": {},
     "output_type": "execute_result"
    }
   ],
   "source": [
    "# trust = pd.read_csv('trust.txt', sep=\" \", header=None)\n",
    "# trust.columns = ['trustor', 'trusting','t_value']\n",
    "\n",
    "ratings = pd.read_csv('ratings.txt', sep=\" \", header=None)\n",
    "ratings.columns = ['user', 'item','rating']\n",
    "ratings.iloc[100,:]"
   ]
  },
  {
   "cell_type": "code",
   "execution_count": 3,
   "metadata": {
    "collapsed": false
   },
   "outputs": [
    {
     "data": {
      "text/html": [
       "<div>\n",
       "<table border=\"1\" class=\"dataframe\">\n",
       "  <thead>\n",
       "    <tr style=\"text-align: right;\">\n",
       "      <th></th>\n",
       "      <th>user</th>\n",
       "      <th>item</th>\n",
       "      <th>rating</th>\n",
       "    </tr>\n",
       "  </thead>\n",
       "  <tbody>\n",
       "    <tr>\n",
       "      <th>count</th>\n",
       "      <td>35497.000000</td>\n",
       "      <td>35497.000000</td>\n",
       "      <td>35497.000000</td>\n",
       "    </tr>\n",
       "    <tr>\n",
       "      <th>mean</th>\n",
       "      <td>744.247824</td>\n",
       "      <td>265.524946</td>\n",
       "      <td>3.002803</td>\n",
       "    </tr>\n",
       "    <tr>\n",
       "      <th>std</th>\n",
       "      <td>433.199457</td>\n",
       "      <td>346.854769</td>\n",
       "      <td>0.918692</td>\n",
       "    </tr>\n",
       "    <tr>\n",
       "      <th>min</th>\n",
       "      <td>1.000000</td>\n",
       "      <td>1.000000</td>\n",
       "      <td>0.500000</td>\n",
       "    </tr>\n",
       "    <tr>\n",
       "      <th>25%</th>\n",
       "      <td>356.000000</td>\n",
       "      <td>12.000000</td>\n",
       "      <td>2.500000</td>\n",
       "    </tr>\n",
       "    <tr>\n",
       "      <th>50%</th>\n",
       "      <td>735.000000</td>\n",
       "      <td>216.000000</td>\n",
       "      <td>3.000000</td>\n",
       "    </tr>\n",
       "    <tr>\n",
       "      <th>75%</th>\n",
       "      <td>1130.000000</td>\n",
       "      <td>251.000000</td>\n",
       "      <td>4.000000</td>\n",
       "    </tr>\n",
       "    <tr>\n",
       "      <th>max</th>\n",
       "      <td>1508.000000</td>\n",
       "      <td>2071.000000</td>\n",
       "      <td>4.000000</td>\n",
       "    </tr>\n",
       "  </tbody>\n",
       "</table>\n",
       "</div>"
      ],
      "text/plain": [
       "               user          item        rating\n",
       "count  35497.000000  35497.000000  35497.000000\n",
       "mean     744.247824    265.524946      3.002803\n",
       "std      433.199457    346.854769      0.918692\n",
       "min        1.000000      1.000000      0.500000\n",
       "25%      356.000000     12.000000      2.500000\n",
       "50%      735.000000    216.000000      3.000000\n",
       "75%     1130.000000    251.000000      4.000000\n",
       "max     1508.000000   2071.000000      4.000000"
      ]
     },
     "execution_count": 3,
     "metadata": {},
     "output_type": "execute_result"
    }
   ],
   "source": [
    "ratings.describe()"
   ]
  },
  {
   "cell_type": "code",
   "execution_count": 4,
   "metadata": {
    "collapsed": false
   },
   "outputs": [
    {
     "name": "stdout",
     "output_type": "stream",
     "text": [
      "(35497, 3)\n",
      "items :  2071     users :  1508\n",
      "max_Rating :  4.0     min_Rating :  0.5\n"
     ]
    }
   ],
   "source": [
    "print (ratings.shape)\n",
    "# print (trust.shape)\n",
    "\n",
    "print ('items : ',len(ratings['item'].value_counts()), '   ','users : ',len(ratings['user'].value_counts()) )\n",
    "print ('max_Rating : ',ratings['rating'].max(),'   ','min_Rating : ',ratings['rating'].min())"
   ]
  },
  {
   "cell_type": "code",
   "execution_count": 5,
   "metadata": {
    "collapsed": false
   },
   "outputs": [
    {
     "name": "stdout",
     "output_type": "stream",
     "text": [
      "number of ratings given to item7 :  1044\n"
     ]
    }
   ],
   "source": [
    "item_freq_count = ratings['item'].value_counts()\n",
    "print ('number of ratings given to item7 : ',item_freq_count[7])"
   ]
  },
  {
   "cell_type": "code",
   "execution_count": 6,
   "metadata": {
    "collapsed": true
   },
   "outputs": [],
   "source": [
    "calculated_Rating = {}\n",
    "items = ratings['item'].unique()\n",
    "\n",
    "#rating\n",
    "R = ratings.groupby(['item'])['rating'].mean()\n",
    "for i in items:\n",
    "#     print (i)\n",
    "    calculated_Rating[i] = R[i]\n",
    "    \n",
    "# print (calculated_Rating)"
   ]
  },
  {
   "cell_type": "markdown",
   "metadata": {},
   "source": [
    "## Nuke Attack"
   ]
  },
  {
   "cell_type": "code",
   "execution_count": 7,
   "metadata": {
    "collapsed": false
   },
   "outputs": [
    {
     "name": "stdout",
     "output_type": "stream",
     "text": [
      "2    3.19289617486     915\n",
      "3    3.03660220994     724\n",
      "7    3.1566091954     1044\n",
      "11    3.37593984962     931\n",
      "13    3.25650557621     807\n",
      "17    3.07484662577     815\n",
      "215    3.18331143233     761\n",
      "236    3.13079019074     734\n",
      "Target items ( 8 )  :  [2, 3, 7, 11, 13, 17, 215, 236]\n",
      "Window items ( 21 )  :  [1, 257, 4, 5, 8, 9, 10, 234, 12, 205, 235, 207, 239, 241, 211, 213, 216, 250, 219, 220, 255] \n",
      "\n"
     ]
    }
   ],
   "source": [
    "window_Items = []\n",
    "target_Items = []\n",
    "\n",
    "for i in items:\n",
    "    if ((calculated_Rating[i]>3) and (item_freq_count[i] > 700) ): #no of items here remains constant for (item_freq_count[i] > 100,300,500)\n",
    "        target_Items.append(i)\n",
    "        print (i,'  ',calculated_Rating[i], '   ',item_freq_count[i])\n",
    "    \n",
    "    if ((item_freq_count[i] > 500)): #and (calculated_Rating[i]<3)\n",
    "        window_Items.append(i)\n",
    "\n",
    "print ('Target items','(',len(target_Items),')', ' : ',target_Items)\n",
    "print ('Window items','(',len(list(set(window_Items)-set(target_Items))),')', ' : ',list(set(window_Items)-set(target_Items)),'\\n')"
   ]
  },
  {
   "cell_type": "markdown",
   "metadata": {},
   "source": [
    "## Push Attack"
   ]
  },
  {
   "cell_type": "markdown",
   "metadata": {},
   "source": [
    "2 types of push_attack target items can be there.\n",
    "1. Low average rating and low number of ratings\n",
    "2. Low average rating and high number of ratings(not available in this dataset)\n",
    "  \n",
    "Hence going only with 1st option."
   ]
  },
  {
   "cell_type": "code",
   "execution_count": 22,
   "metadata": {
    "collapsed": false
   },
   "outputs": [
    {
     "name": "stdout",
     "output_type": "stream",
     "text": [
      "12    756    2.80423280423\n",
      "207    883    2.85900339751\n",
      "216    581    2.88296041308\n",
      "235    598    2.69314381271\n",
      "241    552    2.89945652174\n",
      "Target items ( 5 )  :  [12, 207, 216, 235, 241] \n",
      "\n",
      "Window items ( 24 )  :  [1, 2, 3, 4, 5, 257, 7, 8, 9, 10, 11, 13, 205, 17, 211, 213, 215, 219, 220, 234, 236, 239, 250, 255] \n",
      "\n"
     ]
    }
   ],
   "source": [
    "window_Items = []\n",
    "target_Items = []\n",
    "for i in items:\n",
    "    if ((calculated_Rating[i]<2.9) and (item_freq_count[i] >550) ): #no of items here remains constant for (item_freq_count[i] > 100,300,500)\n",
    "        target_Items.append(i)\n",
    "        print (i,'  ',item_freq_count[i] ,'  ',calculated_Rating[i])\n",
    "    \n",
    "    if ((item_freq_count[i] > 500)): #and (calculated_Rating[i]<3)\n",
    "        window_Items.append(i)\n",
    "\n",
    "print ('Target items','(',len(target_Items),')', ' : ',target_Items,'\\n')\n",
    "print ('Window items','(',len(list(set(window_Items)-set(target_Items))),')', ' : ',list(set(window_Items)-set(target_Items)),'\\n')"
   ]
  },
  {
   "cell_type": "markdown",
   "metadata": {},
   "source": [
    "## The above one is used in user-user push attack. "
   ]
  },
  {
   "cell_type": "code",
   "execution_count": 32,
   "metadata": {
    "collapsed": false
   },
   "outputs": [
    {
     "name": "stdout",
     "output_type": "stream",
     "text": [
      "113    2    0.75\n",
      "175    2    0.75\n",
      "184    2    0.75\n",
      "700    4    0.875\n",
      "734    5    0.8\n",
      "1382    2    0.75\n",
      "Target items ( 6 )  :  [113, 175, 184, 700, 734, 1382] \n",
      "\n",
      "Window items ( 29 )  :  [1, 2, 3, 4, 5, 257, 7, 8, 9, 10, 11, 12, 13, 205, 207, 17, 211, 213, 215, 216, 219, 220, 234, 235, 236, 239, 241, 250, 255] \n",
      "\n"
     ]
    }
   ],
   "source": [
    "window_Items = []\n",
    "target_Items = []\n",
    "for i in items:\n",
    "    if ((calculated_Rating[i]<1) and (calculated_Rating[i]>0.5) ): #no of items here remains constant for (item_freq_count[i] > 100,300,500)\n",
    "        target_Items.append(i)\n",
    "        print (i,'  ',item_freq_count[i] ,'  ',calculated_Rating[i])\n",
    "    \n",
    "    if ((item_freq_count[i] > 500)): #and (calculated_Rating[i]<3)\n",
    "        window_Items.append(i)\n",
    "\n",
    "print ('Target items','(',len(target_Items),')', ' : ',target_Items,'\\n')\n",
    "print ('Window items','(',len(list(set(window_Items)-set(target_Items))),')', ' : ',list(set(window_Items)-set(target_Items)),'\\n')"
   ]
  },
  {
   "cell_type": "code",
   "execution_count": null,
   "metadata": {
    "collapsed": true
   },
   "outputs": [],
   "source": []
  },
  {
   "cell_type": "code",
   "execution_count": null,
   "metadata": {
    "collapsed": true
   },
   "outputs": [],
   "source": []
  }
 ],
 "metadata": {
  "anaconda-cloud": {},
  "kernelspec": {
   "display_name": "Python [Root]",
   "language": "python",
   "name": "Python [Root]"
  },
  "language_info": {
   "codemirror_mode": {
    "name": "ipython",
    "version": 3
   },
   "file_extension": ".py",
   "mimetype": "text/x-python",
   "name": "python",
   "nbconvert_exporter": "python",
   "pygments_lexer": "ipython3",
   "version": "3.5.2"
  }
 },
 "nbformat": 4,
 "nbformat_minor": 2
}
