{
 "cells": [
  {
   "cell_type": "markdown",
   "metadata": {
    "collapsed": true
   },
   "source": [
    "## Data Analysis :attack profile injection"
   ]
  },
  {
   "cell_type": "code",
   "execution_count": 1,
   "metadata": {
    "collapsed": true
   },
   "outputs": [],
   "source": [
    "import pandas as pd"
   ]
  },
  {
   "cell_type": "code",
   "execution_count": 2,
   "metadata": {},
   "outputs": [
    {
     "data": {
      "text/plain": [
       "user        3.0\n",
       "item      100.0\n",
       "rating      0.5\n",
       "Name: 100, dtype: float64"
      ]
     },
     "execution_count": 2,
     "metadata": {},
     "output_type": "execute_result"
    }
   ],
   "source": [
    "# trust = pd.read_csv('trust.txt', sep=\" \", header=None)\n",
    "# trust.columns = ['trustor', 'trusting','t_value']\n",
    "\n",
    "ratings = pd.read_csv('ratings.txt', sep=\" \", header=None)\n",
    "ratings.columns = ['user', 'item','rating']\n",
    "ratings.iloc[100,:]"
   ]
  },
  {
   "cell_type": "code",
   "execution_count": 3,
   "metadata": {},
   "outputs": [
    {
     "data": {
      "text/html": [
       "<div>\n",
       "<style>\n",
       "    .dataframe thead tr:only-child th {\n",
       "        text-align: right;\n",
       "    }\n",
       "\n",
       "    .dataframe thead th {\n",
       "        text-align: left;\n",
       "    }\n",
       "\n",
       "    .dataframe tbody tr th {\n",
       "        vertical-align: top;\n",
       "    }\n",
       "</style>\n",
       "<table border=\"1\" class=\"dataframe\">\n",
       "  <thead>\n",
       "    <tr style=\"text-align: right;\">\n",
       "      <th></th>\n",
       "      <th>user</th>\n",
       "      <th>item</th>\n",
       "      <th>rating</th>\n",
       "    </tr>\n",
       "  </thead>\n",
       "  <tbody>\n",
       "    <tr>\n",
       "      <th>count</th>\n",
       "      <td>35497.000000</td>\n",
       "      <td>35497.000000</td>\n",
       "      <td>35497.000000</td>\n",
       "    </tr>\n",
       "    <tr>\n",
       "      <th>mean</th>\n",
       "      <td>744.247824</td>\n",
       "      <td>265.524946</td>\n",
       "      <td>3.002803</td>\n",
       "    </tr>\n",
       "    <tr>\n",
       "      <th>std</th>\n",
       "      <td>433.199457</td>\n",
       "      <td>346.854769</td>\n",
       "      <td>0.918692</td>\n",
       "    </tr>\n",
       "    <tr>\n",
       "      <th>min</th>\n",
       "      <td>1.000000</td>\n",
       "      <td>1.000000</td>\n",
       "      <td>0.500000</td>\n",
       "    </tr>\n",
       "    <tr>\n",
       "      <th>25%</th>\n",
       "      <td>356.000000</td>\n",
       "      <td>12.000000</td>\n",
       "      <td>2.500000</td>\n",
       "    </tr>\n",
       "    <tr>\n",
       "      <th>50%</th>\n",
       "      <td>735.000000</td>\n",
       "      <td>216.000000</td>\n",
       "      <td>3.000000</td>\n",
       "    </tr>\n",
       "    <tr>\n",
       "      <th>75%</th>\n",
       "      <td>1130.000000</td>\n",
       "      <td>251.000000</td>\n",
       "      <td>4.000000</td>\n",
       "    </tr>\n",
       "    <tr>\n",
       "      <th>max</th>\n",
       "      <td>1508.000000</td>\n",
       "      <td>2071.000000</td>\n",
       "      <td>4.000000</td>\n",
       "    </tr>\n",
       "  </tbody>\n",
       "</table>\n",
       "</div>"
      ],
      "text/plain": [
       "               user          item        rating\n",
       "count  35497.000000  35497.000000  35497.000000\n",
       "mean     744.247824    265.524946      3.002803\n",
       "std      433.199457    346.854769      0.918692\n",
       "min        1.000000      1.000000      0.500000\n",
       "25%      356.000000     12.000000      2.500000\n",
       "50%      735.000000    216.000000      3.000000\n",
       "75%     1130.000000    251.000000      4.000000\n",
       "max     1508.000000   2071.000000      4.000000"
      ]
     },
     "execution_count": 3,
     "metadata": {},
     "output_type": "execute_result"
    }
   ],
   "source": [
    "ratings.describe()"
   ]
  },
  {
   "cell_type": "code",
   "execution_count": 4,
   "metadata": {},
   "outputs": [
    {
     "name": "stdout",
     "output_type": "stream",
     "text": [
      "(35497, 3)\n",
      "items :  2071     users :  1508\n",
      "max_Rating :  4.0     min_Rating :  0.5\n"
     ]
    }
   ],
   "source": [
    "print (ratings.shape)\n",
    "# print (trust.shape)\n",
    "\n",
    "print ('items : ',len(ratings['item'].value_counts()), '   ','users : ',len(ratings['user'].value_counts()) )\n",
    "print ('max_Rating : ',ratings['rating'].max(),'   ','min_Rating : ',ratings['rating'].min())"
   ]
  },
  {
   "cell_type": "code",
   "execution_count": 5,
   "metadata": {},
   "outputs": [
    {
     "name": "stdout",
     "output_type": "stream",
     "text": [
      "number of ratings given to item7 :  1044\n"
     ]
    }
   ],
   "source": [
    "item_freq_count = ratings['item'].value_counts()\n",
    "print ('number of ratings given to item7 : ',item_freq_count[7])"
   ]
  },
  {
   "cell_type": "code",
   "execution_count": 6,
   "metadata": {
    "collapsed": true
   },
   "outputs": [],
   "source": [
    "calculated_Rating = {}\n",
    "items = ratings['item'].unique()\n",
    "\n",
    "#rating\n",
    "R = ratings.groupby(['item'])['rating'].mean()\n",
    "for i in items:\n",
    "#     print (i)\n",
    "    calculated_Rating[i] = R[i]\n",
    "    \n",
    "# print (calculated_Rating)"
   ]
  },
  {
   "cell_type": "markdown",
   "metadata": {},
   "source": [
    "## Nuke Attack"
   ]
  },
  {
   "cell_type": "code",
   "execution_count": 7,
   "metadata": {},
   "outputs": [
    {
     "name": "stdout",
     "output_type": "stream",
     "text": [
      "2    3.192896174863388\n",
      "3    3.036602209944751\n",
      "4    3.1851289833080423\n",
      "5    3.217453505007153\n",
      "7    3.156609195402299\n",
      "8    3.1937590711175616\n",
      "9    3.2113237639553427\n",
      "11    3.3759398496240602\n",
      "13    3.2565055762081783\n",
      "17    3.074846625766871\n",
      "211    3.1973684210526314\n",
      "215    3.183311432325887\n",
      "219    3.1325036603221084\n",
      "236    3.130790190735695\n",
      "250    3.1818181818181817\n",
      "Target items ( 15 )  :  [2, 3, 4, 5, 7, 8, 9, 11, 13, 17, 211, 215, 219, 236, 250]\n",
      "Window items ( 35 )  :  [256, 1, 257, 6, 10, 12, 205, 206, 207, 210, 84, 212, 213, 214, 216, 217, 220, 121, 233, 234, 235, 239, 241, 243, 244, 245, 246, 247, 248, 249, 251, 252, 253, 254, 255] \n",
      "\n"
     ]
    }
   ],
   "source": [
    "window_Items = []\n",
    "target_Items = []\n",
    "\n",
    "for i in items:\n",
    "    if ((calculated_Rating[i]>3) and (item_freq_count[i] > 500) ): #no of items here remains constant for (item_freq_count[i] > 100,300,500)\n",
    "        target_Items.append(i)\n",
    "        print (i,'  ',calculated_Rating[i])\n",
    "    \n",
    "    if ((item_freq_count[i] > 200)): #and (calculated_Rating[i]<3)\n",
    "        window_Items.append(i)\n",
    "\n",
    "print ('Target items','(',len(target_Items),')', ' : ',target_Items)\n",
    "print ('Window items','(',len(list(set(window_Items)-set(target_Items))),')', ' : ',list(set(window_Items)-set(target_Items)),'\\n')"
   ]
  },
  {
   "cell_type": "markdown",
   "metadata": {},
   "source": [
    "## Push Attack"
   ]
  },
  {
   "cell_type": "markdown",
   "metadata": {},
   "source": [
    "2 types of push_attack target items can be there.\n",
    "1. Low average rating and low number of ratings\n",
    "2. Low average rating and high number of ratings(not available in this dataset)\n",
    "  \n",
    "Hence going only with 1st option."
   ]
  },
  {
   "cell_type": "code",
   "execution_count": 12,
   "metadata": {},
   "outputs": [
    {
     "name": "stdout",
     "output_type": "stream",
     "text": [
      "100    6    1.6666666666666667\n",
      "441    9    1.9444444444444444\n",
      "453    9    1.7222222222222223\n",
      "510    11    1.9090909090909092\n",
      "592    14    1.75\n",
      "594    6    1.9166666666666667\n",
      "694    7    1.8571428571428572\n",
      "832    7    1.8571428571428572\n",
      "1054    8    1.8125\n",
      "Target items ( 9 )  :  [100, 441, 453, 510, 592, 594, 694, 832, 1054] \n",
      "\n",
      "Window items ( 50 )  :  [256, 1, 2, 3, 4, 5, 6, 7, 8, 9, 10, 11, 12, 13, 257, 17, 205, 206, 207, 210, 211, 84, 212, 213, 214, 215, 216, 217, 219, 220, 249, 233, 234, 235, 236, 239, 241, 243, 244, 245, 246, 247, 248, 121, 250, 251, 252, 253, 254, 255] \n",
      "\n"
     ]
    }
   ],
   "source": [
    "window_Items = []\n",
    "target_Items = []\n",
    "for i in items:\n",
    "    if ((calculated_Rating[i]<2) and (item_freq_count[i] >5) ): #no of items here remains constant for (item_freq_count[i] > 100,300,500)\n",
    "        target_Items.append(i)\n",
    "        print (i,'  ',item_freq_count[i] ,'  ',calculated_Rating[i])\n",
    "    \n",
    "    if ((item_freq_count[i] > 200)): #and (calculated_Rating[i]<3)\n",
    "        window_Items.append(i)\n",
    "\n",
    "print ('Target items','(',len(target_Items),')', ' : ',target_Items,'\\n')\n",
    "print ('Window items','(',len(list(set(window_Items)-set(target_Items))),')', ' : ',list(set(window_Items)-set(target_Items)),'\\n')"
   ]
  },
  {
   "cell_type": "code",
   "execution_count": null,
   "metadata": {
    "collapsed": true
   },
   "outputs": [],
   "source": []
  },
  {
   "cell_type": "code",
   "execution_count": null,
   "metadata": {
    "collapsed": true
   },
   "outputs": [],
   "source": []
  },
  {
   "cell_type": "code",
   "execution_count": null,
   "metadata": {
    "collapsed": true
   },
   "outputs": [],
   "source": []
  }
 ],
 "metadata": {
  "kernelspec": {
   "display_name": "Python 3",
   "language": "python",
   "name": "python3"
  },
  "language_info": {
   "codemirror_mode": {
    "name": "ipython",
    "version": 3
   },
   "file_extension": ".py",
   "mimetype": "text/x-python",
   "name": "python",
   "nbconvert_exporter": "python",
   "pygments_lexer": "ipython3",
   "version": "3.6.3"
  }
 },
 "nbformat": 4,
 "nbformat_minor": 2
}
