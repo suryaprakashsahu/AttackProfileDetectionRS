{
 "cells": [
  {
   "cell_type": "code",
   "execution_count": 4,
   "metadata": {},
   "outputs": [
    {
     "name": "stderr",
     "output_type": "stream",
     "text": [
      "/home/surya/anaconda3/lib/python3.6/importlib/_bootstrap.py:219: ImportWarning: can't resolve package from __spec__ or __package__, falling back on __name__ and __path__\n",
      "  return f(*args, **kwds)\n",
      "/home/surya/anaconda3/lib/python3.6/importlib/_bootstrap.py:219: ImportWarning: can't resolve package from __spec__ or __package__, falling back on __name__ and __path__\n",
      "  return f(*args, **kwds)\n",
      "/home/surya/anaconda3/lib/python3.6/importlib/_bootstrap.py:219: RuntimeWarning: numpy.dtype size changed, may indicate binary incompatibility. Expected 96, got 88\n",
      "  return f(*args, **kwds)\n",
      "/home/surya/anaconda3/lib/python3.6/importlib/_bootstrap.py:219: RuntimeWarning: numpy.dtype size changed, may indicate binary incompatibility. Expected 96, got 88\n",
      "  return f(*args, **kwds)\n",
      "/home/surya/anaconda3/lib/python3.6/importlib/_bootstrap.py:219: ImportWarning: can't resolve package from __spec__ or __package__, falling back on __name__ and __path__\n",
      "  return f(*args, **kwds)\n"
     ]
    }
   ],
   "source": [
    "import numpy as np\n",
    "from scipy import spatial,stats\n",
    "import pandas as pd\n",
    "import time\n",
    "import h5py\n",
    "# from tqdm import tqdm\n",
    "import math\n",
    "import matplotlib.pyplot as plt\n",
    "%matplotlib inline"
   ]
  },
  {
   "cell_type": "markdown",
   "metadata": {},
   "source": [
    "#### Test and Train split is done in the common way; using 20:80 ratio and considering whole dataset. This split willbe used only for finding K and trust values"
   ]
  },
  {
   "cell_type": "code",
   "execution_count": 3,
   "metadata": {},
   "outputs": [
    {
     "name": "stdout",
     "output_type": "stream",
     "text": [
      "/media/thepurpleowl/FCC8B519C8B4D35E/Academics_research/research/BKPatra/Attacks_RS/AttackProfileDetectionRS/filmtrust/User-Based-Recommendation\n"
     ]
    }
   ],
   "source": [
    "import os\n",
    "print (os.getcwd())"
   ]
  },
  {
   "cell_type": "code",
   "execution_count": 4,
   "metadata": {},
   "outputs": [
    {
     "name": "stdout",
     "output_type": "stream",
     "text": [
      "/media/thepurpleowl/FCC8B519C8B4D35E/Academics_research/research/BKPatra/Attacks_RS/AttackProfileDetectionRS/filmtrust/User-Based-Recommendation\n",
      "/media/thepurpleowl/FCC8B519C8B4D35E/Academics_research/research/BKPatra/Attacks_RS/AttackProfileDetectionRS/filmtrust/User-Based-Recommendation/../data/ratings.txt\n"
     ]
    }
   ],
   "source": [
    "import os,sys\n",
    "my_path = os.getcwd()\n",
    "print (my_path)\n",
    "path = os.path.join(my_path, \"../data/ratings.txt\")\n",
    "print (path)"
   ]
  },
  {
   "cell_type": "code",
   "execution_count": 5,
   "metadata": {
    "collapsed": true
   },
   "outputs": [],
   "source": [
    "train = pd.read_csv(path,sep=' ',header=None,names=['userId','itemId','rating'])"
   ]
  },
  {
   "cell_type": "code",
   "execution_count": 6,
   "metadata": {},
   "outputs": [
    {
     "data": {
      "text/html": [
       "<div>\n",
       "<table border=\"1\" class=\"dataframe\">\n",
       "  <thead>\n",
       "    <tr style=\"text-align: right;\">\n",
       "      <th></th>\n",
       "      <th>userId</th>\n",
       "      <th>itemId</th>\n",
       "      <th>rating</th>\n",
       "    </tr>\n",
       "  </thead>\n",
       "  <tbody>\n",
       "    <tr>\n",
       "      <th>count</th>\n",
       "      <td>35497.000000</td>\n",
       "      <td>35497.000000</td>\n",
       "      <td>35497.000000</td>\n",
       "    </tr>\n",
       "    <tr>\n",
       "      <th>mean</th>\n",
       "      <td>744.247824</td>\n",
       "      <td>265.524946</td>\n",
       "      <td>3.002803</td>\n",
       "    </tr>\n",
       "    <tr>\n",
       "      <th>std</th>\n",
       "      <td>433.199457</td>\n",
       "      <td>346.854769</td>\n",
       "      <td>0.918692</td>\n",
       "    </tr>\n",
       "    <tr>\n",
       "      <th>min</th>\n",
       "      <td>1.000000</td>\n",
       "      <td>1.000000</td>\n",
       "      <td>0.500000</td>\n",
       "    </tr>\n",
       "    <tr>\n",
       "      <th>25%</th>\n",
       "      <td>356.000000</td>\n",
       "      <td>12.000000</td>\n",
       "      <td>2.500000</td>\n",
       "    </tr>\n",
       "    <tr>\n",
       "      <th>50%</th>\n",
       "      <td>735.000000</td>\n",
       "      <td>216.000000</td>\n",
       "      <td>3.000000</td>\n",
       "    </tr>\n",
       "    <tr>\n",
       "      <th>75%</th>\n",
       "      <td>1130.000000</td>\n",
       "      <td>251.000000</td>\n",
       "      <td>4.000000</td>\n",
       "    </tr>\n",
       "    <tr>\n",
       "      <th>max</th>\n",
       "      <td>1508.000000</td>\n",
       "      <td>2071.000000</td>\n",
       "      <td>4.000000</td>\n",
       "    </tr>\n",
       "  </tbody>\n",
       "</table>\n",
       "</div>"
      ],
      "text/plain": [
       "             userId        itemId        rating\n",
       "count  35497.000000  35497.000000  35497.000000\n",
       "mean     744.247824    265.524946      3.002803\n",
       "std      433.199457    346.854769      0.918692\n",
       "min        1.000000      1.000000      0.500000\n",
       "25%      356.000000     12.000000      2.500000\n",
       "50%      735.000000    216.000000      3.000000\n",
       "75%     1130.000000    251.000000      4.000000\n",
       "max     1508.000000   2071.000000      4.000000"
      ]
     },
     "execution_count": 6,
     "metadata": {},
     "output_type": "execute_result"
    }
   ],
   "source": [
    "train.describe()"
   ]
  },
  {
   "cell_type": "code",
   "execution_count": 7,
   "metadata": {},
   "outputs": [
    {
     "data": {
      "text/plain": [
       "(35497, 3)"
      ]
     },
     "execution_count": 7,
     "metadata": {},
     "output_type": "execute_result"
    }
   ],
   "source": [
    "train.shape"
   ]
  },
  {
   "cell_type": "markdown",
   "metadata": {},
   "source": [
    "### Inject profiles"
   ]
  },
  {
   "cell_type": "code",
   "execution_count": 8,
   "metadata": {
    "collapsed": true
   },
   "outputs": [],
   "source": [
    "calculated_Rating = {}\n",
    "items = train['itemId'].unique()\n",
    "\n",
    "#rating\n",
    "R = train.groupby(['itemId'])['rating'].mean()\n",
    "for i in items:\n",
    "#     print (i)\n",
    "    calculated_Rating[i] = R[i]\n",
    "    \n",
    "# print (calculated_Rating)"
   ]
  },
  {
   "cell_type": "code",
   "execution_count": 9,
   "metadata": {
    "collapsed": true
   },
   "outputs": [],
   "source": [
    "window_items = [1, 257, 4, 5, 8, 9, 10, 234, 12, 205, 235, 207, 239, 241, 211, 213, 216, 250, 219, 220, 255] \n",
    "target_items = [2, 3, 7, 11, 13, 17, 215, 236]"
   ]
  },
  {
   "cell_type": "code",
   "execution_count": 10,
   "metadata": {
    "collapsed": true
   },
   "outputs": [],
   "source": [
    "nuke_rating = 0.5"
   ]
  },
  {
   "cell_type": "code",
   "execution_count": 11,
   "metadata": {
    "collapsed": true
   },
   "outputs": [],
   "source": [
    "attack_ids = list(range(1600,1700))\n",
    "\n",
    "for attacker in attack_ids:\n",
    "    for item in window_items:\n",
    "        a = calculated_Rating[item]\n",
    "        attack_rating = int(a) if (a-int(a)<0.5) else int(a)+1\n",
    "        train = train.append(pd.Series([attacker,item,attack_rating], index=['userId', 'itemId' ,'rating']), ignore_index=True)\n",
    "\n",
    "for attacker in attack_ids:\n",
    "    for item in target_items:\n",
    "        train = train.append(pd.Series([attacker,item,nuke_rating], index=['userId', 'itemId' ,'rating']), ignore_index=True)"
   ]
  },
  {
   "cell_type": "code",
   "execution_count": 12,
   "metadata": {},
   "outputs": [
    {
     "data": {
      "text/plain": [
       "(38397, 3)"
      ]
     },
     "execution_count": 12,
     "metadata": {},
     "output_type": "execute_result"
    }
   ],
   "source": [
    "train.shape"
   ]
  },
  {
   "cell_type": "markdown",
   "metadata": {},
   "source": [
    "### Creating trust value matrix"
   ]
  },
  {
   "cell_type": "code",
   "execution_count": 13,
   "metadata": {
    "collapsed": true
   },
   "outputs": [],
   "source": [
    "trust_dim = int(train['userId'].max()+1)\n",
    "sim = np.zeros(shape=(trust_dim,trust_dim))\n",
    "conf = np.zeros(shape=(trust_dim,trust_dim))"
   ]
  },
  {
   "cell_type": "markdown",
   "metadata": {},
   "source": [
    "### Calculating User-User Trust values"
   ]
  },
  {
   "cell_type": "code",
   "execution_count": 14,
   "metadata": {
    "collapsed": true
   },
   "outputs": [],
   "source": [
    "users = train['userId'].unique()\n",
    "users.sort()"
   ]
  },
  {
   "cell_type": "code",
   "execution_count": 15,
   "metadata": {},
   "outputs": [
    {
     "name": "stdout",
     "output_type": "stream",
     "text": [
      "0\n",
      "10\n",
      "20\n",
      "30\n",
      "40\n",
      "50\n",
      "60\n",
      "70\n",
      "80\n",
      "90\n",
      "100\n",
      "110\n",
      "120\n",
      "130\n",
      "140\n",
      "150\n",
      "160\n",
      "170\n",
      "180\n",
      "190\n",
      "200\n",
      "210\n",
      "220\n",
      "230\n",
      "240\n",
      "250\n",
      "260\n",
      "270\n",
      "280\n",
      "290\n",
      "300\n",
      "310\n",
      "320\n",
      "330\n",
      "340\n",
      "350\n",
      "360\n",
      "370\n",
      "380\n",
      "390\n",
      "400\n",
      "410\n",
      "420\n",
      "430\n",
      "440\n",
      "450\n",
      "460\n",
      "470\n",
      "480\n",
      "490\n",
      "500\n",
      "510\n",
      "520\n",
      "530\n",
      "540\n",
      "550\n",
      "560\n",
      "570\n",
      "580\n",
      "590\n",
      "600\n",
      "610\n",
      "620\n",
      "630\n",
      "640\n",
      "650\n",
      "660\n",
      "670\n",
      "680\n",
      "690\n",
      "700\n",
      "710\n",
      "720\n",
      "730\n",
      "740\n",
      "750\n",
      "760\n",
      "770\n",
      "780\n",
      "790\n",
      "800\n",
      "810\n",
      "820\n",
      "830\n",
      "840\n",
      "850\n",
      "860\n",
      "870\n",
      "880\n",
      "890\n",
      "900\n",
      "910\n",
      "920\n",
      "930\n",
      "940\n",
      "950\n",
      "960\n",
      "970\n",
      "980\n",
      "990\n",
      "1000\n",
      "1010\n",
      "1020\n",
      "1030\n",
      "1040\n",
      "1050\n",
      "1060\n",
      "1070\n",
      "1080\n",
      "1090\n",
      "1100\n",
      "1110\n",
      "1120\n",
      "1130\n",
      "1140\n",
      "1150\n",
      "1160\n",
      "1170\n",
      "1180\n",
      "1190\n",
      "1200\n",
      "1210\n",
      "1220\n",
      "1230\n",
      "1240\n",
      "1250\n",
      "1260\n",
      "1270\n",
      "1280\n",
      "1290\n",
      "1300\n",
      "1310\n",
      "1320\n",
      "1330\n",
      "1340\n",
      "1350\n",
      "1360\n",
      "1370\n",
      "1380\n",
      "1390\n",
      "1400\n",
      "1410\n",
      "1420\n",
      "1430\n",
      "1440\n",
      "1450\n",
      "1460\n",
      "1470\n",
      "1480\n",
      "1490\n",
      "1500\n",
      "1510\n",
      "1520\n",
      "1530\n",
      "1540\n",
      "1550\n",
      "1560\n",
      "1570\n",
      "1580\n",
      "1590\n",
      "1600\n"
     ]
    }
   ],
   "source": [
    "max_i = int(train['itemId'].max())\n",
    "\n",
    "t1=time.time()\n",
    "\n",
    "for index,trustor in enumerate(users):\n",
    "    if(index%10 == 0):\n",
    "        print (index)\n",
    "    trustor = int(trustor)  \n",
    "    trustor_rated = train[train['userId']==trustor]\n",
    "    trustor_vec = np.zeros(max_i)\n",
    "    for i1,t_v in enumerate(trustor_rated.itertuples(),1):\n",
    "        trustor_vec[int(t_v.itemId-1)] = t_v.rating\n",
    "        \n",
    "    for trustee in users: \n",
    "        trustee = int(trustee)\n",
    "        trustee_rated = train[train['userId']==trustee]\n",
    "        trustee_vec = np.zeros(max_i)\n",
    "        for i2,t_w in enumerate(trustee_rated.itertuples(),1):\n",
    "            trustee_vec[int(t_w.itemId-1)] = t_w.rating\n",
    "\n",
    "        sim[trustor][trustee] = stats.pearsonr(trustor_vec,trustee_vec)[0]\n",
    "        xt=pd.merge( trustor_rated,trustee_rated,how='inner',on=['itemId'])\n",
    "        conf[trustor][trustee]  = xt.shape[0]/trustor_rated.shape[0]\n",
    "            \n",
    "t2=time.time()        "
   ]
  },
  {
   "cell_type": "code",
   "execution_count": 16,
   "metadata": {},
   "outputs": [
    {
     "name": "stdout",
     "output_type": "stream",
     "text": [
      "11060.230773687363\n"
     ]
    }
   ],
   "source": [
    "print (t2-t1)"
   ]
  },
  {
   "cell_type": "code",
   "execution_count": 19,
   "metadata": {
    "collapsed": true
   },
   "outputs": [],
   "source": [
    "with h5py.File('Sim_Conf_user_nuke_total.h5', 'w') as hf:\n",
    "    hf.create_dataset(\"PCC similarity\",  data=sim)\n",
    "    hf.create_dataset(\"confidence\",  data=conf)"
   ]
  },
  {
   "cell_type": "markdown",
   "metadata": {
    "collapsed": true
   },
   "source": [
    "//--------------------------------------------------------------------------------------------------------------------------------------------------------------------------------------------------------------//"
   ]
  },
  {
   "cell_type": "code",
   "execution_count": 1,
   "metadata": {
    "collapsed": true
   },
   "outputs": [],
   "source": [
    "import warnings\n",
    "warnings.simplefilter(action='ignore', category=FutureWarning)\n",
    "import h5py\n",
    "warnings.resetwarnings()\n",
    "with h5py.File('Sim_Conf_user_nuke_total.h5', 'r') as hf:\n",
    "    sim = hf['PCC similarity'][:]\n",
    "    conf = hf['confidence'][:]"
   ]
  },
  {
   "cell_type": "markdown",
   "metadata": {},
   "source": [
    "### Calculating trust values"
   ]
  },
  {
   "cell_type": "code",
   "execution_count": 7,
   "metadata": {},
   "outputs": [],
   "source": [
    "trust_dim = sim.shape[0]\n",
    "trust_val = np.zeros(shape=(trust_dim,trust_dim))\n",
    "\n",
    "k_trust = 0.2\n",
    "for i in range(1,trust_dim,1):\n",
    "    for j in range(1,trust_dim,1):\n",
    "        temp_sim = sim[i][j]\n",
    "        temp_conf = conf[i][j]\n",
    "        if(temp_sim ==0 and temp_conf==0):\n",
    "            trust_val[i][j] = 0\n",
    "        elif(temp_sim ==0 and temp_conf!=0):\n",
    "            trust_val[i][j] = k_trust*temp_conf\n",
    "        elif(temp_sim !=0 and temp_conf!=0):\n",
    "            trust_val[i][j] = 2*temp_sim*temp_conf/(temp_sim+temp_conf)"
   ]
  },
  {
   "cell_type": "code",
   "execution_count": 8,
   "metadata": {
    "collapsed": true
   },
   "outputs": [],
   "source": [
    "with h5py.File('trust_values_user_total.h5', 'w') as hf:\n",
    "    hf.create_dataset(\"trust\",  data=trust_val)"
   ]
  },
  {
   "cell_type": "code",
   "execution_count": 9,
   "metadata": {},
   "outputs": [],
   "source": [
    "with h5py.File('trust_values_user_total.h5', 'r') as hf:\n",
    "    trust_val = hf['trust'][:]"
   ]
  },
  {
   "cell_type": "code",
   "execution_count": 10,
   "metadata": {},
   "outputs": [
    {
     "data": {
      "text/plain": [
       "431642"
      ]
     },
     "execution_count": 10,
     "metadata": {},
     "output_type": "execute_result"
    }
   ],
   "source": [
    "len(np.where(trust_val>0.6)[0])"
   ]
  },
  {
   "cell_type": "code",
   "execution_count": 11,
   "metadata": {},
   "outputs": [],
   "source": [
    "x = [i for i in range(0,11)]\n",
    "y = []\n",
    "total = trust_val.shape[0]*trust_val.shape[1]\n",
    "for i in x:\n",
    "    y.append(len(np.where(trust_val>(i/10))[0])/total)"
   ]
  },
  {
   "cell_type": "code",
   "execution_count": 12,
   "metadata": {},
   "outputs": [
    {
     "data": {
      "text/plain": [
       "[<matplotlib.lines.Line2D at 0x7fa740827748>]"
      ]
     },
     "execution_count": 12,
     "metadata": {},
     "output_type": "execute_result"
    },
    {
     "data": {
      "image/png": "[encoded data removed]",
      "text/plain": [
       "<matplotlib.figure.Figure at 0x7fa740855c88>"
      ]
     },
     "metadata": {},
     "output_type": "display_data"
    }
   ],
   "source": [
    "plt.plot(x,y)"
   ]
  },
  {
   "cell_type": "code",
   "execution_count": null,
   "metadata": {
    "collapsed": true
   },
   "outputs": [],
   "source": []
  },
  {
   "cell_type": "code",
   "execution_count": null,
   "metadata": {
    "collapsed": true
   },
   "outputs": [],
   "source": []
  }
 ],
 "metadata": {
  "anaconda-cloud": {},
  "kernelspec": {
   "display_name": "Python 3",
   "language": "python",
   "name": "python3"
  },
  "language_info": {
   "codemirror_mode": {
    "name": "ipython",
    "version": 3
   },
   "file_extension": ".py",
   "mimetype": "text/x-python",
   "name": "python",
   "nbconvert_exporter": "python",
   "pygments_lexer": "ipython3",
   "version": "3.6.3"
  }
 },
 "nbformat": 4,
 "nbformat_minor": 2
}
