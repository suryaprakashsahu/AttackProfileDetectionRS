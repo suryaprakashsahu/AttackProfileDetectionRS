{
 "cells": [
  {
   "cell_type": "code",
   "execution_count": 1,
   "metadata": {
    "collapsed": true
   },
   "outputs": [],
   "source": [
    "import numpy as np\n",
    "from scipy import spatial\n",
    "import pandas as pd\n",
    "import time\n",
    "import math\n",
    "import matplotlib.pyplot as plt\n",
    "%matplotlib inline"
   ]
  },
  {
   "cell_type": "code",
   "execution_count": 2,
   "metadata": {
    "collapsed": true
   },
   "outputs": [],
   "source": [
    "train=pd.read_csv('train.csv',usecols=[1,2,3])\n",
    "test=pd.read_csv('test.csv',usecols=[1,2,3])\n"
   ]
  },
  {
   "cell_type": "code",
   "execution_count": 3,
   "metadata": {
    "collapsed": false
   },
   "outputs": [
    {
     "data": {
      "text/html": [
       "<div>\n",
       "<style>\n",
       "    .dataframe thead tr:only-child th {\n",
       "        text-align: right;\n",
       "    }\n",
       "\n",
       "    .dataframe thead th {\n",
       "        text-align: left;\n",
       "    }\n",
       "\n",
       "    .dataframe tbody tr th {\n",
       "        vertical-align: top;\n",
       "    }\n",
       "</style>\n",
       "<table border=\"1\" class=\"dataframe\">\n",
       "  <thead>\n",
       "    <tr style=\"text-align: right;\">\n",
       "      <th></th>\n",
       "      <th>userId</th>\n",
       "      <th>itemId</th>\n",
       "      <th>rating</th>\n",
       "    </tr>\n",
       "  </thead>\n",
       "  <tbody>\n",
       "    <tr>\n",
       "      <th>0</th>\n",
       "      <td>1290</td>\n",
       "      <td>11</td>\n",
       "      <td>4.0</td>\n",
       "    </tr>\n",
       "    <tr>\n",
       "      <th>1</th>\n",
       "      <td>1150</td>\n",
       "      <td>213</td>\n",
       "      <td>4.0</td>\n",
       "    </tr>\n",
       "    <tr>\n",
       "      <th>2</th>\n",
       "      <td>851</td>\n",
       "      <td>213</td>\n",
       "      <td>3.5</td>\n",
       "    </tr>\n",
       "    <tr>\n",
       "      <th>3</th>\n",
       "      <td>1464</td>\n",
       "      <td>11</td>\n",
       "      <td>4.0</td>\n",
       "    </tr>\n",
       "    <tr>\n",
       "      <th>4</th>\n",
       "      <td>812</td>\n",
       "      <td>205</td>\n",
       "      <td>3.5</td>\n",
       "    </tr>\n",
       "  </tbody>\n",
       "</table>\n",
       "</div>"
      ],
      "text/plain": [
       "   userId  itemId  rating\n",
       "0    1290      11     4.0\n",
       "1    1150     213     4.0\n",
       "2     851     213     3.5\n",
       "3    1464      11     4.0\n",
       "4     812     205     3.5"
      ]
     },
     "execution_count": 3,
     "metadata": {},
     "output_type": "execute_result"
    }
   ],
   "source": [
    "train.head()"
   ]
  },
  {
   "cell_type": "code",
   "execution_count": 9,
   "metadata": {
    "collapsed": true
   },
   "outputs": [],
   "source": [
    "k_initial = 1\n",
    "k_test = 141\n",
    "step = 1\n",
    "\n",
    "K=[i for i in range(k_initial,k_test,step)]\n",
    "error=[0 for i in range(k_initial,k_test,step)]\n",
    "mae=[0 for i in range(k_initial,k_test,step)]\n",
    "gim=[0 for i in range(k_initial,k_test,step)]\n",
    "gpim=[0 for i in range(k_initial,k_test,step)]\n",
    "count_gim=[0 for i in range(k_initial,k_test,step)]\n",
    "count_gpim=[0 for i in range(k_initial,k_test,step)]"
   ]
  },
  {
   "cell_type": "code",
   "execution_count": 10,
   "metadata": {
    "collapsed": false
   },
   "outputs": [
    {
     "data": {
      "text/plain": [
       "[131, 132, 133, 134, 135, 136, 137, 138, 139, 140]"
      ]
     },
     "execution_count": 10,
     "metadata": {},
     "output_type": "execute_result"
    }
   ],
   "source": [
    "K[-10:]"
   ]
  },
  {
   "cell_type": "code",
   "execution_count": 11,
   "metadata": {
    "collapsed": true
   },
   "outputs": [],
   "source": [
    "t1=time.time()\n",
    "\n",
    "for index,i in enumerate(test.itertuples(),1):\n",
    "    predicted=0\n",
    "    usr=int(i.userId)\n",
    "    mov=int(i.itemId)\n",
    "    actual=i.rating\n",
    "        \n",
    "    list_A = train[train['itemId']== mov]\n",
    "    list_mov = train[train['userId']==usr]\n",
    "    similarity=[]\n",
    "    corres_rate=[]\n",
    "    \n",
    "    for ind2,u in enumerate(list_A.itertuples(),1):\n",
    "        c1=[]\n",
    "        c2=[]\n",
    "        c_user=int(u.userId)\n",
    "        list_curuser=train[train['userId']==c_user]\n",
    "        xt=pd.merge(list_mov,list_curuser,how='inner',on=['itemId'])\n",
    "        c1=xt['rating_x']\n",
    "        c2=xt['rating_y']\n",
    "        c1_list=c1.tolist()\n",
    "        c2_list=c2.tolist()\n",
    "        sim=0\n",
    "        if len(c1_list)!=0:\n",
    "            sim=(1-spatial.distance.cosine(c1_list,c2_list))\n",
    "        \n",
    "        similarity.append(sim)\n",
    "        corres_rate.append(u.rating)\n",
    "        \n",
    "    corres_rate = [x for _,x in sorted(zip(similarity,corres_rate),reverse=True)]\n",
    "    similarity.sort(reverse=True)\n",
    "   \n",
    "    #for k in K:\n",
    "    cs=0\n",
    "    numc=0\n",
    "    for k in K:\n",
    "        k = k - k_initial+1\n",
    "        if (k-1)>=len(similarity):\n",
    "            for m in range(k,k_test):\n",
    "                error[m-1]+=((actual-predicted)**2)\n",
    "                mae[m-1]+=(abs(actual-predicted))\n",
    "                if predicted >3:\n",
    "                    gpim[m-1]+=(abs(actual-predicted))\n",
    "                    count_gpim[m-1]+=1\n",
    "                if actual >3:\n",
    "                    gim[m-1]+=(abs(actual-predicted))\n",
    "                    count_gim[m-1]+=1\n",
    "            break\n",
    "            \n",
    "        cs+=similarity[k-1]\n",
    "        numc+=(similarity[k-1]*corres_rate[k-1])\n",
    "       \n",
    "        if cs!=0:\n",
    "            predicted=numc/cs\n",
    "        error[k-1]+=((actual-predicted)**2)\n",
    "        mae[k-1]+=(abs(actual-predicted))\n",
    "        if predicted >3:\n",
    "            gpim[k-1]+=(abs(actual-predicted))\n",
    "            count_gpim[k-1]+=1\n",
    "        if actual >3:\n",
    "            gim[k-1]+=(abs(actual-predicted))\n",
    "            count_gim[k-1]+=1\n",
    "        \n",
    "    \n",
    "t2=time.time()        "
   ]
  },
  {
   "cell_type": "code",
   "execution_count": 12,
   "metadata": {
    "collapsed": false
   },
   "outputs": [
    {
     "name": "stdout",
     "output_type": "stream",
     "text": [
      "97687.3993806839\n"
     ]
    }
   ],
   "source": [
    "print (t2-t1)"
   ]
  },
  {
   "cell_type": "code",
   "execution_count": 13,
   "metadata": {
    "collapsed": false
   },
   "outputs": [
    {
     "data": {
      "text/plain": [
       "6584"
      ]
     },
     "execution_count": 13,
     "metadata": {},
     "output_type": "execute_result"
    }
   ],
   "source": [
    "index"
   ]
  },
  {
   "cell_type": "code",
   "execution_count": 14,
   "metadata": {
    "collapsed": true
   },
   "outputs": [],
   "source": [
    "error2 = [math.sqrt(i/index) for i in error]\n",
    "mae2 = [i/index for i in mae]\n",
    "gim2 = [i/j for i,j in zip(gim,count_gim)]\n",
    "gpim2 = [i/j for i,j in zip(gpim,count_gpim)]"
   ]
  },
  {
   "cell_type": "code",
   "execution_count": 15,
   "metadata": {
    "collapsed": false
   },
   "outputs": [
    {
     "name": "stdout",
     "output_type": "stream",
     "text": [
      "1.0641726818721255    138\n",
      "0.7769594346989468    137\n",
      "0.48225758765086857    1\n",
      "0.6736540036853476    129\n"
     ]
    }
   ],
   "source": [
    "print (min(error2),'  ',error2.index(min(error2)))\n",
    "print (min(mae2),'  ',mae2.index(min(mae2)))\n",
    "print (min(gim2),'  ',gim2.index(min(gim2)))\n",
    "print (min(gpim2),'  ',gpim2.index(min(gpim2)))"
   ]
  },
  {
   "cell_type": "code",
   "execution_count": 16,
   "metadata": {
    "collapsed": false
   },
   "outputs": [
    {
     "data": {
      "text/plain": [
       "[<matplotlib.lines.Line2D at 0x7f12d622d978>]"
      ]
     },
     "execution_count": 16,
     "metadata": {},
     "output_type": "execute_result"
    },
    {
     "data": {
      "image/png": "[encoded data removed]",
      "text/plain": [
       "<matplotlib.figure.Figure at 0x7f12d652c8d0>"
      ]
     },
     "metadata": {},
     "output_type": "display_data"
    }
   ],
   "source": [
    "plt.plot(K,error2)"
   ]
  },
  {
   "cell_type": "code",
   "execution_count": 17,
   "metadata": {
    "collapsed": false
   },
   "outputs": [
    {
     "data": {
      "text/plain": [
       "[<matplotlib.lines.Line2D at 0x7f12d62da588>]"
      ]
     },
     "execution_count": 17,
     "metadata": {},
     "output_type": "execute_result"
    },
    {
     "data": {
      "image/png": "[encoded data removed]",
      "text/plain": [
       "<matplotlib.figure.Figure at 0x7f12d652cfd0>"
      ]
     },
     "metadata": {},
     "output_type": "display_data"
    }
   ],
   "source": [
    "plt.plot(K,mae2)"
   ]
  },
  {
   "cell_type": "code",
   "execution_count": 18,
   "metadata": {
    "collapsed": false
   },
   "outputs": [
    {
     "data": {
      "text/plain": [
       "[<matplotlib.lines.Line2D at 0x7f12d51e45c0>]"
      ]
     },
     "execution_count": 18,
     "metadata": {},
     "output_type": "execute_result"
    },
    {
     "data": {
      "image/png": "[encoded data removed]",
      "text/plain": [
       "<matplotlib.figure.Figure at 0x7f12d62832b0>"
      ]
     },
     "metadata": {},
     "output_type": "display_data"
    }
   ],
   "source": [
    "plt.plot(K,gim2)"
   ]
  },
  {
   "cell_type": "code",
   "execution_count": 19,
   "metadata": {
    "collapsed": false
   },
   "outputs": [
    {
     "data": {
      "text/plain": [
       "[<matplotlib.lines.Line2D at 0x7f12d51c5be0>]"
      ]
     },
     "execution_count": 19,
     "metadata": {},
     "output_type": "execute_result"
    },
    {
     "data": {
      "image/png": "[encoded data removed]",
      "text/plain": [
       "<matplotlib.figure.Figure at 0x7f12d6319dd8>"
      ]
     },
     "metadata": {},
     "output_type": "display_data"
    }
   ],
   "source": [
    "plt.plot(K,gpim2)"
   ]
  },
  {
   "cell_type": "code",
   "execution_count": null,
   "metadata": {
    "collapsed": true
   },
   "outputs": [],
   "source": []
  }
 ],
 "metadata": {
  "kernelspec": {
   "display_name": "Python [Root]",
   "language": "python",
   "name": "Python [Root]"
  },
  "language_info": {
   "codemirror_mode": {
    "name": "ipython",
    "version": 3
   },
   "file_extension": ".py",
   "mimetype": "text/x-python",
   "name": "python",
   "nbconvert_exporter": "python",
   "pygments_lexer": "ipython3",
   "version": "3.5.2"
  }
 },
 "nbformat": 4,
 "nbformat_minor": 2
}
