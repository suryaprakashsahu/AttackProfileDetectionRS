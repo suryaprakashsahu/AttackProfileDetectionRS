{
 "cells": [
  {
   "cell_type": "code",
   "execution_count": 1,
   "metadata": {
    "collapsed": true
   },
   "outputs": [],
   "source": [
    "import numpy as np\n",
    "from scipy import spatial,stats\n",
    "import pandas as pd\n",
    "import time\n",
    "import math\n",
    "import matplotlib.pyplot as plt\n",
    "%matplotlib inline"
   ]
  },
  {
   "cell_type": "code",
   "execution_count": 47,
   "metadata": {
    "collapsed": true
   },
   "outputs": [],
   "source": [
    "window_items = [1, 257, 4, 5, 8, 9, 10, 234, 12, 205, 235, 207, 239, 241, 211, 213, 216, 250, 219, 220, 255] \n",
    "target_items = [2, 3, 7, 11, 13, 17, 215, 236]"
   ]
  },
  {
   "cell_type": "code",
   "execution_count": 230,
   "metadata": {
    "collapsed": false
   },
   "outputs": [
    {
     "name": "stdout",
     "output_type": "stream",
     "text": [
      "/media/thepurpleowl/FCC8B519C8B4D35E/Academics_research/research/BKPatra/Attacks_RS/AttackProfileDetectionRS/filmtrust/User-Based-Recommendation\n",
      "/media/thepurpleowl/FCC8B519C8B4D35E/Academics_research/research/BKPatra/Attacks_RS/AttackProfileDetectionRS/filmtrust/User-Based-Recommendation/../data/ratings.txt\n"
     ]
    }
   ],
   "source": [
    "import os,sys\n",
    "my_path = os.getcwd()\n",
    "print (my_path)\n",
    "path = os.path.join(my_path, \"../data/ratings.txt\")\n",
    "print (path)"
   ]
  },
  {
   "cell_type": "code",
   "execution_count": 231,
   "metadata": {
    "collapsed": true
   },
   "outputs": [],
   "source": [
    "train = pd.read_csv(path,sep=' ',header=None,names=['userId','itemId','rating'])"
   ]
  },
  {
   "cell_type": "code",
   "execution_count": 232,
   "metadata": {
    "collapsed": false
   },
   "outputs": [
    {
     "data": {
      "text/html": [
       "<div>\n",
       "<table border=\"1\" class=\"dataframe\">\n",
       "  <thead>\n",
       "    <tr style=\"text-align: right;\">\n",
       "      <th></th>\n",
       "      <th>userId</th>\n",
       "      <th>itemId</th>\n",
       "      <th>rating</th>\n",
       "    </tr>\n",
       "  </thead>\n",
       "  <tbody>\n",
       "    <tr>\n",
       "      <th>count</th>\n",
       "      <td>35497.000000</td>\n",
       "      <td>35497.000000</td>\n",
       "      <td>35497.000000</td>\n",
       "    </tr>\n",
       "    <tr>\n",
       "      <th>mean</th>\n",
       "      <td>744.247824</td>\n",
       "      <td>265.524946</td>\n",
       "      <td>3.002803</td>\n",
       "    </tr>\n",
       "    <tr>\n",
       "      <th>std</th>\n",
       "      <td>433.199457</td>\n",
       "      <td>346.854769</td>\n",
       "      <td>0.918692</td>\n",
       "    </tr>\n",
       "    <tr>\n",
       "      <th>min</th>\n",
       "      <td>1.000000</td>\n",
       "      <td>1.000000</td>\n",
       "      <td>0.500000</td>\n",
       "    </tr>\n",
       "    <tr>\n",
       "      <th>25%</th>\n",
       "      <td>356.000000</td>\n",
       "      <td>12.000000</td>\n",
       "      <td>2.500000</td>\n",
       "    </tr>\n",
       "    <tr>\n",
       "      <th>50%</th>\n",
       "      <td>735.000000</td>\n",
       "      <td>216.000000</td>\n",
       "      <td>3.000000</td>\n",
       "    </tr>\n",
       "    <tr>\n",
       "      <th>75%</th>\n",
       "      <td>1130.000000</td>\n",
       "      <td>251.000000</td>\n",
       "      <td>4.000000</td>\n",
       "    </tr>\n",
       "    <tr>\n",
       "      <th>max</th>\n",
       "      <td>1508.000000</td>\n",
       "      <td>2071.000000</td>\n",
       "      <td>4.000000</td>\n",
       "    </tr>\n",
       "  </tbody>\n",
       "</table>\n",
       "</div>"
      ],
      "text/plain": [
       "             userId        itemId        rating\n",
       "count  35497.000000  35497.000000  35497.000000\n",
       "mean     744.247824    265.524946      3.002803\n",
       "std      433.199457    346.854769      0.918692\n",
       "min        1.000000      1.000000      0.500000\n",
       "25%      356.000000     12.000000      2.500000\n",
       "50%      735.000000    216.000000      3.000000\n",
       "75%     1130.000000    251.000000      4.000000\n",
       "max     1508.000000   2071.000000      4.000000"
      ]
     },
     "execution_count": 232,
     "metadata": {},
     "output_type": "execute_result"
    }
   ],
   "source": [
    "train.describe()"
   ]
  },
  {
   "cell_type": "markdown",
   "metadata": {},
   "source": [
    "### Actual Average Rating of each item "
   ]
  },
  {
   "cell_type": "code",
   "execution_count": 233,
   "metadata": {
    "collapsed": true
   },
   "outputs": [],
   "source": [
    "calculated_Rating = {}\n",
    "items = train['itemId'].unique()\n",
    "\n",
    "#rating\n",
    "R = train.groupby(['itemId'])['rating'].mean()\n",
    "for i in items:\n",
    "#     print (i)\n",
    "    calculated_Rating[i] = R[i]\n",
    "    \n",
    "# print (calculated_Rating)"
   ]
  },
  {
   "cell_type": "code",
   "execution_count": 234,
   "metadata": {
    "collapsed": true
   },
   "outputs": [],
   "source": [
    "test = pd.DataFrame()\n",
    "for t_i in target_items:\n",
    "    temp_df = train[train['itemId'] == t_i]\n",
    "    train =  train.drop(train[train['itemId'] == t_i].index)\n",
    "    test = pd.concat([temp_df, test]).drop_duplicates(keep=False)"
   ]
  },
  {
   "cell_type": "markdown",
   "metadata": {},
   "source": [
    "### Checking by only taking users who have rated more than 100 items :Conclusion : strong attack "
   ]
  },
  {
   "cell_type": "markdown",
   "metadata": {},
   "source": [
    "temp_test = pd.DataFrame()  \n",
    "for t_i in target_items:  \n",
    "    temp_df = train[train['itemId'] == t_i]  \n",
    "    train =  train.drop(train[train['itemId'] == t_i].index)  \n",
    "    temp_test = pd.concat([temp_df, temp_test]).drop_duplicates(keep=False)  \n",
    "    \n",
    "temp_test.shape  \n",
    "\n",
    "uu = []  \n",
    "test = pd.DataFrame()  \n",
    "\n",
    "for index1,i in enumerate(temp_test.itertuples(),0):  \n",
    "    \n",
    "    usr=int(i.userId)  \n",
    "    mov=int(i.itemId)  \n",
    "\\#     print (index1)    \n",
    "    list_of_movies_current_user_has_rated=train[train['userId']==usr]  \n",
    "    if(list_of_movies_current_user_has_rated.shape[0]<100):  \n",
    "        pass                  #test = test.drop(test.index[index1])  \n",
    "    else:  \n",
    "        k = pd.Series([i.userId,i.itemId,i.rating])  \n",
    "        test = test.append(k, ignore_index=True)  \n",
    "        uu.append(usr)  \n",
    "print (len(uu))  \n",
    "\n",
    "print (test.shape)  \n",
    "test.columns = ['userId','itemId','rating']  \n",
    "print (test.head(5))  "
   ]
  },
  {
   "cell_type": "code",
   "execution_count": null,
   "metadata": {
    "collapsed": true
   },
   "outputs": [],
   "source": []
  },
  {
   "cell_type": "markdown",
   "metadata": {},
   "source": [
    "### testing code of divising test/target data\n",
    "table = [['Heading1', 'Heading2'], [1 , 1],[1 , 2],[1 , 3],[1 , 4], [1,5],[2 , 1],[2 , 2],[2 , 3],[2 , 4],[3, 1],[3, 2],[3, 3],[3, 4]]  \n",
    "headers = table.pop(0)  \n",
    "df = pd.DataFrame(table, columns=headers)"
   ]
  },
  {
   "cell_type": "code",
   "execution_count": 235,
   "metadata": {
    "collapsed": true
   },
   "outputs": [],
   "source": [
    "dfs = {n: g for n, g in test.groupby(test.groupby('itemId').cumcount() % 10)} \n",
    "test = pd.concat([dfs[0],dfs[1]], ignore_index=False)\n",
    "train = pd.concat([train,dfs[2],dfs[3],dfs[4],dfs[5]], ignore_index=False)\n",
    "del_data = pd.concat([dfs[6],dfs[7],dfs[8],dfs[9]], ignore_index=False)"
   ]
  },
  {
   "cell_type": "code",
   "execution_count": 236,
   "metadata": {
    "collapsed": false
   },
   "outputs": [
    {
     "data": {
      "text/plain": [
       "31462"
      ]
     },
     "execution_count": 236,
     "metadata": {},
     "output_type": "execute_result"
    }
   ],
   "source": [
    "train.shape[0]"
   ]
  },
  {
   "cell_type": "code",
   "execution_count": 237,
   "metadata": {
    "collapsed": false
   },
   "outputs": [
    {
     "data": {
      "text/plain": [
       "1354"
      ]
     },
     "execution_count": 237,
     "metadata": {},
     "output_type": "execute_result"
    }
   ],
   "source": [
    "test.shape[0] "
   ]
  },
  {
   "cell_type": "code",
   "execution_count": 238,
   "metadata": {
    "collapsed": false
   },
   "outputs": [
    {
     "data": {
      "text/html": [
       "<div>\n",
       "<table border=\"1\" class=\"dataframe\">\n",
       "  <thead>\n",
       "    <tr style=\"text-align: right;\">\n",
       "      <th></th>\n",
       "      <th>userId</th>\n",
       "      <th>itemId</th>\n",
       "      <th>rating</th>\n",
       "    </tr>\n",
       "  </thead>\n",
       "  <tbody>\n",
       "    <tr>\n",
       "      <th>33607</th>\n",
       "      <td>1439</td>\n",
       "      <td>2</td>\n",
       "      <td>3.0</td>\n",
       "    </tr>\n",
       "    <tr>\n",
       "      <th>34026</th>\n",
       "      <td>1455</td>\n",
       "      <td>2</td>\n",
       "      <td>2.0</td>\n",
       "    </tr>\n",
       "    <tr>\n",
       "      <th>34499</th>\n",
       "      <td>1468</td>\n",
       "      <td>2</td>\n",
       "      <td>3.0</td>\n",
       "    </tr>\n",
       "    <tr>\n",
       "      <th>34934</th>\n",
       "      <td>1486</td>\n",
       "      <td>2</td>\n",
       "      <td>4.0</td>\n",
       "    </tr>\n",
       "    <tr>\n",
       "      <th>35399</th>\n",
       "      <td>1503</td>\n",
       "      <td>2</td>\n",
       "      <td>3.5</td>\n",
       "    </tr>\n",
       "  </tbody>\n",
       "</table>\n",
       "</div>"
      ],
      "text/plain": [
       "       userId  itemId  rating\n",
       "33607    1439       2     3.0\n",
       "34026    1455       2     2.0\n",
       "34499    1468       2     3.0\n",
       "34934    1486       2     4.0\n",
       "35399    1503       2     3.5"
      ]
     },
     "execution_count": 238,
     "metadata": {},
     "output_type": "execute_result"
    }
   ],
   "source": [
    "test.tail(5)"
   ]
  },
  {
   "cell_type": "code",
   "execution_count": 239,
   "metadata": {
    "collapsed": false
   },
   "outputs": [
    {
     "data": {
      "text/html": [
       "<div>\n",
       "<table border=\"1\" class=\"dataframe\">\n",
       "  <thead>\n",
       "    <tr style=\"text-align: right;\">\n",
       "      <th></th>\n",
       "      <th>userId</th>\n",
       "      <th>itemId</th>\n",
       "      <th>rating</th>\n",
       "    </tr>\n",
       "  </thead>\n",
       "  <tbody>\n",
       "    <tr>\n",
       "      <th>33486</th>\n",
       "      <td>1433</td>\n",
       "      <td>2</td>\n",
       "      <td>4.0</td>\n",
       "    </tr>\n",
       "    <tr>\n",
       "      <th>33774</th>\n",
       "      <td>1446</td>\n",
       "      <td>2</td>\n",
       "      <td>3.5</td>\n",
       "    </tr>\n",
       "    <tr>\n",
       "      <th>34200</th>\n",
       "      <td>1460</td>\n",
       "      <td>2</td>\n",
       "      <td>3.0</td>\n",
       "    </tr>\n",
       "    <tr>\n",
       "      <th>34642</th>\n",
       "      <td>1475</td>\n",
       "      <td>2</td>\n",
       "      <td>2.5</td>\n",
       "    </tr>\n",
       "    <tr>\n",
       "      <th>35098</th>\n",
       "      <td>1495</td>\n",
       "      <td>2</td>\n",
       "      <td>3.0</td>\n",
       "    </tr>\n",
       "  </tbody>\n",
       "</table>\n",
       "</div>"
      ],
      "text/plain": [
       "       userId  itemId  rating\n",
       "33486    1433       2     4.0\n",
       "33774    1446       2     3.5\n",
       "34200    1460       2     3.0\n",
       "34642    1475       2     2.5\n",
       "35098    1495       2     3.0"
      ]
     },
     "execution_count": 239,
     "metadata": {},
     "output_type": "execute_result"
    }
   ],
   "source": [
    "train.tail(5)"
   ]
  },
  {
   "cell_type": "markdown",
   "metadata": {},
   "source": [
    "### Finding error for target items in actual data"
   ]
  },
  {
   "cell_type": "code",
   "execution_count": 240,
   "metadata": {
    "collapsed": false
   },
   "outputs": [
    {
     "name": "stdout",
     "output_type": "stream",
     "text": [
      "{17: [0, 0], 2: [0, 0], 3: [0, 0], 7: [0, 0], 11: [0, 0], 236: [0, 0], 13: [0, 0], 215: [0, 0]}\n"
     ]
    }
   ],
   "source": [
    "target_item_error_in_actual_data = dict((t_i,[0,0]) for t_i in target_items)\n",
    "print (target_item_error_in_actual_data)"
   ]
  },
  {
   "cell_type": "code",
   "execution_count": 241,
   "metadata": {
    "collapsed": false
   },
   "outputs": [
    {
     "data": {
      "text/html": [
       "<div>\n",
       "<table border=\"1\" class=\"dataframe\">\n",
       "  <thead>\n",
       "    <tr style=\"text-align: right;\">\n",
       "      <th></th>\n",
       "      <th>userId</th>\n",
       "      <th>itemId</th>\n",
       "      <th>rating</th>\n",
       "    </tr>\n",
       "  </thead>\n",
       "  <tbody>\n",
       "    <tr>\n",
       "      <th>276</th>\n",
       "      <td>14</td>\n",
       "      <td>236</td>\n",
       "      <td>4.0</td>\n",
       "    </tr>\n",
       "    <tr>\n",
       "      <th>705</th>\n",
       "      <td>37</td>\n",
       "      <td>236</td>\n",
       "      <td>4.0</td>\n",
       "    </tr>\n",
       "    <tr>\n",
       "      <th>1226</th>\n",
       "      <td>68</td>\n",
       "      <td>236</td>\n",
       "      <td>4.0</td>\n",
       "    </tr>\n",
       "    <tr>\n",
       "      <th>1793</th>\n",
       "      <td>87</td>\n",
       "      <td>236</td>\n",
       "      <td>3.0</td>\n",
       "    </tr>\n",
       "    <tr>\n",
       "      <th>2263</th>\n",
       "      <td>111</td>\n",
       "      <td>236</td>\n",
       "      <td>3.0</td>\n",
       "    </tr>\n",
       "  </tbody>\n",
       "</table>\n",
       "</div>"
      ],
      "text/plain": [
       "      userId  itemId  rating\n",
       "276       14     236     4.0\n",
       "705       37     236     4.0\n",
       "1226      68     236     4.0\n",
       "1793      87     236     3.0\n",
       "2263     111     236     3.0"
      ]
     },
     "execution_count": 241,
     "metadata": {},
     "output_type": "execute_result"
    }
   ],
   "source": [
    "test.head(5)"
   ]
  },
  {
   "cell_type": "code",
   "execution_count": 242,
   "metadata": {
    "collapsed": false
   },
   "outputs": [],
   "source": [
    "t1=time.time()\n",
    "for index,i in enumerate(test.itertuples(),1):\n",
    "    k_optimal = 25\n",
    "\n",
    "    predicted=0\n",
    "    usr=int(i.userId)\n",
    "    mov=int(i.itemId)\n",
    "    actual=i.rating\n",
    "    all_ratings_for_the_active_item=train[train['itemId']==mov]\n",
    "    list_of_movies_current_user_has_rated=train[train['userId']==usr]\n",
    "#     print (list_of_movies_current_user_has_rated)\n",
    "#     print (all_ratings_for_the_active_item.shape)\n",
    "#     print (list_of_movies_current_user_has_rated.shape)\n",
    "    similarity=[]\n",
    "    corres_rate=[]\n",
    "    \n",
    "    for ind2,u in enumerate(all_ratings_for_the_active_item.itertuples(),1): \n",
    "        c1=[]\n",
    "        c2=[]\n",
    "        c_user=int(u.userId)\n",
    "        list_curuser=train[train['userId']==c_user]\n",
    "#         print (list_curuser)\n",
    "        xt=pd.merge( list_curuser,list_of_movies_current_user_has_rated,how='inner',on=['itemId'])\n",
    "#         print (xt)\n",
    "        c1=xt['rating_x']\n",
    "        c2=xt['rating_y']\n",
    "        c1_list=c1.tolist()\n",
    "        c2_list=c2.tolist()\n",
    "#         print (c1_list,'          ',c2_list)\n",
    "        sim=0\n",
    "        if len(c1_list)!=0:\n",
    "            sim = (1-spatial.distance.cosine(c1_list,c2_list)) #stats.pearsonr(c1_list,c2_list)[0]\n",
    "#             print (sim)\n",
    "        \n",
    "        similarity.append(sim)\n",
    "        corres_rate.append(u.rating)\n",
    "        \n",
    "    corres_rate = [x for _,x in sorted(zip(similarity,corres_rate),reverse=True)]\n",
    "    similarity.sort(reverse=True)\n",
    "#     print (mov)\n",
    "#     print (similarity)\n",
    "#     print (corres_rate)\n",
    "    cs=0\n",
    "    numc=0\n",
    "    \n",
    "    if(len(similarity)<k_optimal):\n",
    "        k_optimal = len(similarity) \n",
    "        \n",
    "    for k in range(k_optimal+1):        \n",
    "#         print (k)\n",
    "        cs+=similarity[k-1]\n",
    "        numc+=(similarity[k-1]*corres_rate[k-1])\n",
    "       \n",
    "    if cs!=0:\n",
    "        predicted=numc/cs\n",
    "    else:\n",
    "        predicted = 0\n",
    "    \n",
    "    if mov in target_item_error_in_actual_data:\n",
    "        target_item_error_in_actual_data[mov][0] = target_item_error_in_actual_data[mov][0] + abs(predicted - calculated_Rating[mov])\n",
    "        target_item_error_in_actual_data[mov][1] = target_item_error_in_actual_data[mov][1] +1\n",
    "t2=time.time()        "
   ]
  },
  {
   "cell_type": "code",
   "execution_count": 243,
   "metadata": {
    "collapsed": false
   },
   "outputs": [
    {
     "data": {
      "text/plain": [
       "1354"
      ]
     },
     "execution_count": 243,
     "metadata": {},
     "output_type": "execute_result"
    }
   ],
   "source": [
    "index"
   ]
  },
  {
   "cell_type": "code",
   "execution_count": 244,
   "metadata": {
    "collapsed": false
   },
   "outputs": [
    {
     "name": "stdout",
     "output_type": "stream",
     "text": [
      "1934.1635174751282\n"
     ]
    }
   ],
   "source": [
    "print (t2-t1)"
   ]
  },
  {
   "cell_type": "code",
   "execution_count": 245,
   "metadata": {
    "collapsed": false
   },
   "outputs": [
    {
     "data": {
      "text/plain": [
       "{2: [75.079995597152717, 184],\n",
       " 3: [33.191610639423835, 146],\n",
       " 7: [91.958371007403485, 210],\n",
       " 11: [57.374729873692985, 187],\n",
       " 13: [42.775264242314194, 162],\n",
       " 17: [40.124814633572257, 164],\n",
       " 215: [55.401112792641435, 153],\n",
       " 236: [32.365146689746773, 148]}"
      ]
     },
     "execution_count": 245,
     "metadata": {},
     "output_type": "execute_result"
    }
   ],
   "source": [
    "target_item_error_in_actual_data"
   ]
  },
  {
   "cell_type": "markdown",
   "metadata": {},
   "source": [
    "### MAE error"
   ]
  },
  {
   "cell_type": "code",
   "execution_count": 246,
   "metadata": {
    "collapsed": false
   },
   "outputs": [
    {
     "name": "stdout",
     "output_type": "stream",
     "text": [
      "17     : 0.244663503863\n",
      "2     : 0.408043454332\n",
      "3     : 0.2273397989\n",
      "7     : 0.437897004797\n",
      "11     : 0.306816737292\n",
      "236     : 0.218683423579\n",
      "13     : 0.264044841002\n",
      "215     : 0.362098776422\n"
     ]
    }
   ],
   "source": [
    "for i in target_item_error_in_actual_data:\n",
    "    print (i,'    :',target_item_error_in_actual_data[i][0]/target_item_error_in_actual_data[i][1])"
   ]
  },
  {
   "cell_type": "markdown",
   "metadata": {},
   "source": [
    "## Nuke Attack Strength Check\n",
    "\n",
    "### Injecting Attack Profiles"
   ]
  },
  {
   "cell_type": "code",
   "execution_count": 247,
   "metadata": {
    "collapsed": true
   },
   "outputs": [],
   "source": [
    "nuke_rating = 0.5"
   ]
  },
  {
   "cell_type": "code",
   "execution_count": 248,
   "metadata": {
    "collapsed": true
   },
   "outputs": [],
   "source": [
    "attack_ids = list(range(1600,1700))\n",
    "\n",
    "for attacker in attack_ids:\n",
    "    for item in window_items:\n",
    "        a = calculated_Rating[item]\n",
    "        attack_rating = int(a) if (a-int(a)<0.5) else int(a)+1\n",
    "        train = train.append(pd.Series([attacker,item,attack_rating], index=['userId', 'itemId' ,'rating']), ignore_index=True)\n",
    "\n",
    "for attacker in attack_ids:\n",
    "    for item in target_items:\n",
    "        train = train.append(pd.Series([attacker,item,nuke_rating], index=['userId', 'itemId' ,'rating']), ignore_index=True)"
   ]
  },
  {
   "cell_type": "code",
   "execution_count": 249,
   "metadata": {
    "collapsed": false
   },
   "outputs": [
    {
     "data": {
      "text/plain": [
       "34362"
      ]
     },
     "execution_count": 249,
     "metadata": {},
     "output_type": "execute_result"
    }
   ],
   "source": [
    "train.shape[0]"
   ]
  },
  {
   "cell_type": "code",
   "execution_count": 250,
   "metadata": {
    "collapsed": false
   },
   "outputs": [
    {
     "data": {
      "text/html": [
       "<div>\n",
       "<table border=\"1\" class=\"dataframe\">\n",
       "  <thead>\n",
       "    <tr style=\"text-align: right;\">\n",
       "      <th></th>\n",
       "      <th>userId</th>\n",
       "      <th>itemId</th>\n",
       "      <th>rating</th>\n",
       "    </tr>\n",
       "  </thead>\n",
       "  <tbody>\n",
       "    <tr>\n",
       "      <th>34357</th>\n",
       "      <td>1699.0</td>\n",
       "      <td>11.0</td>\n",
       "      <td>0.5</td>\n",
       "    </tr>\n",
       "    <tr>\n",
       "      <th>34358</th>\n",
       "      <td>1699.0</td>\n",
       "      <td>13.0</td>\n",
       "      <td>0.5</td>\n",
       "    </tr>\n",
       "    <tr>\n",
       "      <th>34359</th>\n",
       "      <td>1699.0</td>\n",
       "      <td>17.0</td>\n",
       "      <td>0.5</td>\n",
       "    </tr>\n",
       "    <tr>\n",
       "      <th>34360</th>\n",
       "      <td>1699.0</td>\n",
       "      <td>215.0</td>\n",
       "      <td>0.5</td>\n",
       "    </tr>\n",
       "    <tr>\n",
       "      <th>34361</th>\n",
       "      <td>1699.0</td>\n",
       "      <td>236.0</td>\n",
       "      <td>0.5</td>\n",
       "    </tr>\n",
       "  </tbody>\n",
       "</table>\n",
       "</div>"
      ],
      "text/plain": [
       "       userId  itemId  rating\n",
       "34357  1699.0    11.0     0.5\n",
       "34358  1699.0    13.0     0.5\n",
       "34359  1699.0    17.0     0.5\n",
       "34360  1699.0   215.0     0.5\n",
       "34361  1699.0   236.0     0.5"
      ]
     },
     "execution_count": 250,
     "metadata": {},
     "output_type": "execute_result"
    }
   ],
   "source": [
    "train.tail(5)"
   ]
  },
  {
   "cell_type": "markdown",
   "metadata": {},
   "source": [
    "## Finding error for target items in attack profile injected data"
   ]
  },
  {
   "cell_type": "code",
   "execution_count": null,
   "metadata": {
    "collapsed": false
   },
   "outputs": [
    {
     "name": "stdout",
     "output_type": "stream",
     "text": [
      "{17: [0, 0], 2: [0, 0], 3: [0, 0], 7: [0, 0], 11: [0, 0], 236: [0, 0], 13: [0, 0], 215: [0, 0]}\n"
     ]
    }
   ],
   "source": [
    "target_item_error_in_actual_data = dict((t_i,[0,0]) for t_i in target_items)\n",
    "print (target_item_error_in_actual_data)"
   ]
  },
  {
   "cell_type": "code",
   "execution_count": null,
   "metadata": {
    "collapsed": false
   },
   "outputs": [],
   "source": [
    "t1=time.time()\n",
    "for index,i in enumerate(test.itertuples(),1):\n",
    "    k_optimal = 25\n",
    "\n",
    "    predicted=0\n",
    "    usr=int(i.userId)\n",
    "    mov=int(i.itemId)\n",
    "    actual=i.rating\n",
    "        \n",
    "    all_ratings_for_the_active_item=train[train['itemId']==mov]\n",
    "    list_of_movies_current_user_has_rated=train[train['userId']==usr]\n",
    "#     print (all_ratings_for_the_active_item.shape)\n",
    "#     print (list_of_movies_current_user_has_rated.shape)\n",
    "    similarity=[]\n",
    "    corres_rate=[]\n",
    "    \n",
    "    for ind2,u in enumerate(all_ratings_for_the_active_item.itertuples(),1): \n",
    "        c1=[]\n",
    "        c2=[]\n",
    "        c_user=int(u.userId)\n",
    "#         c_item=int(u.itemId)\n",
    "        list_curuser=train[train['userId']==c_user]\n",
    "#         list_curitem=train[train['itemId']==c_item]\n",
    "        xt=pd.merge( list_of_movies_current_user_has_rated,list_curuser,how='inner',on=['itemId'])\n",
    "#         print (list_curuser)\n",
    "#         print (list_of_movies_current_user_has_rated)\n",
    "        c1=xt['rating_x']\n",
    "        c2=xt['rating_y']\n",
    "        c1_list=c1.tolist()\n",
    "        c2_list=c2.tolist()\n",
    "        sim=0\n",
    "        if len(c1_list)!=0:\n",
    "            sim= (1-spatial.distance.cosine(c1_list,c2_list))#stats.pearsonr(c1_list,c2_list)[0]\n",
    "        \n",
    "        similarity.append(sim)\n",
    "        corres_rate.append(u.rating)\n",
    "        \n",
    "    corres_rate = [x for _,x in sorted(zip(similarity,corres_rate),reverse=True)]\n",
    "    similarity.sort(reverse=True)\n",
    "#     print (mov)\n",
    "#     print (similarity)\n",
    "#     print (corres_rate)\n",
    "    cs=0\n",
    "    numc=0\n",
    "    \n",
    "    if(len(similarity)<k_optimal):\n",
    "        k_optimal = len(similarity) \n",
    "        \n",
    "    for k in range(k_optimal+1):        \n",
    "#         print (k)\n",
    "        cs+=similarity[k-1]\n",
    "        numc+=(similarity[k-1]*corres_rate[k-1])\n",
    "       \n",
    "    if cs!=0:\n",
    "        predicted=numc/cs\n",
    "    else:\n",
    "        predicted = 0\n",
    "    \n",
    "    if mov in target_item_error_in_actual_data:\n",
    "        target_item_error_in_actual_data[mov][0] = target_item_error_in_actual_data[mov][0] + abs(predicted - calculated_Rating[mov])\n",
    "        target_item_error_in_actual_data[mov][1] = target_item_error_in_actual_data[mov][1] +1\n",
    "t2=time.time()        "
   ]
  },
  {
   "cell_type": "code",
   "execution_count": null,
   "metadata": {
    "collapsed": false
   },
   "outputs": [
    {
     "name": "stdout",
     "output_type": "stream",
     "text": [
      "2110.0004603862762\n"
     ]
    }
   ],
   "source": [
    "print (t2-t1)"
   ]
  },
  {
   "cell_type": "code",
   "execution_count": null,
   "metadata": {
    "collapsed": false
   },
   "outputs": [
    {
     "name": "stdout",
     "output_type": "stream",
     "text": [
      "17     : 0.245007724011\n",
      "2     : 0.408043454332\n",
      "3     : 0.230497233988\n",
      "7     : 0.439356227567\n",
      "11     : 0.306816737292\n",
      "236     : 0.21950162784\n",
      "13     : 0.264044841002\n",
      "215     : 0.362667198819\n"
     ]
    }
   ],
   "source": [
    "for i in target_item_error_in_actual_data:\n",
    "    print (i,'    :',target_item_error_in_actual_data[i][0]/target_item_error_in_actual_data[i][1])"
   ]
  },
  {
   "cell_type": "code",
   "execution_count": null,
   "metadata": {
    "collapsed": true
   },
   "outputs": [],
   "source": []
  },
  {
   "cell_type": "code",
   "execution_count": null,
   "metadata": {
    "collapsed": true
   },
   "outputs": [],
   "source": []
  },
  {
   "cell_type": "code",
   "execution_count": null,
   "metadata": {
    "collapsed": true
   },
   "outputs": [],
   "source": []
  }
 ],
 "metadata": {
  "anaconda-cloud": {},
  "kernelspec": {
   "display_name": "Python [Root]",
   "language": "python",
   "name": "Python [Root]"
  },
  "language_info": {
   "codemirror_mode": {
    "name": "ipython",
    "version": 3
   },
   "file_extension": ".py",
   "mimetype": "text/x-python",
   "name": "python",
   "nbconvert_exporter": "python",
   "pygments_lexer": "ipython3",
   "version": "3.5.2"
  }
 },
 "nbformat": 4,
 "nbformat_minor": 2
}
