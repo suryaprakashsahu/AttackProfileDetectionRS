{
 "cells": [
  {
   "cell_type": "code",
   "execution_count": 1,
   "metadata": {
    "collapsed": false
   },
   "outputs": [],
   "source": [
    "import numpy as np\n",
    "from scipy import spatial\n",
    "import pandas as pd\n",
    "import time\n",
    "import math\n",
    "import matplotlib.pyplot as plt\n",
    "%matplotlib inline"
   ]
  },
  {
   "cell_type": "code",
   "execution_count": 2,
   "metadata": {
    "collapsed": false
   },
   "outputs": [
    {
     "name": "stdout",
     "output_type": "stream",
     "text": [
      "/media/thepurpleowl/FCC8B519C8B4D35E/Academics_research/research/BKPatra/Attacks_RS/Implementaion/filmtrust/Item-Based-Recommendation\n",
      "/media/thepurpleowl/FCC8B519C8B4D35E/Academics_research/research/BKPatra/Attacks_RS/Implementaion/filmtrust/Item-Based-Recommendation/../data/ratings.txt\n"
     ]
    }
   ],
   "source": [
    "import os,sys\n",
    "my_path = os.getcwd()\n",
    "print (my_path)\n",
    "path = os.path.join(my_path, \"../data/ratings.txt\")\n",
    "print (path)"
   ]
  },
  {
   "cell_type": "code",
   "execution_count": 3,
   "metadata": {
    "collapsed": false
   },
   "outputs": [],
   "source": [
    "ratings = pd.read_csv(path,sep=' ',header=None,names=['userId','itemId','rating'])"
   ]
  },
  {
   "cell_type": "code",
   "execution_count": 4,
   "metadata": {
    "collapsed": false
   },
   "outputs": [
    {
     "data": {
      "text/html": [
       "<div>\n",
       "<table border=\"1\" class=\"dataframe\">\n",
       "  <thead>\n",
       "    <tr style=\"text-align: right;\">\n",
       "      <th></th>\n",
       "      <th>userId</th>\n",
       "      <th>itemId</th>\n",
       "      <th>rating</th>\n",
       "    </tr>\n",
       "  </thead>\n",
       "  <tbody>\n",
       "    <tr>\n",
       "      <th>count</th>\n",
       "      <td>35497.000000</td>\n",
       "      <td>35497.000000</td>\n",
       "      <td>35497.000000</td>\n",
       "    </tr>\n",
       "    <tr>\n",
       "      <th>mean</th>\n",
       "      <td>744.247824</td>\n",
       "      <td>265.524946</td>\n",
       "      <td>3.002803</td>\n",
       "    </tr>\n",
       "    <tr>\n",
       "      <th>std</th>\n",
       "      <td>433.199457</td>\n",
       "      <td>346.854769</td>\n",
       "      <td>0.918692</td>\n",
       "    </tr>\n",
       "    <tr>\n",
       "      <th>min</th>\n",
       "      <td>1.000000</td>\n",
       "      <td>1.000000</td>\n",
       "      <td>0.500000</td>\n",
       "    </tr>\n",
       "    <tr>\n",
       "      <th>25%</th>\n",
       "      <td>356.000000</td>\n",
       "      <td>12.000000</td>\n",
       "      <td>2.500000</td>\n",
       "    </tr>\n",
       "    <tr>\n",
       "      <th>50%</th>\n",
       "      <td>735.000000</td>\n",
       "      <td>216.000000</td>\n",
       "      <td>3.000000</td>\n",
       "    </tr>\n",
       "    <tr>\n",
       "      <th>75%</th>\n",
       "      <td>1130.000000</td>\n",
       "      <td>251.000000</td>\n",
       "      <td>4.000000</td>\n",
       "    </tr>\n",
       "    <tr>\n",
       "      <th>max</th>\n",
       "      <td>1508.000000</td>\n",
       "      <td>2071.000000</td>\n",
       "      <td>4.000000</td>\n",
       "    </tr>\n",
       "  </tbody>\n",
       "</table>\n",
       "</div>"
      ],
      "text/plain": [
       "             userId        itemId        rating\n",
       "count  35497.000000  35497.000000  35497.000000\n",
       "mean     744.247824    265.524946      3.002803\n",
       "std      433.199457    346.854769      0.918692\n",
       "min        1.000000      1.000000      0.500000\n",
       "25%      356.000000     12.000000      2.500000\n",
       "50%      735.000000    216.000000      3.000000\n",
       "75%     1130.000000    251.000000      4.000000\n",
       "max     1508.000000   2071.000000      4.000000"
      ]
     },
     "execution_count": 4,
     "metadata": {},
     "output_type": "execute_result"
    }
   ],
   "source": [
    "ratings.describe()"
   ]
  },
  {
   "cell_type": "markdown",
   "metadata": {},
   "source": [
    "### Rating before profile injection"
   ]
  },
  {
   "cell_type": "code",
   "execution_count": 5,
   "metadata": {
    "collapsed": true
   },
   "outputs": [],
   "source": [
    "calculated_Rating = {}\n",
    "total_Ratings = {}\n",
    "all_items = ratings['itemId'].unique()\n",
    "\n",
    "#rating\n",
    "R = ratings.groupby(['itemId'])['rating'].mean()\n",
    "for i in all_items:\n",
    "#     print (i)\n",
    "    calculated_Rating[i] = R[i]\n",
    "    total_Ratings[i] = len(ratings[ratings['itemId']==i])\n",
    "    \n",
    "# print (calculated_Rating)"
   ]
  },
  {
   "cell_type": "code",
   "execution_count": 6,
   "metadata": {
    "collapsed": false
   },
   "outputs": [
    {
     "data": {
      "text/plain": [
       "3.1566091954022988"
      ]
     },
     "execution_count": 6,
     "metadata": {},
     "output_type": "execute_result"
    }
   ],
   "source": [
    "calculated_Rating[7]"
   ]
  },
  {
   "cell_type": "markdown",
   "metadata": {},
   "source": [
    "### Inject Attack Profiles"
   ]
  },
  {
   "cell_type": "code",
   "execution_count": 7,
   "metadata": {
    "collapsed": true
   },
   "outputs": [],
   "source": [
    "window_items =  [256, 1, 257, 6, 10, 12, 205, 206, 207, 210, 84, 212, 213, 214, 216, 217, 220, 121, 233, 234, 235, 239, 241, 243, 244, 245, 246, 247, 248, 249, 251, 252, 253, 254, 255] \n",
    "target_items = [2, 3, 4, 5, 7, 8, 9, 11, 13, 17, 211, 215, 219, 236, 250]"
   ]
  },
  {
   "cell_type": "code",
   "execution_count": 8,
   "metadata": {
    "collapsed": true
   },
   "outputs": [],
   "source": [
    "nuke_rating = 0.5"
   ]
  },
  {
   "cell_type": "code",
   "execution_count": 9,
   "metadata": {
    "collapsed": false
   },
   "outputs": [],
   "source": [
    "attack_ids = list(range(1600,1700))\n",
    "\n",
    "for attacker in attack_ids:\n",
    "    for item in window_items:\n",
    "        a = calculated_Rating[item]\n",
    "        attack_rating = int(a) if (a-int(a)<0.5) else int(a)+1\n",
    "        ratings = ratings.append(pd.Series([attacker,item,attack_rating], index=['userId', 'itemId' ,'rating']), ignore_index=True)\n",
    "\n",
    "for attacker in attack_ids:\n",
    "    for item in target_items:\n",
    "        ratings = ratings.append(pd.Series([attacker,item,nuke_rating], index=['userId', 'itemId' ,'rating']), ignore_index=True)"
   ]
  },
  {
   "cell_type": "markdown",
   "metadata": {},
   "source": [
    "### Rating after profile injection"
   ]
  },
  {
   "cell_type": "code",
   "execution_count": 10,
   "metadata": {
    "collapsed": true
   },
   "outputs": [],
   "source": [
    "calculated_Rating = {}\n",
    "total_Ratings = {}\n",
    "all_items = ratings['itemId'].unique()\n",
    "\n",
    "#rating\n",
    "R = ratings.groupby(['itemId'])['rating'].mean()\n",
    "for i in all_items:\n",
    "#     print (i)\n",
    "    calculated_Rating[i] = R[i]\n",
    "    total_Ratings[i] = len(ratings[ratings['itemId']==i])\n",
    "    \n",
    "# print (calculated_Rating)"
   ]
  },
  {
   "cell_type": "code",
   "execution_count": 11,
   "metadata": {
    "collapsed": false
   },
   "outputs": [
    {
     "data": {
      "text/plain": [
       "2.9243881118881121"
      ]
     },
     "execution_count": 11,
     "metadata": {},
     "output_type": "execute_result"
    }
   ],
   "source": [
    "calculated_Rating[7]"
   ]
  },
  {
   "cell_type": "markdown",
   "metadata": {},
   "source": [
    "### Reading trust values"
   ]
  },
  {
   "cell_type": "code",
   "execution_count": 12,
   "metadata": {
    "collapsed": true
   },
   "outputs": [],
   "source": [
    "import warnings\n",
    "warnings.simplefilter(action='ignore', category=FutureWarning)\n",
    "import h5py\n",
    "warnings.resetwarnings()\n",
    "with h5py.File('trust_values.h5', 'r') as hf:\n",
    "    trust_val = hf['trust'][:]"
   ]
  },
  {
   "cell_type": "markdown",
   "metadata": {},
   "source": [
    "## Trust propagated deviation"
   ]
  },
  {
   "cell_type": "code",
   "execution_count": 13,
   "metadata": {
    "collapsed": false
   },
   "outputs": [
    {
     "name": "stdout",
     "output_type": "stream",
     "text": [
      "[1600]\n"
     ]
    }
   ],
   "source": [
    "users = attack_ids[:1] \n",
    "print (users)"
   ]
  },
  {
   "cell_type": "code",
   "execution_count": 14,
   "metadata": {
    "collapsed": false
   },
   "outputs": [
    {
     "ename": "TypeError",
     "evalue": "'list' object is not callable",
     "output_type": "error",
     "traceback": [
      "\u001b[1;31m---------------------------------------------------------------------------\u001b[0m",
      "\u001b[1;31mTypeError\u001b[0m                                 Traceback (most recent call last)",
      "\u001b[1;32m<ipython-input-14-76350c699b4c>\u001b[0m in \u001b[0;36m<module>\u001b[1;34m()\u001b[0m\n\u001b[0;32m     41\u001b[0m \u001b[1;33m\u001b[0m\u001b[0m\n\u001b[0;32m     42\u001b[0m         \u001b[1;32mif\u001b[0m \u001b[0msum\u001b[0m\u001b[1;33m(\u001b[0m\u001b[0mtrustee_trust\u001b[0m\u001b[1;33m)\u001b[0m\u001b[1;33m!=\u001b[0m\u001b[1;36m0\u001b[0m\u001b[1;33m:\u001b[0m\u001b[1;33m\u001b[0m\u001b[0m\n\u001b[1;32m---> 43\u001b[1;33m             \u001b[0mrating_user_network\u001b[0m \u001b[1;33m=\u001b[0m \u001b[0msum\u001b[0m\u001b[1;33m(\u001b[0m\u001b[1;33m[\u001b[0m\u001b[0mtrustee_trust\u001b[0m\u001b[1;33m(\u001b[0m\u001b[0mp\u001b[0m\u001b[1;33m)\u001b[0m\u001b[1;33m*\u001b[0m\u001b[0mq\u001b[0m \u001b[1;32mfor\u001b[0m \u001b[0mp\u001b[0m\u001b[1;33m,\u001b[0m\u001b[0mq\u001b[0m \u001b[1;32min\u001b[0m \u001b[0menumerate\u001b[0m\u001b[1;33m(\u001b[0m\u001b[0mtrustee_rating\u001b[0m\u001b[1;33m)\u001b[0m\u001b[1;33m]\u001b[0m\u001b[1;33m)\u001b[0m\u001b[1;33m/\u001b[0m\u001b[0msum\u001b[0m\u001b[1;33m(\u001b[0m\u001b[0mtrustee_trust\u001b[0m\u001b[1;33m)\u001b[0m\u001b[1;33m\u001b[0m\u001b[0m\n\u001b[0m\u001b[0;32m     44\u001b[0m         \u001b[1;32melse\u001b[0m\u001b[1;33m:\u001b[0m\u001b[1;33m\u001b[0m\u001b[0m\n\u001b[0;32m     45\u001b[0m             \u001b[0mrating_user_network\u001b[0m \u001b[1;33m=\u001b[0m \u001b[1;36m0\u001b[0m\u001b[1;33m\u001b[0m\u001b[0m\n",
      "\u001b[1;32m<ipython-input-14-76350c699b4c>\u001b[0m in \u001b[0;36m<listcomp>\u001b[1;34m(.0)\u001b[0m\n\u001b[0;32m     41\u001b[0m \u001b[1;33m\u001b[0m\u001b[0m\n\u001b[0;32m     42\u001b[0m         \u001b[1;32mif\u001b[0m \u001b[0msum\u001b[0m\u001b[1;33m(\u001b[0m\u001b[0mtrustee_trust\u001b[0m\u001b[1;33m)\u001b[0m\u001b[1;33m!=\u001b[0m\u001b[1;36m0\u001b[0m\u001b[1;33m:\u001b[0m\u001b[1;33m\u001b[0m\u001b[0m\n\u001b[1;32m---> 43\u001b[1;33m             \u001b[0mrating_user_network\u001b[0m \u001b[1;33m=\u001b[0m \u001b[0msum\u001b[0m\u001b[1;33m(\u001b[0m\u001b[1;33m[\u001b[0m\u001b[0mtrustee_trust\u001b[0m\u001b[1;33m(\u001b[0m\u001b[0mp\u001b[0m\u001b[1;33m)\u001b[0m\u001b[1;33m*\u001b[0m\u001b[0mq\u001b[0m \u001b[1;32mfor\u001b[0m \u001b[0mp\u001b[0m\u001b[1;33m,\u001b[0m\u001b[0mq\u001b[0m \u001b[1;32min\u001b[0m \u001b[0menumerate\u001b[0m\u001b[1;33m(\u001b[0m\u001b[0mtrustee_rating\u001b[0m\u001b[1;33m)\u001b[0m\u001b[1;33m]\u001b[0m\u001b[1;33m)\u001b[0m\u001b[1;33m/\u001b[0m\u001b[0msum\u001b[0m\u001b[1;33m(\u001b[0m\u001b[0mtrustee_trust\u001b[0m\u001b[1;33m)\u001b[0m\u001b[1;33m\u001b[0m\u001b[0m\n\u001b[0m\u001b[0;32m     44\u001b[0m         \u001b[1;32melse\u001b[0m\u001b[1;33m:\u001b[0m\u001b[1;33m\u001b[0m\u001b[0m\n\u001b[0;32m     45\u001b[0m             \u001b[0mrating_user_network\u001b[0m \u001b[1;33m=\u001b[0m \u001b[1;36m0\u001b[0m\u001b[1;33m\u001b[0m\u001b[0m\n",
      "\u001b[1;31mTypeError\u001b[0m: 'list' object is not callable"
     ]
    }
   ],
   "source": [
    "trust_threshold = 0.9\n",
    "deviation_threshold = 1\n",
    "\n",
    "t1 = time.time()\n",
    "for u in users:\n",
    "    temp = ratings[ratings['userId']==u]\n",
    "    items = temp['itemId'].unique()\n",
    "    items.sort()\n",
    "#     print (items)\n",
    "    user_trust = trust_val[u][0:]\n",
    "    for item in items[:1]:\n",
    "        user_who_rated_same_item = [int(i) for i in list(ratings[ratings['itemId']==item]['userId'])]\n",
    "        consideredUsers = np.where(user_trust>trust_threshold)[0]\n",
    "#         print (user_who_rated_same_item)\n",
    "#         print (consideredUsers)\n",
    "        trustee = [i for i in consideredUsers if i in user_who_rated_same_item]\n",
    "        trustee_trust = [user_trust[i] for i in trustee]\n",
    "        trustee_rating = [ratings[(ratings['itemId']==item) & (ratings['userId']==i)].reset_index(drop=True)['rating'][0] for i in trustee]\n",
    "        done_trustee = []\n",
    "        for t_i, t_u in enumerate(trustee):\n",
    "            if t_u in done_trustee:\n",
    "                continue\n",
    "            else:\n",
    "                done_trustee.append(t_u)\n",
    "                \n",
    "                temp_user_trust = trust_val[t_u][0:]\n",
    "                temp_trust = trustee_trust[t_i]\n",
    "                temp_consideredUsers = np.where(temp_trust*trust_val>trust_threshold)[0]\n",
    "                temp_trustee = [i for i in temp_consideredUsers if i in user_who_rated_same_item]\n",
    "#                 temp_trustee = [t_l[1][i] for i in range(len(t_l[0])) if t_l[0][i]==u]\n",
    "                trustee.extend(temp_trustee)\n",
    "    \n",
    "                temp_trustee_trust = [temp_user_trust[i] for i in temp_trustee]\n",
    "                trustee_trust.extend(temp_trustee_trust)\n",
    "                \n",
    "                temp_trustee_rating = [ratings[(ratings['itemId']==item) & (ratings['userId']==i)].reset_index(drop=True)['rating'][0] for i in temp_trustee]\n",
    "                trustee_rating.extend(temp_trustee_rating)\n",
    "                \n",
    "            if(t_i==len(trustee)):\n",
    "                break\n",
    "        \n",
    "        if sum(trustee_trust)!=0:\n",
    "            rating_user_network = sum([trustee_trust(p)*q for p,q in enumerate(trustee_rating)])/sum(trustee_trust)\n",
    "        else:\n",
    "            rating_user_network = 0\n",
    "            \n",
    "        if (total_Ratings[item]-len(trustee_rating)) !=0:\n",
    "            temp_calculated_Rating = (calculated_Rating[item]*total_Ratings[item]-sum(trustee_rating))/(total_Ratings[item]-len(trustee_rating))\n",
    "        else:\n",
    "            temp_calculated_Rating =0\n",
    "        \n",
    "        if(abs(temp_calculated_Rating-rating_user_network)>deviation_threshold):\n",
    "            print ('Attack profile detected :', u ,' for item :',item)\n",
    "\n",
    "print (time.time()-t1)"
   ]
  },
  {
   "cell_type": "code",
   "execution_count": null,
   "metadata": {
    "collapsed": true
   },
   "outputs": [],
   "source": []
  },
  {
   "cell_type": "code",
   "execution_count": null,
   "metadata": {
    "collapsed": true
   },
   "outputs": [],
   "source": []
  },
  {
   "cell_type": "code",
   "execution_count": null,
   "metadata": {
    "collapsed": true
   },
   "outputs": [],
   "source": []
  },
  {
   "cell_type": "code",
   "execution_count": null,
   "metadata": {
    "collapsed": true
   },
   "outputs": [],
   "source": []
  },
  {
   "cell_type": "code",
   "execution_count": 33,
   "metadata": {
    "collapsed": false
   },
   "outputs": [
    {
     "name": "stdout",
     "output_type": "stream",
     "text": [
      "[[0.5, 1.0, 0.9, 0.8, 0.4], [1.0, 0.3, 1.0, 0.1, 0.4], [0.4, 0.6, 1.0, 0.5, 0.6], [1.0, 1.0, 0.5, 0.3, 0.5], [0.9, 0.6, 0.4, 0.4, 0.8]]\n",
      "[0, 2, 4]\n"
     ]
    }
   ],
   "source": [
    "import random\n",
    "t = []\n",
    "for i in range(5):\n",
    "    temp = []\n",
    "    for j in range(5):\n",
    "        temp.append(random.randint(1,10)/10)\n",
    "    t.append(temp)\n",
    "print (t)\n",
    "t = np.array(t)\n",
    "l = np.where(1.5*t>0.5)\n",
    "print ([l[1][i] for i in range(len(l[0])) if l[0][i]==1 ])"
   ]
  },
  {
   "cell_type": "code",
   "execution_count": 21,
   "metadata": {
    "collapsed": false
   },
   "outputs": [
    {
     "ename": "SyntaxError",
     "evalue": "unexpected EOF while parsing (<ipython-input-21-58ef00ce9f14>, line 2)",
     "output_type": "error",
     "traceback": [
      "\u001b[1;36m  File \u001b[1;32m\"<ipython-input-21-58ef00ce9f14>\"\u001b[1;36m, line \u001b[1;32m2\u001b[0m\n\u001b[1;33m    \u001b[0m\n\u001b[1;37m    ^\u001b[0m\n\u001b[1;31mSyntaxError\u001b[0m\u001b[1;31m:\u001b[0m unexpected EOF while parsing\n"
     ]
    }
   ],
   "source": [
    "for it in items:\n",
    "    #user = user who rated it\n",
    "\n",
    "    for u in user:\n",
    "        l = np.where(trust_val>0.3)\n",
    "        trustee = [l[1][i] for i in range(len(l[0])) if l[0][i]==u]\n",
    "        trustee_trust = [trust_val[l[0][i]][l[1][i]] for i in range(len(l))]\n",
    "        done_trustee = []\n",
    "        for t_i, t_u in enumerate(trustee):\n",
    "            if t_u in done_trustee:\n",
    "                continue\n",
    "            else:\n",
    "                done_trustee.append(t_u)\n",
    "\n",
    "                temp_trust = trustee_trust[t_i]\n",
    "                t_l = np.where(temp_trust*trust_val>0.3)\n",
    "\n",
    "                temp_trustee = [t_l[1][i] for i in range(len(t_l[0])) if t_l[0][i]==u]\n",
    "                trustee.extend(temp_trustee)\n",
    "                temp_trustee_trust = [temp_trust*trust_val[t_l[0][i]][t_l[1][i]] for i in range(len(t_l))]\n",
    "                trustee_trust.extend(temp_trustee_trust)\n",
    "\n",
    "            if(t_i==len(trustee)):\n",
    "                break\n",
    "\n",
    "        #predict using trustee and trustee_trust\n",
    "        #check deviation \n",
    "        #declare u and it's network as attack profile for the particular item"
   ]
  },
  {
   "cell_type": "code",
   "execution_count": 43,
   "metadata": {
    "collapsed": false
   },
   "outputs": [
    {
     "name": "stdout",
     "output_type": "stream",
     "text": [
      "0\n",
      "0    add\n",
      "1\n",
      "1    add\n",
      "2\n",
      "2    add\n",
      "3\n",
      "3    add\n",
      "4\n",
      "5\n",
      "[3, 3, 6, 6, 12, 12]\n"
     ]
    }
   ],
   "source": [
    "a =[3,3]\n",
    "for j,i in enumerate(a):\n",
    "    print (j)\n",
    "    if len(a)==j:\n",
    "        break\n",
    "        \n",
    "    if i<8:\n",
    "        a.append(i*2)\n",
    "        print (j,'  ','add')\n",
    "    else:\n",
    "        pass\n",
    "    \n",
    "print (a)"
   ]
  },
  {
   "cell_type": "code",
   "execution_count": 35,
   "metadata": {
    "collapsed": false
   },
   "outputs": [
    {
     "data": {
      "text/plain": [
       "[3, 2, 1, 4, 5]"
      ]
     },
     "execution_count": 35,
     "metadata": {},
     "output_type": "execute_result"
    }
   ],
   "source": [
    "a"
   ]
  },
  {
   "cell_type": "code",
   "execution_count": null,
   "metadata": {
    "collapsed": true
   },
   "outputs": [],
   "source": []
  }
 ],
 "metadata": {
  "anaconda-cloud": {},
  "kernelspec": {
   "display_name": "Python [Root]",
   "language": "python",
   "name": "Python [Root]"
  },
  "language_info": {
   "codemirror_mode": {
    "name": "ipython",
    "version": 3
   },
   "file_extension": ".py",
   "mimetype": "text/x-python",
   "name": "python",
   "nbconvert_exporter": "python",
   "pygments_lexer": "ipython3",
   "version": "3.5.2"
  }
 },
 "nbformat": 4,
 "nbformat_minor": 2
}
