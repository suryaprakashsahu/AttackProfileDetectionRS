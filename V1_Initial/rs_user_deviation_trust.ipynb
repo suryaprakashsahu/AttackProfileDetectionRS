{
 "cells": [
  {
   "cell_type": "markdown",
   "metadata": {
    "collapsed": false
   },
   "source": [
    "## Globals"
   ]
  },
  {
   "cell_type": "code",
   "execution_count": 8,
   "metadata": {
    "collapsed": true
   },
   "outputs": [],
   "source": [
    "import numpy as np\n",
    "no_of_users = 3\n",
    "no_of_items = 3"
   ]
  },
  {
   "cell_type": "code",
   "execution_count": 103,
   "metadata": {
    "collapsed": false
   },
   "outputs": [
    {
     "name": "stdout",
     "output_type": "stream",
     "text": [
      "Initial trust of users on one another \n",
      "[[ 1.   0.1  1. ]\n",
      " [ 0.7  1.   0.3]\n",
      " [ 1.   0.2  1. ]]\n",
      "Actual ratings of users \n",
      "[[4 5 2]\n",
      " [4 3 5]\n",
      " [5 4 5]]\n"
     ]
    }
   ],
   "source": [
    "# #get trust factors\n",
    "# trust = []\n",
    "# for i in range(no_of_users**2):\n",
    "#     temp = input()\n",
    "#     trust.append(temp)\n",
    "# print trust\n",
    "trust = [1,0.1,1,0.7,1,0.3,1,0.2,1]   #initial trust of users on one another\n",
    "trust = np.array(trust).reshape(3,3)\n",
    "print 'Initial trust of users on one another','\\n',trust\n",
    "ratings = [4,5,2,4,3,5,5,4,5]       #actual ratings of users\n",
    "ratings = np.array(ratings).reshape(3,3)\n",
    "print 'Actual ratings of users','\\n',ratings"
   ]
  },
  {
   "cell_type": "code",
   "execution_count": 104,
   "metadata": {
    "collapsed": false
   },
   "outputs": [
    {
     "name": "stdout",
     "output_type": "stream",
     "text": [
      "[[[ 1.    0.1   1.  ]\n",
      "  [ 0.7   0.1   0.03]\n",
      "  [ 1.    0.2   1.  ]]\n",
      "\n",
      " [[ 0.7   0.1   0.7 ]\n",
      "  [ 0.7   1.    0.3 ]\n",
      "  [ 0.3   0.2   0.3 ]]\n",
      "\n",
      " [[ 1.    0.1   1.  ]\n",
      "  [ 0.14  0.2   0.3 ]\n",
      "  [ 1.    0.2   1.  ]]]\n"
     ]
    }
   ],
   "source": [
    "reference_world = np.ones((no_of_users,no_of_users,no_of_users))    #matrix for storing the rating world from different person views\n",
    "# print reference_world\n",
    "for k in range(no_of_users):\n",
    "    reference_world[k] = trust\n",
    "for k in range(no_of_users):\n",
    "    for i in range(no_of_users): \n",
    "        for j in range(no_of_users):\n",
    "                if(j==k or i==k):\n",
    "                    pass\n",
    "                else:\n",
    "                    reference_world[k][i][j] = reference_world[k][i][j]*trust[k][i]\n",
    "print reference_world"
   ]
  },
  {
   "cell_type": "code",
   "execution_count": 105,
   "metadata": {
    "collapsed": false
   },
   "outputs": [
    {
     "name": "stdout",
     "output_type": "stream",
     "text": [
      "[[[ 4.   5.   2. ]\n",
      "  [ 0.4  0.3  0.5]\n",
      "  [ 5.   4.   5. ]]\n",
      "\n",
      " [[ 2.8  3.5  1.4]\n",
      "  [ 4.   3.   5. ]\n",
      "  [ 1.5  1.2  1.5]]\n",
      "\n",
      " [[ 4.   5.   2. ]\n",
      "  [ 0.8  0.6  1. ]\n",
      "  [ 5.   4.   5. ]]]\n"
     ]
    }
   ],
   "source": [
    "reference_ratings = np.zeros((no_of_users,no_of_users,no_of_items))   #matrix for storing the rating world from different person views\n",
    "for k in range(no_of_users):\n",
    "    reference_ratings[k] = ratings\n",
    "# print reference_ratings\n",
    "for k in range(no_of_users):\n",
    "    for i in range(no_of_users): \n",
    "        for j in range(no_of_items):\n",
    "                if(i==k):\n",
    "                    pass\n",
    "                else:\n",
    "                    reference_ratings[k][i][j] = reference_ratings[k][i][j]*trust[k][i]\n",
    "print reference_ratings"
   ]
  },
  {
   "cell_type": "code",
   "execution_count": 106,
   "metadata": {
    "collapsed": false
   },
   "outputs": [
    {
     "name": "stdout",
     "output_type": "stream",
     "text": [
      "[[ 1.2  1.5  0.6]\n",
      " [ 6.8  5.1  8.5]\n",
      " [ 3.5  2.8  3.5]]\n"
     ]
    }
   ],
   "source": [
    "dev_ratings = ratings*3-reference_ratings.sum(axis=0)\n",
    "print dev_ratings"
   ]
  },
  {
   "cell_type": "code",
   "execution_count": 107,
   "metadata": {
    "collapsed": false
   },
   "outputs": [
    {
     "name": "stdout",
     "output_type": "stream",
     "text": [
      "[[ 0.3   0.    0.3 ]\n",
      " [ 0.56  1.7   0.27]\n",
      " [ 0.7   0.    0.7 ]]\n"
     ]
    }
   ],
   "source": [
    "dev_trust = trust*3 - reference_world.sum(axis=0)\n",
    "print dev_trust"
   ]
  },
  {
   "cell_type": "markdown",
   "metadata": {},
   "source": [
    "### another with 5 user"
   ]
  },
  {
   "cell_type": "code",
   "execution_count": 108,
   "metadata": {
    "collapsed": true
   },
   "outputs": [],
   "source": [
    "no_of_users = 5\n",
    "no_of_items = 3"
   ]
  },
  {
   "cell_type": "code",
   "execution_count": 120,
   "metadata": {
    "collapsed": false
   },
   "outputs": [
    {
     "name": "stdout",
     "output_type": "stream",
     "text": [
      "Initial trust of users on one another \n",
      "[[ 1.   0.1  1.   0.7  0.8]\n",
      " [ 0.7  1.   0.3  0.5  0.5]\n",
      " [ 1.   0.2  1.   0.7  0.7]\n",
      " [ 0.7  0.3  0.9  1.   0.8]\n",
      " [ 0.9  0.1  0.8  0.6  0.6]]\n",
      "Actual ratings of users \n",
      "[[4 5 0]\n",
      " [0 3 5]\n",
      " [5 0 5]\n",
      " [4 4 5]\n",
      " [3 5 4]]\n"
     ]
    }
   ],
   "source": [
    "# #get trust factors\n",
    "# trust = []\n",
    "# for i in range(no_of_users**2):\n",
    "#     temp = input()\n",
    "#     trust.append(temp)\n",
    "# print trust\n",
    "trust = [1,0.1,1,0.7,0.8,0.7,1,0.3,0.5,0.5,1,0.2,1,0.7,0.7,0.7,0.3,0.9,1,0.8,0.9,0.1,0.8,0.6,0.6]   #initial trust of users on one another\n",
    "trust = np.array(trust).reshape(no_of_users,no_of_users)\n",
    "print 'Initial trust of users on one another','\\n',trust\n",
    "ratings = [4,5,0,0,3,5,5,0,5,4,4,5,3,5,4]       #actual ratings of users\n",
    "ratings = np.array(ratings).reshape(no_of_users,no_of_items)\n",
    "print 'Actual ratings of users','\\n',ratings"
   ]
  },
  {
   "cell_type": "code",
   "execution_count": 121,
   "metadata": {
    "collapsed": false
   },
   "outputs": [
    {
     "name": "stdout",
     "output_type": "stream",
     "text": [
      "[[[ 1.    0.1   1.    0.7   0.8 ]\n",
      "  [ 0.7   0.1   0.03  0.05  0.05]\n",
      "  [ 1.    0.2   1.    0.7   0.7 ]\n",
      "  [ 0.7   0.21  0.63  0.7   0.56]\n",
      "  [ 0.9   0.08  0.64  0.48  0.48]]\n",
      "\n",
      " [[ 0.7   0.1   0.7   0.49  0.56]\n",
      "  [ 0.7   1.    0.3   0.5   0.5 ]\n",
      "  [ 0.3   0.2   0.3   0.21  0.21]\n",
      "  [ 0.35  0.3   0.45  0.5   0.4 ]\n",
      "  [ 0.45  0.1   0.4   0.3   0.3 ]]\n",
      "\n",
      " [[ 1.    0.1   1.    0.7   0.8 ]\n",
      "  [ 0.14  0.2   0.3   0.1   0.1 ]\n",
      "  [ 1.    0.2   1.    0.7   0.7 ]\n",
      "  [ 0.49  0.21  0.9   0.7   0.56]\n",
      "  [ 0.63  0.07  0.8   0.42  0.42]]\n",
      "\n",
      " [[ 0.7   0.07  0.7   0.7   0.56]\n",
      "  [ 0.21  0.3   0.09  0.5   0.15]\n",
      "  [ 0.9   0.18  0.9   0.7   0.63]\n",
      "  [ 0.7   0.3   0.9   1.    0.8 ]\n",
      "  [ 0.72  0.08  0.64  0.6   0.48]]\n",
      "\n",
      " [[ 0.9   0.09  0.9   0.63  0.8 ]\n",
      "  [ 0.07  0.1   0.03  0.05  0.5 ]\n",
      "  [ 0.8   0.16  0.8   0.56  0.7 ]\n",
      "  [ 0.42  0.18  0.54  0.6   0.8 ]\n",
      "  [ 0.9   0.1   0.8   0.6   0.6 ]]]\n"
     ]
    }
   ],
   "source": [
    "reference_world = np.ones((no_of_users,no_of_users,no_of_users))    #matrix for storing the rating world from different person views\n",
    "# print reference_world\n",
    "for k in range(no_of_users):\n",
    "    reference_world[k] = trust\n",
    "for k in range(no_of_users):\n",
    "    for i in range(no_of_users): \n",
    "        for j in range(no_of_users):\n",
    "                if(j==k or i==k):\n",
    "                    pass\n",
    "                else:\n",
    "                    reference_world[k][i][j] = reference_world[k][i][j]*trust[k][i]\n",
    "print reference_world"
   ]
  },
  {
   "cell_type": "code",
   "execution_count": 122,
   "metadata": {
    "collapsed": false
   },
   "outputs": [
    {
     "name": "stdout",
     "output_type": "stream",
     "text": [
      "[[[ 4.   5.   0. ]\n",
      "  [ 0.   0.3  0.5]\n",
      "  [ 5.   0.   5. ]\n",
      "  [ 2.8  2.8  3.5]\n",
      "  [ 2.4  4.   3.2]]\n",
      "\n",
      " [[ 2.8  3.5  0. ]\n",
      "  [ 0.   3.   5. ]\n",
      "  [ 1.5  0.   1.5]\n",
      "  [ 2.   2.   2.5]\n",
      "  [ 1.5  2.5  2. ]]\n",
      "\n",
      " [[ 4.   5.   0. ]\n",
      "  [ 0.   0.6  1. ]\n",
      "  [ 5.   0.   5. ]\n",
      "  [ 2.8  2.8  3.5]\n",
      "  [ 2.1  3.5  2.8]]\n",
      "\n",
      " [[ 2.8  3.5  0. ]\n",
      "  [ 0.   0.9  1.5]\n",
      "  [ 4.5  0.   4.5]\n",
      "  [ 4.   4.   5. ]\n",
      "  [ 2.4  4.   3.2]]\n",
      "\n",
      " [[ 3.6  4.5  0. ]\n",
      "  [ 0.   0.3  0.5]\n",
      "  [ 4.   0.   4. ]\n",
      "  [ 2.4  2.4  3. ]\n",
      "  [ 3.   5.   4. ]]]\n"
     ]
    }
   ],
   "source": [
    "reference_ratings = np.zeros((no_of_users,no_of_users,no_of_items))   #matrix for storing the rating world from different person views\n",
    "for k in range(no_of_users):\n",
    "    reference_ratings[k] = ratings\n",
    "# print reference_ratings\n",
    "for k in range(no_of_users):\n",
    "    for i in range(no_of_users): \n",
    "        for j in range(no_of_items):\n",
    "                if(i==k):\n",
    "                    pass\n",
    "                else:\n",
    "                    reference_ratings[k][i][j] = reference_ratings[k][i][j]*trust[k][i]\n",
    "print reference_ratings"
   ]
  },
  {
   "cell_type": "code",
   "execution_count": 123,
   "metadata": {
    "collapsed": false
   },
   "outputs": [
    {
     "name": "stdout",
     "output_type": "stream",
     "text": [
      "[[  2.8   3.5   0. ]\n",
      " [  0.    9.9  16.5]\n",
      " [  5.    0.    5. ]\n",
      " [  6.    6.    7.5]\n",
      " [  3.6   6.    4.8]]\n"
     ]
    }
   ],
   "source": [
    "dev_ratings = ratings*no_of_users-reference_ratings.sum(axis=0)\n",
    "print dev_ratings"
   ]
  },
  {
   "cell_type": "code",
   "execution_count": 124,
   "metadata": {
    "collapsed": false
   },
   "outputs": [
    {
     "name": "stdout",
     "output_type": "stream",
     "text": [
      "[[ 0.7   0.04  0.7   0.28  0.48]\n",
      " [ 1.68  3.3   0.75  1.3   1.2 ]\n",
      " [ 1.    0.06  1.    0.63  0.56]\n",
      " [ 0.84  0.3   1.08  1.5   0.88]\n",
      " [ 0.9   0.07  0.72  0.6   0.72]]\n"
     ]
    }
   ],
   "source": [
    "dev_trust = trust*no_of_users - reference_world.sum(axis=0)\n",
    "print dev_trust"
   ]
  },
  {
   "cell_type": "markdown",
   "metadata": {
    "collapsed": true
   },
   "source": [
    "## Filmtrust data"
   ]
  },
  {
   "cell_type": "code",
   "execution_count": 23,
   "metadata": {
    "collapsed": false
   },
   "outputs": [
    {
     "name": "stdout",
     "output_type": "stream",
     "text": [
      "[[ 2.   4.   3.5 ...,  0.   0.   0. ]\n",
      " [ 0.   0.   0.  ...,  0.   0.   0. ]\n",
      " [ 0.   0.   0.  ...,  0.   0.   0. ]\n",
      " ..., \n",
      " [ 0.   0.   0.  ...,  0.   0.   0. ]\n",
      " [ 0.   4.   0.  ...,  0.   0.   0. ]\n",
      " [ 1.5  3.   2.  ...,  0.   0.   0. ]]\n"
     ]
    }
   ],
   "source": [
    "ratings = np.zeros((1508,2071))\n",
    "with open('ratings.txt','r') as f:\n",
    "    for line in f:\n",
    "        line = line.split()\n",
    "        i = int(line[0])\n",
    "        j = int(line[1])\n",
    "        ratings[i-1][j-1] = float(line[2])\n",
    "print ratings"
   ]
  },
  {
   "cell_type": "code",
   "execution_count": null,
   "metadata": {
    "collapsed": true
   },
   "outputs": [],
   "source": [
    "trust = np.zeros((1508,2071))\n",
    "with open('trust.txt','r') as f:\n",
    "    for line in f:\n",
    "        line = line.split()\n",
    "        i = int(line[0])\n",
    "        j = int(line[1])\n",
    "        ratings[i-1][j-1] = float(line[2])\n",
    "print ratings\n"
   ]
  }
 ],
 "metadata": {
  "kernelspec": {
   "display_name": "Python [Root]",
   "language": "python",
   "name": "Python [Root]"
  },
  "language_info": {
   "codemirror_mode": {
    "name": "ipython",
    "version": 2
   },
   "file_extension": ".py",
   "mimetype": "text/x-python",
   "name": "python",
   "nbconvert_exporter": "python",
   "pygments_lexer": "ipython2",
   "version": "2.7.12"
  }
 },
 "nbformat": 4,
 "nbformat_minor": 1
}
